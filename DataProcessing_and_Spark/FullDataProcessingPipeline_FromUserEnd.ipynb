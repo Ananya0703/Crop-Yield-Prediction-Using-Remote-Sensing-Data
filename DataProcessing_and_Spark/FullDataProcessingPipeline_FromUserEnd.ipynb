{
 "cells": [
  {
   "cell_type": "markdown",
   "metadata": {},
   "source": [
    "# User End Pipeline \n",
    "### - going in depth of the full preprocessing and data engineering that happens in the backend"
   ]
  },
  {
   "cell_type": "markdown",
   "metadata": {},
   "source": [
    "### Importing Libraries"
   ]
  },
  {
   "cell_type": "code",
   "execution_count": 1,
   "metadata": {},
   "outputs": [],
   "source": [
    "import os\n",
    "from netCDF4 import Dataset\n",
    "import numpy as np\n",
    "import pandas as pd \n",
    "from datetime import datetime, timedelta\n",
    "import pickle"
   ]
  },
  {
   "cell_type": "markdown",
   "metadata": {},
   "source": [
    "### NC Unpacker"
   ]
  },
  {
   "cell_type": "code",
   "execution_count": 2,
   "metadata": {},
   "outputs": [],
   "source": [
    "def unpack(path, lat_location, lon_location):\n",
    "    # data = Dataset(path, 'r')\n",
    "    try:\n",
    "        data = Dataset(path, 'r')\n",
    "    except Exception as e:\n",
    "        print(f\"An error occurred while opening the file: {str(e)}\")\n",
    "        return None  # Return None to indicate failure\n",
    "    variable_name = list(data.variables.keys())[-1]\n",
    "    # Storing the lat and lon data into the variables \n",
    "    lat = data.variables['lat'][:]\n",
    "    lon = data.variables['lon'][:]\n",
    "\n",
    "\n",
    "    # Squared difference of lat and lon \n",
    "    sq_diff_lat = (lat - lat_location)**2\n",
    "    sq_diff_lon = (lon - lon_location)**2\n",
    "\n",
    "    # Identifying the index of the minimum value for lat and lon \n",
    "    min_index_lat = sq_diff_lat.argmin()\n",
    "    min_index_lon = sq_diff_lon.argmin()\n",
    "\n",
    "    feature = data.variables[variable_name]\n",
    "\n",
    "    days = data.variables['day']\n",
    "    start_date = datetime(1900, 1, 1)  # Start date in the 1900 system\n",
    "    dates = [start_date + timedelta(days=int(day)) for day in days]\n",
    "\n",
    "\n",
    "    df = pd.DataFrame(columns=['Date', variable_name])\n",
    "    df['Date'] = dates\n",
    "  \n",
    "\n",
    "    dt = np.arange(0, data.variables['day'].size)\n",
    "    for time_index in dt:\n",
    "        # Use numpy.ma.getdata to get unmasked values\n",
    "        feature_values = feature[time_index, min_index_lat, min_index_lon]\n",
    "        \n",
    "        # Now, you can assign the unmasked values to the 'Temperature' column\n",
    "        df.at[time_index, variable_name] = feature_values\n",
    "\n",
    "    return df"
   ]
  },
  {
   "cell_type": "markdown",
   "metadata": {},
   "source": [
    "### Reading the  coordinates for the desired State"
   ]
  },
  {
   "cell_type": "code",
   "execution_count": 3,
   "metadata": {},
   "outputs": [
    {
     "data": {
      "text/html": [
       "<div>\n",
       "<style scoped>\n",
       "    .dataframe tbody tr th:only-of-type {\n",
       "        vertical-align: middle;\n",
       "    }\n",
       "\n",
       "    .dataframe tbody tr th {\n",
       "        vertical-align: top;\n",
       "    }\n",
       "\n",
       "    .dataframe thead th {\n",
       "        text-align: right;\n",
       "    }\n",
       "</style>\n",
       "<table border=\"1\" class=\"dataframe\">\n",
       "  <thead>\n",
       "    <tr style=\"text-align: right;\">\n",
       "      <th></th>\n",
       "      <th>ID</th>\n",
       "      <th>state</th>\n",
       "      <th>Latitude</th>\n",
       "      <th>Longitude</th>\n",
       "    </tr>\n",
       "  </thead>\n",
       "  <tbody>\n",
       "    <tr>\n",
       "      <th>0</th>\n",
       "      <td>0</td>\n",
       "      <td>Illinois</td>\n",
       "      <td>40.6331</td>\n",
       "      <td>-89.3985</td>\n",
       "    </tr>\n",
       "    <tr>\n",
       "      <th>1</th>\n",
       "      <td>1</td>\n",
       "      <td>Indiana</td>\n",
       "      <td>40.2672</td>\n",
       "      <td>-86.1349</td>\n",
       "    </tr>\n",
       "    <tr>\n",
       "      <th>2</th>\n",
       "      <td>2</td>\n",
       "      <td>Iowa</td>\n",
       "      <td>41.8780</td>\n",
       "      <td>-93.0977</td>\n",
       "    </tr>\n",
       "    <tr>\n",
       "      <th>3</th>\n",
       "      <td>3</td>\n",
       "      <td>Kansas</td>\n",
       "      <td>38.5266</td>\n",
       "      <td>-96.7265</td>\n",
       "    </tr>\n",
       "    <tr>\n",
       "      <th>4</th>\n",
       "      <td>4</td>\n",
       "      <td>Minnesota</td>\n",
       "      <td>46.7296</td>\n",
       "      <td>-94.6859</td>\n",
       "    </tr>\n",
       "    <tr>\n",
       "      <th>5</th>\n",
       "      <td>5</td>\n",
       "      <td>Missouri</td>\n",
       "      <td>38.5739</td>\n",
       "      <td>-92.6032</td>\n",
       "    </tr>\n",
       "    <tr>\n",
       "      <th>6</th>\n",
       "      <td>6</td>\n",
       "      <td>Nebraska</td>\n",
       "      <td>41.4925</td>\n",
       "      <td>-99.9018</td>\n",
       "    </tr>\n",
       "    <tr>\n",
       "      <th>7</th>\n",
       "      <td>7</td>\n",
       "      <td>Ohio</td>\n",
       "      <td>40.4173</td>\n",
       "      <td>-82.9071</td>\n",
       "    </tr>\n",
       "    <tr>\n",
       "      <th>8</th>\n",
       "      <td>8</td>\n",
       "      <td>South Dakota</td>\n",
       "      <td>44.3683</td>\n",
       "      <td>-100.3509</td>\n",
       "    </tr>\n",
       "    <tr>\n",
       "      <th>9</th>\n",
       "      <td>9</td>\n",
       "      <td>Wisconsin</td>\n",
       "      <td>43.7844</td>\n",
       "      <td>-88.7879</td>\n",
       "    </tr>\n",
       "    <tr>\n",
       "      <th>10</th>\n",
       "      <td>10</td>\n",
       "      <td>North Dakota</td>\n",
       "      <td>47.5289</td>\n",
       "      <td>-99.7840</td>\n",
       "    </tr>\n",
       "    <tr>\n",
       "      <th>11</th>\n",
       "      <td>11</td>\n",
       "      <td>Michigan</td>\n",
       "      <td>44.3148</td>\n",
       "      <td>-85.6024</td>\n",
       "    </tr>\n",
       "    <tr>\n",
       "      <th>12</th>\n",
       "      <td>12</td>\n",
       "      <td>Kentucky</td>\n",
       "      <td>37.8223</td>\n",
       "      <td>-85.7682</td>\n",
       "    </tr>\n",
       "  </tbody>\n",
       "</table>\n",
       "</div>"
      ],
      "text/plain": [
       "    ID         state  Latitude  Longitude\n",
       "0    0      Illinois   40.6331   -89.3985\n",
       "1    1       Indiana   40.2672   -86.1349\n",
       "2    2          Iowa   41.8780   -93.0977\n",
       "3    3        Kansas   38.5266   -96.7265\n",
       "4    4     Minnesota   46.7296   -94.6859\n",
       "5    5      Missouri   38.5739   -92.6032\n",
       "6    6      Nebraska   41.4925   -99.9018\n",
       "7    7          Ohio   40.4173   -82.9071\n",
       "8    8  South Dakota   44.3683  -100.3509\n",
       "9    9     Wisconsin   43.7844   -88.7879\n",
       "10  10  North Dakota   47.5289   -99.7840\n",
       "11  11      Michigan   44.3148   -85.6024\n",
       "12  12      Kentucky   37.8223   -85.7682"
      ]
     },
     "execution_count": 3,
     "metadata": {},
     "output_type": "execute_result"
    }
   ],
   "source": [
    "states = pd.read_csv(\"/Users/ananyagiliyal/Desktop/tester/state_coordinates.csv\")\n",
    "states"
   ]
  },
  {
   "cell_type": "code",
   "execution_count": 4,
   "metadata": {},
   "outputs": [
    {
     "data": {
      "text/plain": [
       "['Illinois',\n",
       " 'Indiana',\n",
       " 'Iowa',\n",
       " 'Kansas',\n",
       " 'Minnesota',\n",
       " 'Missouri',\n",
       " 'Nebraska',\n",
       " 'Ohio',\n",
       " 'South Dakota',\n",
       " 'Wisconsin',\n",
       " 'North Dakota',\n",
       " 'Michigan',\n",
       " 'Kentucky']"
      ]
     },
     "execution_count": 4,
     "metadata": {},
     "output_type": "execute_result"
    }
   ],
   "source": [
    "states.state.to_list()"
   ]
  },
  {
   "cell_type": "code",
   "execution_count": 5,
   "metadata": {},
   "outputs": [
    {
     "name": "stdout",
     "output_type": "stream",
     "text": [
      "Latitude: 40.6331, Longitude: -89.3985\n"
     ]
    }
   ],
   "source": [
    "user_state = input(\"Enter the state: \")\n",
    "\n",
    "# Search for the row where the 'state' column matches the user input\n",
    "result = states[states['state'] == user_state]\n",
    "\n",
    "# Check if a match was found\n",
    "if not result.empty:\n",
    "    # Extract the 'lat' and 'lon' values from the matching row\n",
    "    lat = result['Latitude'].values[0]\n",
    "    lon = result['Longitude'].values[0]\n",
    "    print(f\"Latitude: {lat}, Longitude: {lon}\")\n",
    "else:\n",
    "    print(\"State not found in the DataFrame.\")"
   ]
  },
  {
   "cell_type": "code",
   "execution_count": 6,
   "metadata": {},
   "outputs": [],
   "source": [
    "from functools import reduce\n",
    "import os\n"
   ]
  },
  {
   "cell_type": "code",
   "execution_count": 7,
   "metadata": {},
   "outputs": [],
   "source": [
    "max_temp = r\"/Users/ananyagiliyal/Desktop/tester/tester_files/tmmx_2020.nc\"\n",
    "min_temp = r\"/Users/ananyagiliyal/Desktop/tester/tester_files/tmmn_2020.nc\"\n",
    "precipitation = r\"/Users/ananyagiliyal/Desktop/tester/tester_files/pr_2020.nc\"\n",
    "max_humidity = r\"/Users/ananyagiliyal/Desktop/tester/tester_files/rmax_2020.nc\"\n",
    "min_humidity = r\"/Users/ananyagiliyal/Desktop/tester/tester_files/rmin_2020.nc\"\n",
    "near_surface_specific_humidity = r\"/Users/ananyagiliyal/Desktop/tester/tester_files/sph_2020.nc\"\n",
    "vapor_pressure_deficit = r\"/Users/ananyagiliyal/Desktop/tester/tester_files/vpd_2020.nc\"\n",
    "solar_radiation = r\"/Users/ananyagiliyal/Desktop/tester/tester_files/srad_2020.nc\"\n",
    "wind_speed = r\"/Users/ananyagiliyal/Desktop/tester/tester_files/vs_2020.nc\""
   ]
  },
  {
   "cell_type": "markdown",
   "metadata": {},
   "source": [
    "### Creating a dictionary with our file paths"
   ]
  },
  {
   "cell_type": "code",
   "execution_count": 8,
   "metadata": {},
   "outputs": [],
   "source": [
    "path_dict = {\n",
    "    \"max_temp\":max_temp,\n",
    "    \"min_temp\":min_temp,\n",
    "    \"precipitation\":precipitation,\n",
    "    \"max_humidity\":max_humidity,\n",
    "    \"min_humidity\":min_humidity,\n",
    "    \"near_surface_specific_humidity\":near_surface_specific_humidity,\n",
    "    \"vapor_pressure_deficit\":vapor_pressure_deficit,\n",
    "    \"solar_radiation\":solar_radiation,\n",
    "    \"wind_speed\":wind_speed\n",
    "}"
   ]
  },
  {
   "cell_type": "markdown",
   "metadata": {},
   "source": [
    "### Unpack and Concatenate to get daily weather dataframe"
   ]
  },
  {
   "cell_type": "code",
   "execution_count": 9,
   "metadata": {},
   "outputs": [],
   "source": [
    "dfs =[]\n",
    "\n",
    "for variable,filepath in path_dict.items():\n",
    "    df = unpack(filepath,lat,lon)\n",
    "    df.rename(columns={df.columns[1]: variable}, inplace=True)\n",
    "    dfs.append(df)\n",
    "def merge_dataframes(df1, df2):\n",
    "    return pd.merge(df1, df2, on=\"Date\", how=\"outer\") \n",
    "combined_df = reduce(merge_dataframes, dfs)"
   ]
  },
  {
   "cell_type": "code",
   "execution_count": 10,
   "metadata": {},
   "outputs": [
    {
     "data": {
      "text/html": [
       "<div>\n",
       "<style scoped>\n",
       "    .dataframe tbody tr th:only-of-type {\n",
       "        vertical-align: middle;\n",
       "    }\n",
       "\n",
       "    .dataframe tbody tr th {\n",
       "        vertical-align: top;\n",
       "    }\n",
       "\n",
       "    .dataframe thead th {\n",
       "        text-align: right;\n",
       "    }\n",
       "</style>\n",
       "<table border=\"1\" class=\"dataframe\">\n",
       "  <thead>\n",
       "    <tr style=\"text-align: right;\">\n",
       "      <th></th>\n",
       "      <th>Date</th>\n",
       "      <th>max_temp</th>\n",
       "      <th>min_temp</th>\n",
       "      <th>precipitation</th>\n",
       "      <th>max_humidity</th>\n",
       "      <th>min_humidity</th>\n",
       "      <th>near_surface_specific_humidity</th>\n",
       "      <th>vapor_pressure_deficit</th>\n",
       "      <th>solar_radiation</th>\n",
       "      <th>wind_speed</th>\n",
       "    </tr>\n",
       "  </thead>\n",
       "  <tbody>\n",
       "    <tr>\n",
       "      <th>0</th>\n",
       "      <td>2020-01-01</td>\n",
       "      <td>281.9</td>\n",
       "      <td>268.8</td>\n",
       "      <td>0.0</td>\n",
       "      <td>95.9</td>\n",
       "      <td>39.7</td>\n",
       "      <td>0.0029</td>\n",
       "      <td>0.33</td>\n",
       "      <td>101.2</td>\n",
       "      <td>6.6</td>\n",
       "    </tr>\n",
       "    <tr>\n",
       "      <th>1</th>\n",
       "      <td>2020-01-02</td>\n",
       "      <td>283.1</td>\n",
       "      <td>273.8</td>\n",
       "      <td>0.0</td>\n",
       "      <td>97.5</td>\n",
       "      <td>54.9</td>\n",
       "      <td>0.00425</td>\n",
       "      <td>0.26</td>\n",
       "      <td>94.2</td>\n",
       "      <td>5.4</td>\n",
       "    </tr>\n",
       "    <tr>\n",
       "      <th>2</th>\n",
       "      <td>2020-01-03</td>\n",
       "      <td>276.2</td>\n",
       "      <td>272.9</td>\n",
       "      <td>2.5</td>\n",
       "      <td>93.0</td>\n",
       "      <td>81.0</td>\n",
       "      <td>0.0038</td>\n",
       "      <td>0.08</td>\n",
       "      <td>74.4</td>\n",
       "      <td>2.5</td>\n",
       "    </tr>\n",
       "    <tr>\n",
       "      <th>3</th>\n",
       "      <td>2020-01-04</td>\n",
       "      <td>274.5</td>\n",
       "      <td>267.7</td>\n",
       "      <td>0.0</td>\n",
       "      <td>100.0</td>\n",
       "      <td>75.6</td>\n",
       "      <td>0.00315</td>\n",
       "      <td>0.04</td>\n",
       "      <td>56.0</td>\n",
       "      <td>4.3</td>\n",
       "    </tr>\n",
       "    <tr>\n",
       "      <th>4</th>\n",
       "      <td>2020-01-05</td>\n",
       "      <td>282.4</td>\n",
       "      <td>269.3</td>\n",
       "      <td>0.0</td>\n",
       "      <td>91.8</td>\n",
       "      <td>37.9</td>\n",
       "      <td>0.00288</td>\n",
       "      <td>0.36</td>\n",
       "      <td>91.6</td>\n",
       "      <td>6.4</td>\n",
       "    </tr>\n",
       "    <tr>\n",
       "      <th>...</th>\n",
       "      <td>...</td>\n",
       "      <td>...</td>\n",
       "      <td>...</td>\n",
       "      <td>...</td>\n",
       "      <td>...</td>\n",
       "      <td>...</td>\n",
       "      <td>...</td>\n",
       "      <td>...</td>\n",
       "      <td>...</td>\n",
       "      <td>...</td>\n",
       "    </tr>\n",
       "    <tr>\n",
       "      <th>361</th>\n",
       "      <td>2020-12-27</td>\n",
       "      <td>283.8</td>\n",
       "      <td>269.4</td>\n",
       "      <td>0.0</td>\n",
       "      <td>100.0</td>\n",
       "      <td>34.2</td>\n",
       "      <td>0.00312</td>\n",
       "      <td>0.38</td>\n",
       "      <td>84.2</td>\n",
       "      <td>6.1</td>\n",
       "    </tr>\n",
       "    <tr>\n",
       "      <th>362</th>\n",
       "      <td>2020-12-28</td>\n",
       "      <td>272.4</td>\n",
       "      <td>263.7</td>\n",
       "      <td>0.0</td>\n",
       "      <td>100.0</td>\n",
       "      <td>57.4</td>\n",
       "      <td>0.00219</td>\n",
       "      <td>0.09</td>\n",
       "      <td>72.6</td>\n",
       "      <td>4.4</td>\n",
       "    </tr>\n",
       "    <tr>\n",
       "      <th>363</th>\n",
       "      <td>2020-12-29</td>\n",
       "      <td>276.8</td>\n",
       "      <td>266.3</td>\n",
       "      <td>11.4</td>\n",
       "      <td>87.2</td>\n",
       "      <td>37.9</td>\n",
       "      <td>0.0021</td>\n",
       "      <td>0.25</td>\n",
       "      <td>44.9</td>\n",
       "      <td>5.3</td>\n",
       "    </tr>\n",
       "    <tr>\n",
       "      <th>364</th>\n",
       "      <td>2020-12-30</td>\n",
       "      <td>276.2</td>\n",
       "      <td>267.0</td>\n",
       "      <td>0.0</td>\n",
       "      <td>100.0</td>\n",
       "      <td>61.1</td>\n",
       "      <td>0.00305</td>\n",
       "      <td>0.09</td>\n",
       "      <td>79.1</td>\n",
       "      <td>6.1</td>\n",
       "    </tr>\n",
       "    <tr>\n",
       "      <th>365</th>\n",
       "      <td>2020-12-31</td>\n",
       "      <td>271.9</td>\n",
       "      <td>266.7</td>\n",
       "      <td>0.0</td>\n",
       "      <td>80.9</td>\n",
       "      <td>59.9</td>\n",
       "      <td>0.00209</td>\n",
       "      <td>0.14</td>\n",
       "      <td>95.3</td>\n",
       "      <td>2.5</td>\n",
       "    </tr>\n",
       "  </tbody>\n",
       "</table>\n",
       "<p>366 rows × 10 columns</p>\n",
       "</div>"
      ],
      "text/plain": [
       "          Date max_temp min_temp precipitation max_humidity min_humidity  \\\n",
       "0   2020-01-01    281.9    268.8           0.0         95.9         39.7   \n",
       "1   2020-01-02    283.1    273.8           0.0         97.5         54.9   \n",
       "2   2020-01-03    276.2    272.9           2.5         93.0         81.0   \n",
       "3   2020-01-04    274.5    267.7           0.0        100.0         75.6   \n",
       "4   2020-01-05    282.4    269.3           0.0         91.8         37.9   \n",
       "..         ...      ...      ...           ...          ...          ...   \n",
       "361 2020-12-27    283.8    269.4           0.0        100.0         34.2   \n",
       "362 2020-12-28    272.4    263.7           0.0        100.0         57.4   \n",
       "363 2020-12-29    276.8    266.3          11.4         87.2         37.9   \n",
       "364 2020-12-30    276.2    267.0           0.0        100.0         61.1   \n",
       "365 2020-12-31    271.9    266.7           0.0         80.9         59.9   \n",
       "\n",
       "    near_surface_specific_humidity vapor_pressure_deficit solar_radiation  \\\n",
       "0                           0.0029                   0.33           101.2   \n",
       "1                          0.00425                   0.26            94.2   \n",
       "2                           0.0038                   0.08            74.4   \n",
       "3                          0.00315                   0.04            56.0   \n",
       "4                          0.00288                   0.36            91.6   \n",
       "..                             ...                    ...             ...   \n",
       "361                        0.00312                   0.38            84.2   \n",
       "362                        0.00219                   0.09            72.6   \n",
       "363                         0.0021                   0.25            44.9   \n",
       "364                        0.00305                   0.09            79.1   \n",
       "365                        0.00209                   0.14            95.3   \n",
       "\n",
       "    wind_speed  \n",
       "0          6.6  \n",
       "1          5.4  \n",
       "2          2.5  \n",
       "3          4.3  \n",
       "4          6.4  \n",
       "..         ...  \n",
       "361        6.1  \n",
       "362        4.4  \n",
       "363        5.3  \n",
       "364        6.1  \n",
       "365        2.5  \n",
       "\n",
       "[366 rows x 10 columns]"
      ]
     },
     "execution_count": 10,
     "metadata": {},
     "output_type": "execute_result"
    }
   ],
   "source": [
    "combined_df"
   ]
  },
  {
   "cell_type": "code",
   "execution_count": 11,
   "metadata": {},
   "outputs": [
    {
     "data": {
      "text/plain": [
       "Index(['Date', 'max_temp', 'min_temp', 'precipitation', 'max_humidity',\n",
       "       'min_humidity', 'near_surface_specific_humidity',\n",
       "       'vapor_pressure_deficit', 'solar_radiation', 'wind_speed'],\n",
       "      dtype='object')"
      ]
     },
     "execution_count": 11,
     "metadata": {},
     "output_type": "execute_result"
    }
   ],
   "source": [
    "combined_df.columns"
   ]
  },
  {
   "cell_type": "code",
   "execution_count": 12,
   "metadata": {},
   "outputs": [
    {
     "name": "stdout",
     "output_type": "stream",
     "text": [
      "<class 'pandas.core.series.Series'>\n",
      "Int64Index: 366 entries, 0 to 365\n",
      "Series name: Date\n",
      "Non-Null Count  Dtype         \n",
      "--------------  -----         \n",
      "366 non-null    datetime64[ns]\n",
      "dtypes: datetime64[ns](1)\n",
      "memory usage: 5.7 KB\n"
     ]
    }
   ],
   "source": [
    "combined_df.Date.info()"
   ]
  },
  {
   "cell_type": "markdown",
   "metadata": {},
   "source": [
    "### Transforming our daily data into weekly feature columns"
   ]
  },
  {
   "cell_type": "code",
   "execution_count": 13,
   "metadata": {},
   "outputs": [],
   "source": [
    "combined_df['Year'] = combined_df['Date'].dt.year\n",
    "combined_df['Week'] = (combined_df['Date'].dt.strftime('%W').astype(int) + 1).astype(str)\n",
    "df_grouped =combined_df.groupby(['Year', 'Week']).agg({'min_humidity': 'mean', 'max_humidity': 'mean','min_temp': 'mean', 'max_temp': 'mean','vapor_pressure_deficit': 'mean', 'near_surface_specific_humidity': 'mean','precipitation': 'mean', 'solar_radiation': 'mean','wind_speed':'mean'}).reset_index()\n",
    "\n",
    "pivot_table = df_grouped.pivot_table(index=['Year'], columns='Week', values=['min_humidity', 'max_humidity','min_temp','max_temp','vapor_pressure_deficit','near_surface_specific_humidity','precipitation','solar_radiation','wind_speed']).reset_index()\n",
    "pivot_table.columns = [' '.join(col).strip() for col in pivot_table.columns.values]\n"
   ]
  },
  {
   "cell_type": "code",
   "execution_count": 14,
   "metadata": {},
   "outputs": [
    {
     "data": {
      "text/html": [
       "<div>\n",
       "<style scoped>\n",
       "    .dataframe tbody tr th:only-of-type {\n",
       "        vertical-align: middle;\n",
       "    }\n",
       "\n",
       "    .dataframe tbody tr th {\n",
       "        vertical-align: top;\n",
       "    }\n",
       "\n",
       "    .dataframe thead th {\n",
       "        text-align: right;\n",
       "    }\n",
       "</style>\n",
       "<table border=\"1\" class=\"dataframe\">\n",
       "  <thead>\n",
       "    <tr style=\"text-align: right;\">\n",
       "      <th></th>\n",
       "      <th>Year</th>\n",
       "      <th>max_humidity 1</th>\n",
       "      <th>max_humidity 10</th>\n",
       "      <th>max_humidity 11</th>\n",
       "      <th>max_humidity 12</th>\n",
       "      <th>max_humidity 13</th>\n",
       "      <th>max_humidity 14</th>\n",
       "      <th>max_humidity 15</th>\n",
       "      <th>max_humidity 16</th>\n",
       "      <th>max_humidity 17</th>\n",
       "      <th>...</th>\n",
       "      <th>wind_speed 49</th>\n",
       "      <th>wind_speed 5</th>\n",
       "      <th>wind_speed 50</th>\n",
       "      <th>wind_speed 51</th>\n",
       "      <th>wind_speed 52</th>\n",
       "      <th>wind_speed 53</th>\n",
       "      <th>wind_speed 6</th>\n",
       "      <th>wind_speed 7</th>\n",
       "      <th>wind_speed 8</th>\n",
       "      <th>wind_speed 9</th>\n",
       "    </tr>\n",
       "  </thead>\n",
       "  <tbody>\n",
       "    <tr>\n",
       "      <th>0</th>\n",
       "      <td>2020</td>\n",
       "      <td>95.64</td>\n",
       "      <td>81.471429</td>\n",
       "      <td>87.514286</td>\n",
       "      <td>88.2</td>\n",
       "      <td>99.0</td>\n",
       "      <td>86.542857</td>\n",
       "      <td>86.6</td>\n",
       "      <td>79.342857</td>\n",
       "      <td>83.342857</td>\n",
       "      <td>...</td>\n",
       "      <td>3.657143</td>\n",
       "      <td>2.942857</td>\n",
       "      <td>3.1</td>\n",
       "      <td>3.914286</td>\n",
       "      <td>6.571429</td>\n",
       "      <td>4.575</td>\n",
       "      <td>4.785714</td>\n",
       "      <td>4.185714</td>\n",
       "      <td>4.785714</td>\n",
       "      <td>5.671429</td>\n",
       "    </tr>\n",
       "  </tbody>\n",
       "</table>\n",
       "<p>1 rows × 478 columns</p>\n",
       "</div>"
      ],
      "text/plain": [
       "   Year  max_humidity 1  max_humidity 10  max_humidity 11  max_humidity 12  \\\n",
       "0  2020           95.64        81.471429        87.514286             88.2   \n",
       "\n",
       "   max_humidity 13  max_humidity 14  max_humidity 15  max_humidity 16  \\\n",
       "0             99.0        86.542857             86.6        79.342857   \n",
       "\n",
       "   max_humidity 17  ...  wind_speed 49  wind_speed 5  wind_speed 50  \\\n",
       "0        83.342857  ...       3.657143      2.942857            3.1   \n",
       "\n",
       "   wind_speed 51  wind_speed 52  wind_speed 53  wind_speed 6  wind_speed 7  \\\n",
       "0       3.914286       6.571429          4.575      4.785714      4.185714   \n",
       "\n",
       "   wind_speed 8  wind_speed 9  \n",
       "0      4.785714      5.671429  \n",
       "\n",
       "[1 rows x 478 columns]"
      ]
     },
     "execution_count": 14,
     "metadata": {},
     "output_type": "execute_result"
    }
   ],
   "source": [
    "pivot_table"
   ]
  },
  {
   "cell_type": "code",
   "execution_count": 15,
   "metadata": {},
   "outputs": [
    {
     "data": {
      "text/plain": [
       "0    95.64\n",
       "Name: max_humidity 1, dtype: float64"
      ]
     },
     "execution_count": 15,
     "metadata": {},
     "output_type": "execute_result"
    }
   ],
   "source": [
    "pivot_table['max_humidity 1']"
   ]
  },
  {
   "cell_type": "code",
   "execution_count": 16,
   "metadata": {},
   "outputs": [
    {
     "data": {
      "text/html": [
       "<div>\n",
       "<style scoped>\n",
       "    .dataframe tbody tr th:only-of-type {\n",
       "        vertical-align: middle;\n",
       "    }\n",
       "\n",
       "    .dataframe tbody tr th {\n",
       "        vertical-align: top;\n",
       "    }\n",
       "\n",
       "    .dataframe thead th {\n",
       "        text-align: right;\n",
       "    }\n",
       "</style>\n",
       "<table border=\"1\" class=\"dataframe\">\n",
       "  <thead>\n",
       "    <tr style=\"text-align: right;\">\n",
       "      <th></th>\n",
       "      <th>Year</th>\n",
       "      <th>max_humidity 22</th>\n",
       "      <th>max_humidity 23</th>\n",
       "      <th>max_humidity 24</th>\n",
       "      <th>max_humidity 25</th>\n",
       "      <th>max_humidity 26</th>\n",
       "      <th>max_humidity 27</th>\n",
       "      <th>max_humidity 28</th>\n",
       "      <th>max_humidity 29</th>\n",
       "      <th>max_humidity 30</th>\n",
       "      <th>...</th>\n",
       "      <th>wind_speed 43</th>\n",
       "      <th>wind_speed 44</th>\n",
       "      <th>wind_speed 45</th>\n",
       "      <th>wind_speed 46</th>\n",
       "      <th>wind_speed 47</th>\n",
       "      <th>wind_speed 48</th>\n",
       "      <th>wind_speed 49</th>\n",
       "      <th>wind_speed 50</th>\n",
       "      <th>wind_speed 51</th>\n",
       "      <th>wind_speed 52</th>\n",
       "    </tr>\n",
       "  </thead>\n",
       "  <tbody>\n",
       "    <tr>\n",
       "      <th>0</th>\n",
       "      <td>2020</td>\n",
       "      <td>86.042857</td>\n",
       "      <td>85.171429</td>\n",
       "      <td>83.4</td>\n",
       "      <td>84.7</td>\n",
       "      <td>87.357143</td>\n",
       "      <td>94.028571</td>\n",
       "      <td>96.371429</td>\n",
       "      <td>92.985714</td>\n",
       "      <td>92.414286</td>\n",
       "      <td>...</td>\n",
       "      <td>4.7</td>\n",
       "      <td>4.542857</td>\n",
       "      <td>5.171429</td>\n",
       "      <td>6.285714</td>\n",
       "      <td>5.528571</td>\n",
       "      <td>4.028571</td>\n",
       "      <td>3.657143</td>\n",
       "      <td>3.1</td>\n",
       "      <td>3.914286</td>\n",
       "      <td>6.571429</td>\n",
       "    </tr>\n",
       "  </tbody>\n",
       "</table>\n",
       "<p>1 rows × 280 columns</p>\n",
       "</div>"
      ],
      "text/plain": [
       "   Year  max_humidity 22  max_humidity 23  max_humidity 24  max_humidity 25  \\\n",
       "0  2020        86.042857        85.171429             83.4             84.7   \n",
       "\n",
       "   max_humidity 26  max_humidity 27  max_humidity 28  max_humidity 29  \\\n",
       "0        87.357143        94.028571        96.371429        92.985714   \n",
       "\n",
       "   max_humidity 30  ...  wind_speed 43  wind_speed 44  wind_speed 45  \\\n",
       "0        92.414286  ...            4.7       4.542857       5.171429   \n",
       "\n",
       "   wind_speed 46  wind_speed 47  wind_speed 48  wind_speed 49  wind_speed 50  \\\n",
       "0       6.285714       5.528571       4.028571       3.657143            3.1   \n",
       "\n",
       "   wind_speed 51  wind_speed 52  \n",
       "0       3.914286       6.571429  \n",
       "\n",
       "[1 rows x 280 columns]"
      ]
     },
     "execution_count": 16,
     "metadata": {},
     "output_type": "execute_result"
    }
   ],
   "source": [
    "variables = ['min_humidity', 'max_humidity', 'min_temp', 'max_temp', 'vapor_pressure_deficit', \n",
    "             'near_surface_specific_humidity', 'precipitation', 'solar_radiation', 'wind_speed']\n",
    "\n",
    "columns_to_drop = []\n",
    "\n",
    "for var in variables:\n",
    "    columns_to_drop.extend(['{} {}'.format(var, i) for i in range(1, 22)])\n",
    "    columns_to_drop.append(var+' 53')\n",
    "# Drop the columns from the dataframe\n",
    "df_corn = pivot_table.drop(columns=columns_to_drop)\n",
    "df_corn\n"
   ]
  },
  {
   "cell_type": "code",
   "execution_count": 17,
   "metadata": {},
   "outputs": [
    {
     "data": {
      "text/html": [
       "<div>\n",
       "<style scoped>\n",
       "    .dataframe tbody tr th:only-of-type {\n",
       "        vertical-align: middle;\n",
       "    }\n",
       "\n",
       "    .dataframe tbody tr th {\n",
       "        vertical-align: top;\n",
       "    }\n",
       "\n",
       "    .dataframe thead th {\n",
       "        text-align: right;\n",
       "    }\n",
       "</style>\n",
       "<table border=\"1\" class=\"dataframe\">\n",
       "  <thead>\n",
       "    <tr style=\"text-align: right;\">\n",
       "      <th></th>\n",
       "      <th>max_humidity 22</th>\n",
       "      <th>max_humidity 23</th>\n",
       "      <th>max_humidity 24</th>\n",
       "      <th>max_humidity 25</th>\n",
       "      <th>max_humidity 26</th>\n",
       "      <th>max_humidity 27</th>\n",
       "      <th>max_humidity 28</th>\n",
       "      <th>max_humidity 29</th>\n",
       "      <th>max_humidity 30</th>\n",
       "      <th>max_humidity 31</th>\n",
       "      <th>...</th>\n",
       "      <th>wind_speed 43</th>\n",
       "      <th>wind_speed 44</th>\n",
       "      <th>wind_speed 45</th>\n",
       "      <th>wind_speed 46</th>\n",
       "      <th>wind_speed 47</th>\n",
       "      <th>wind_speed 48</th>\n",
       "      <th>wind_speed 49</th>\n",
       "      <th>wind_speed 50</th>\n",
       "      <th>wind_speed 51</th>\n",
       "      <th>wind_speed 52</th>\n",
       "    </tr>\n",
       "  </thead>\n",
       "  <tbody>\n",
       "    <tr>\n",
       "      <th>0</th>\n",
       "      <td>86.042857</td>\n",
       "      <td>85.171429</td>\n",
       "      <td>83.4</td>\n",
       "      <td>84.7</td>\n",
       "      <td>87.357143</td>\n",
       "      <td>94.028571</td>\n",
       "      <td>96.371429</td>\n",
       "      <td>92.985714</td>\n",
       "      <td>92.414286</td>\n",
       "      <td>93.385714</td>\n",
       "      <td>...</td>\n",
       "      <td>4.7</td>\n",
       "      <td>4.542857</td>\n",
       "      <td>5.171429</td>\n",
       "      <td>6.285714</td>\n",
       "      <td>5.528571</td>\n",
       "      <td>4.028571</td>\n",
       "      <td>3.657143</td>\n",
       "      <td>3.1</td>\n",
       "      <td>3.914286</td>\n",
       "      <td>6.571429</td>\n",
       "    </tr>\n",
       "  </tbody>\n",
       "</table>\n",
       "<p>1 rows × 279 columns</p>\n",
       "</div>"
      ],
      "text/plain": [
       "   max_humidity 22  max_humidity 23  max_humidity 24  max_humidity 25  \\\n",
       "0        86.042857        85.171429             83.4             84.7   \n",
       "\n",
       "   max_humidity 26  max_humidity 27  max_humidity 28  max_humidity 29  \\\n",
       "0        87.357143        94.028571        96.371429        92.985714   \n",
       "\n",
       "   max_humidity 30  max_humidity 31  ...  wind_speed 43  wind_speed 44  \\\n",
       "0        92.414286        93.385714  ...            4.7       4.542857   \n",
       "\n",
       "   wind_speed 45  wind_speed 46  wind_speed 47  wind_speed 48  wind_speed 49  \\\n",
       "0       5.171429       6.285714       5.528571       4.028571       3.657143   \n",
       "\n",
       "   wind_speed 50  wind_speed 51  wind_speed 52  \n",
       "0            3.1       3.914286       6.571429  \n",
       "\n",
       "[1 rows x 279 columns]"
      ]
     },
     "execution_count": 17,
     "metadata": {},
     "output_type": "execute_result"
    }
   ],
   "source": [
    "features = df_corn.drop(columns=['Year'],axis=1)\n",
    "features"
   ]
  },
  {
   "cell_type": "markdown",
   "metadata": {},
   "source": [
    "### Now the data is ready to be sent as input to the model !"
   ]
  },
  {
   "cell_type": "code",
   "execution_count": 20,
   "metadata": {},
   "outputs": [],
   "source": [
    "import joblib"
   ]
  },
  {
   "cell_type": "code",
   "execution_count": 21,
   "metadata": {},
   "outputs": [],
   "source": [
    "model = joblib.load('/Users/ananyagiliyal/Desktop/tester/Corn_Models/CatBoostRegressorCorn_best_model.joblib')\n"
   ]
  },
  {
   "cell_type": "code",
   "execution_count": 22,
   "metadata": {},
   "outputs": [],
   "source": [
    "weather_data = features.values"
   ]
  },
  {
   "cell_type": "code",
   "execution_count": 23,
   "metadata": {},
   "outputs": [
    {
     "data": {
      "text/plain": [
       "(1, 279)"
      ]
     },
     "execution_count": 23,
     "metadata": {},
     "output_type": "execute_result"
    }
   ],
   "source": [
    "weather_data.shape"
   ]
  },
  {
   "cell_type": "code",
   "execution_count": 24,
   "metadata": {},
   "outputs": [],
   "source": [
    "predicted_yield = model.predict(weather_data)\n"
   ]
  },
  {
   "cell_type": "code",
   "execution_count": 25,
   "metadata": {},
   "outputs": [
    {
     "name": "stdout",
     "output_type": "stream",
     "text": [
      "Predicted corn yield: 190.56151023039934\n"
     ]
    }
   ],
   "source": [
    "predicted_yield\n",
    "print(f\"Predicted corn yield: {predicted_yield[0]}\")"
   ]
  },
  {
   "cell_type": "code",
   "execution_count": null,
   "metadata": {},
   "outputs": [],
   "source": []
  },
  {
   "cell_type": "markdown",
   "metadata": {},
   "source": []
  }
 ],
 "metadata": {
  "kernelspec": {
   "display_name": "pyspark",
   "language": "python",
   "name": "python3"
  },
  "language_info": {
   "codemirror_mode": {
    "name": "ipython",
    "version": 3
   },
   "file_extension": ".py",
   "mimetype": "text/x-python",
   "name": "python",
   "nbconvert_exporter": "python",
   "pygments_lexer": "ipython3",
   "version": "3.10.9"
  }
 },
 "nbformat": 4,
 "nbformat_minor": 2
}
