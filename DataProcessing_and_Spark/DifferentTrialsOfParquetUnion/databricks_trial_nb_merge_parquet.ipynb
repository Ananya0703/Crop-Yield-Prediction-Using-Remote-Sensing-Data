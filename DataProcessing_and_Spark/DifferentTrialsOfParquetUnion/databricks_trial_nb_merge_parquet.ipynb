{
 "cells": [
  {
   "cell_type": "code",
   "execution_count": 0,
   "metadata": {
    "application/vnd.databricks.v1+cell": {
     "cellMetadata": {
      "byteLimit": 2048000,
      "rowLimit": 10000
     },
     "inputWidgets": {},
     "nuid": "9e2f82ea-6ffd-445d-8aca-98d9d4cadc14",
     "showTitle": false,
     "title": ""
    }
   },
   "outputs": [
    {
     "output_type": "stream",
     "name": "stderr",
     "output_type": "stream",
     "text": [
      "unzip:  cannot find or open dbfs:/FileStore/shared_uploads/giliyal.ananya@gmail.com/dbfs_upload.zip, dbfs:/FileStore/shared_uploads/giliyal.ananya@gmail.com/dbfs_upload.zip.zip or dbfs:/FileStore/shared_uploads/giliyal.ananya@gmail.com/dbfs_upload.zip.ZIP.\n"
     ]
    }
   ],
   "source": [
    "%sh\n",
    "unzip \"dbfs:/FileStore/shared_uploads/giliyal.ananya@gmail.com/dbfs_upload.zip\""
   ]
  },
  {
   "cell_type": "code",
   "execution_count": 0,
   "metadata": {
    "application/vnd.databricks.v1+cell": {
     "cellMetadata": {
      "byteLimit": 2048000,
      "rowLimit": 10000
     },
     "inputWidgets": {},
     "nuid": "cc3f9ae5-9d61-4378-b6d3-9db96a83e7d9",
     "showTitle": false,
     "title": ""
    }
   },
   "outputs": [
    {
     "output_type": "execute_result",
     "data": {
      "text/plain": [
       "True"
      ]
     },
     "execution_count": 3,
     "metadata": {},
     "output_type": "execute_result"
    }
   ],
   "source": [
    "dbutils.fs.mkdirs(\"dbfs:/FileStore/shared_uploads/giliyala732@gmail.com/min_air_temperature_data\")\n",
    "\n",
    "\n",
    "dbutils.fs.mv(\"dbfs:/FileStore/shared_uploads/giliyal.ananya@gmail.com/min_air_temperature_1993_1097\", \"dbfs:/FileStore/shared_uploads/giliyal.ananya@gmail.com/min_air_temperature_data/min_air_temperature_1993_1097\")\n",
    "dbutils.fs.mv(\"dbfs:/FileStore/shared_uploads/giliyal.ananya@gmail.com/min_air_temperature_1993_1098\", \"dbfs:/FileStore/shared_uploads/giliyal.ananya@gmail.com/min_air_temperature_data/min_air_temperature_1993_1098\")\n",
    "dbutils.fs.mv(\"dbfs:/FileStore/shared_uploads/giliyal.ananya@gmail.com/min_air_temperature_1993_1099\", \"dbfs:/FileStore/shared_uploads/giliyal.ananya@gmail.com/min_air_temperature_data/min_air_temperature_1993_1099\")\n",
    "dbutils.fs.mv(\"dbfs:/FileStore/shared_uploads/giliyal.ananya@gmail.com/min_air_temperature_1993_1100\", \"dbfs:/FileStore/shared_uploads/giliyal.ananya@gmail.com/min_air_temperature_data/min_air_temperature_1993_1100\")\n",
    "dbutils.fs.mv(\"dbfs:/FileStore/shared_uploads/giliyal.ananya@gmail.com/min_air_temperature_1993_1101\", \"dbfs:/FileStore/shared_uploads/giliyal.ananya@gmail.com/min_air_temperature_data/min_air_temperature_1993_1101\")\n"
   ]
  },
  {
   "cell_type": "code",
   "execution_count": 0,
   "metadata": {
    "application/vnd.databricks.v1+cell": {
     "cellMetadata": {},
     "inputWidgets": {},
     "nuid": "d86291d4-b335-4f5b-9286-24ef2659418e",
     "showTitle": false,
     "title": ""
    }
   },
   "outputs": [],
   "source": []
  },
  {
   "cell_type": "code",
   "execution_count": 0,
   "metadata": {
    "application/vnd.databricks.v1+cell": {
     "cellMetadata": {
      "byteLimit": 2048000,
      "rowLimit": 10000
     },
     "inputWidgets": {},
     "nuid": "f262c932-0647-43ff-81fb-d93d8f7a0573",
     "showTitle": false,
     "title": ""
    }
   },
   "outputs": [],
   "source": [
    "df = spark.read.parquet(\"dbfs:/FileStore/shared_uploads/giliyal.ananya@gmail.com/min_air_temperature_data\").drop('__index_level_0__')"
   ]
  },
  {
   "cell_type": "code",
   "execution_count": 0,
   "metadata": {
    "application/vnd.databricks.v1+cell": {
     "cellMetadata": {
      "byteLimit": 2048000,
      "rowLimit": 10000
     },
     "inputWidgets": {},
     "nuid": "9c7a2362-e4c4-4033-8372-c76c53328f6e",
     "showTitle": false,
     "title": ""
    }
   },
   "outputs": [
    {
     "output_type": "stream",
     "name": "stdout",
     "output_type": "stream",
     "text": [
      "+-------------------+---------------+----+\n|               Date|air_temperature|  ID|\n+-------------------+---------------+----+\n|1993-01-01 00:00:00|          251.3|1100|\n|1993-01-02 00:00:00|          259.8|1100|\n|1993-01-03 00:00:00|          261.5|1100|\n|1993-01-04 00:00:00|          257.0|1100|\n|1993-01-05 00:00:00|          255.5|1100|\n|1993-01-06 00:00:00|          253.3|1100|\n|1993-01-07 00:00:00|          254.3|1100|\n|1993-01-08 00:00:00|          254.2|1100|\n|1993-01-09 00:00:00|          256.3|1100|\n|1993-01-10 00:00:00|          255.3|1100|\n|1993-01-11 00:00:00|          259.2|1100|\n|1993-01-12 00:00:00|          261.7|1100|\n|1993-01-13 00:00:00|          259.2|1100|\n|1993-01-14 00:00:00|          255.1|1100|\n|1993-01-15 00:00:00|          253.7|1100|\n|1993-01-16 00:00:00|          255.0|1100|\n|1993-01-17 00:00:00|          252.5|1100|\n|1993-01-18 00:00:00|          258.3|1100|\n|1993-01-19 00:00:00|          260.5|1100|\n|1993-01-20 00:00:00|          259.3|1100|\n+-------------------+---------------+----+\nonly showing top 20 rows\n\n"
     ]
    }
   ],
   "source": [
    "df.show()"
   ]
  },
  {
   "cell_type": "code",
   "execution_count": 0,
   "metadata": {
    "application/vnd.databricks.v1+cell": {
     "cellMetadata": {},
     "inputWidgets": {},
     "nuid": "e34c1340-65f8-4ae9-afdf-c59ab9cda1ac",
     "showTitle": false,
     "title": ""
    }
   },
   "outputs": [],
   "source": []
  },
  {
   "cell_type": "code",
   "execution_count": 0,
   "metadata": {
    "application/vnd.databricks.v1+cell": {
     "cellMetadata": {},
     "inputWidgets": {},
     "nuid": "57d99a1b-186d-4ae6-92ab-277d45944662",
     "showTitle": false,
     "title": ""
    }
   },
   "outputs": [],
   "source": [
    "dbfs:/FileStore/shared_uploads/giliyal.ananya@gmail.com/min_air_temperature_1993_1097\n",
    "dbfs:/FileStore/shared_uploads/giliyal.ananya@gmail.com/min_air_temperature_1993_1098\n",
    "dbfs:/FileStore/shared_uploads/giliyal.ananya@gmail.com/min_air_temperature_1993_1099\n",
    "dbfs:/FileStore/shared_uploads/giliyal.ananya@gmail.com/min_air_temperature_1993_1100\n",
    "dbfs:/FileStore/shared_uploads/giliyal.ananya@gmail.com/min_air_temperature_1993_1101"
   ]
  }
 ],
 "metadata": {
  "application/vnd.databricks.v1+notebook": {
   "dashboards": [],
   "language": "python",
   "notebookMetadata": {
    "mostRecentlyExecutedCommandWithImplicitDF": {
     "commandId": 2930184974704831,
     "dataframes": [
      "_sqldf"
     ]
    },
    "pythonIndentUnit": 4
   },
   "notebookName": "Untitled Notebook 2023-10-28 02:54:23",
   "widgets": {}
  }
 },
 "nbformat": 4,
 "nbformat_minor": 0
}
