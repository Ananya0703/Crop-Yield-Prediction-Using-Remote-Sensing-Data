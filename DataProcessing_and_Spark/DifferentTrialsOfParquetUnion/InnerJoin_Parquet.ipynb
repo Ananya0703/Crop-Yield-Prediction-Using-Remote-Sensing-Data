{
 "cells": [
  {
   "cell_type": "code",
   "execution_count": 1,
   "id": "2c7a415f",
   "metadata": {},
   "outputs": [],
   "source": [
    "from pyspark.sql import SparkSession"
   ]
  },
  {
   "cell_type": "code",
   "execution_count": 2,
   "id": "239dfd11",
   "metadata": {},
   "outputs": [
    {
     "name": "stderr",
     "output_type": "stream",
     "text": [
      "23/10/28 10:47:56 WARN Utils: Your hostname, Ananyas-MacBook-Pro-2.local resolves to a loopback address: 127.0.0.1, but we couldn't find any external IP address!\n",
      "23/10/28 10:47:56 WARN Utils: Set SPARK_LOCAL_IP if you need to bind to another address\n",
      "Setting default log level to \"WARN\".\n",
      "To adjust logging level use sc.setLogLevel(newLevel). For SparkR, use setLogLevel(newLevel).\n",
      "23/10/28 10:47:56 WARN NativeCodeLoader: Unable to load native-hadoop library for your platform... using builtin-java classes where applicable\n"
     ]
    },
    {
     "name": "stderr",
     "output_type": "stream",
     "text": [
      "23/10/28 10:48:10 WARN GarbageCollectionMetrics: To enable non-built-in garbage collector(s) List(G1 Concurrent GC), users should configure it(them) to spark.eventLog.gcMetrics.youngGenerationGarbageCollectors or spark.eventLog.gcMetrics.oldGenerationGarbageCollectors\n"
     ]
    }
   ],
   "source": [
    "# spark = SparkSession.builder \\\n",
    "#     .appName(\"ParquetJoin\") \\\n",
    "#     .getOrCreate()\n",
    "\n",
    "\n",
    "spark = SparkSession.builder \\\n",
    "    .appName(\"ParquetJoin\") \\\n",
    "    .config(\"spark.driver.memory\", \"4g\") \\\n",
    "    .config(\"spark.executor.memory\", \"4g\") \\\n",
    "    .getOrCreate()\n"
   ]
  },
  {
   "cell_type": "code",
   "execution_count": 3,
   "id": "043bf976",
   "metadata": {},
   "outputs": [
    {
     "name": "stdout",
     "output_type": "stream",
     "text": [
      "specific_humidity_2019_743\n",
      "specific_humidity_1996_849\n",
      "specific_humidity_1990_190\n",
      "specific_humidity_1985_766\n",
      "specific_humidity_2020_691\n"
     ]
    }
   ],
   "source": [
    "import os\n",
    "for i in os.listdir(\"/Users/ananyagiliyal/Desktop/parquet/parquet_files_specific_humidity\")[:5]:\n",
    "    print(i)\n"
   ]
  },
  {
   "cell_type": "markdown",
   "id": "2097ad3d",
   "metadata": {},
   "source": [
    "# Trial for union"
   ]
  },
  {
   "cell_type": "code",
   "execution_count": null,
   "id": "42c20158",
   "metadata": {},
   "outputs": [],
   "source": [
    "# Step 2: Read Parquet files into DataFrames in parallel\n",
    "parquet_folder_path = r\"C:\\Users\\lazyrook\\Documents\\Pyspark-Tutorials\\Pyspark-intro\\Data\\parquet_files_max_air_temp\\parquet_files_max_air_temp\"\n",
    "df_list = [spark.read.parquet(os.path.join(parquet_folder_path, file)).drop(\"_index_level_0_\") for file in os.listdir(parquet_folder_path) if file.endswith(\".parquet\")]\n",
    "\n",
    "# Step 3: Union the DataFrames\n",
    "if df_list:\n",
    "    combined_df = df_list[0].unionAll(df_list[1:]) if len(df_list) > 1 else df_list[0]\n",
    "\n",
    "    # Step 4: Show the resulting DataFrame\n",
    "    combined_df.show()"
   ]
  },
  {
   "cell_type": "code",
   "execution_count": 4,
   "id": "3bd77b5f",
   "metadata": {},
   "outputs": [
    {
     "name": "stdout",
     "output_type": "stream",
     "text": [
      "+-------------------+---------------+---+\n",
      "|               Date|air_temperature| ID|\n",
      "+-------------------+---------------+---+\n",
      "|2002-01-01 00:00:00|          270.2|766|\n",
      "|2002-01-02 00:00:00|          271.2|766|\n",
      "|2002-01-03 00:00:00|          273.7|766|\n",
      "|2002-01-04 00:00:00|          279.8|766|\n",
      "|2002-01-05 00:00:00|          279.9|766|\n",
      "|2002-01-06 00:00:00|          275.3|766|\n",
      "|2002-01-07 00:00:00|          272.6|766|\n",
      "|2002-01-08 00:00:00|          279.3|766|\n",
      "|2002-01-09 00:00:00|          285.5|766|\n",
      "|2002-01-10 00:00:00|          286.1|766|\n",
      "|2002-01-11 00:00:00|          282.5|766|\n",
      "|2002-01-12 00:00:00|          280.6|766|\n",
      "|2002-01-13 00:00:00|          283.6|766|\n",
      "|2002-01-14 00:00:00|          279.7|766|\n",
      "|2002-01-15 00:00:00|          278.9|766|\n",
      "|2002-01-16 00:00:00|          283.6|766|\n",
      "|2002-01-17 00:00:00|          276.1|766|\n",
      "|2002-01-18 00:00:00|          278.8|766|\n",
      "|2002-01-19 00:00:00|          274.8|766|\n",
      "|2002-01-20 00:00:00|          276.3|766|\n",
      "+-------------------+---------------+---+\n",
      "only showing top 20 rows\n",
      "\n"
     ]
    }
   ],
   "source": [
    "import os\n",
    "from pyspark.sql import SparkSession\n",
    "from pyspark.sql.functions import col\n",
    "\n",
    "# Step 1: Initialize a SparkSession\n",
    "spark = SparkSession.builder \\\n",
    "    .appName(\"ParquetJoin\") \\\n",
    "    .getOrCreate()\n",
    "\n",
    "# Step 2: Read Parquet files into DataFrames\n",
    "parquet_folder_path = \"/Users/ananyagiliyal/Desktop/parquet/parquet_files_max_air_temp\"\n",
    "df_list = []\n",
    "\n",
    "# Read all parquet files into dataframes\n",
    "for file in os.listdir(parquet_folder_path)[:50]:\n",
    "    # if file.endswith(\".parquet\"):\n",
    "        df = spark.read.parquet(os.path.join(parquet_folder_path, file))\n",
    "        df = df.drop(\"__index_level_0__\")\n",
    "        df_list.append(df)\n",
    "\n",
    "# Step 3: Union the DataFrames\n",
    "if df_list:\n",
    "    combined_df = df_list[0]\n",
    "    for i in range(1, len(df_list)):\n",
    "        combined_df = combined_df.union(df_list[i])\n",
    "\n",
    "    # Step 4: Show the resulting DataFrame\n",
    "    combined_df.show()\n",
    "\n",
    "# Stop the Spark session\n",
    "# spark.stop()\n"
   ]
  },
  {
   "cell_type": "markdown",
   "id": "434be8b0",
   "metadata": {},
   "source": [
    "# Trial for Join"
   ]
  },
  {
   "cell_type": "code",
   "execution_count": 4,
   "id": "8c40b13d",
   "metadata": {},
   "outputs": [
    {
     "name": "stdout",
     "output_type": "stream",
     "text": [
      "+----+-----------------+---+-----------------+---+-----------------+---+-----------------+---+-----------------+---+\n",
      "|Date|specific_humidity| ID|specific_humidity| ID|specific_humidity| ID|specific_humidity| ID|specific_humidity| ID|\n",
      "+----+-----------------+---+-----------------+---+-----------------+---+-----------------+---+-----------------+---+\n",
      "+----+-----------------+---+-----------------+---+-----------------+---+-----------------+---+-----------------+---+\n",
      "\n"
     ]
    }
   ],
   "source": [
    "import os\n",
    "from pyspark.sql import SparkSession\n",
    "from pyspark.sql.functions import col\n",
    "\n",
    "# Step 1: Initialize a SparkSession\n",
    "spark = SparkSession.builder \\\n",
    "    .appName(\"ParquetJoin\") \\\n",
    "    .getOrCreate()\n",
    "\n",
    "# Step 2: Read Parquet files into DataFrames\n",
    "parquet_folder_path = '/Users/ananyagiliyal/Desktop/parquet/parquet_files_specific_humidity'\n",
    "import os\n",
    "from pyspark.sql import SparkSession\n",
    "from pyspark.sql.functions import col\n",
    "\n",
    "# Step 1: Initialize a SparkSession\n",
    "spark = SparkSession.builder \\\n",
    "    .appName(\"ParquetJoin\") \\\n",
    "    .getOrCreate()\n",
    "\n",
    "# Step 2: Read Parquet files into DataFrames\n",
    "# parquet_folder_path = '/content/'\n",
    "df_list = []\n",
    "\n",
    "# Read all parquet files into dataframes\n",
    "for file in os.listdir(parquet_folder_path):\n",
    "    # if file.endswith(\".parquet\"):\n",
    "    df = spark.read.parquet(os.path.join(parquet_folder_path, file))\n",
    "    df = df.drop(\"__index_level_0__\")\n",
    "    df_list.append(df)\n",
    "\n",
    "# Step 3: Apply an inner join on the DataFrames\n",
    "if df_list:\n",
    "    joined_df = df_list[0]\n",
    "    for i in range(1, len(df_list)):\n",
    "        joined_df = joined_df.join(df_list[i], on='Date', how='inner')\n",
    "\n",
    "    # Step 4: Show the resulting DataFrame or write it to an output\n",
    "    joined_df.show()\n",
    "\n",
    "# Stop the Spark session\n",
    "spark.stop()\n"
   ]
  },
  {
   "cell_type": "code",
   "execution_count": 12,
   "id": "4c196115",
   "metadata": {},
   "outputs": [
    {
     "data": {
      "text/plain": [
       "['tmmx_2019.nc',\n",
       " 'tmmx_2008.nc',\n",
       " 'tmmx_1989.nc',\n",
       " 'tmmx_1999.nc',\n",
       " 'tmmx_2018.nc']"
      ]
     },
     "execution_count": 12,
     "metadata": {},
     "output_type": "execute_result"
    }
   ],
   "source": [
    "import os\n",
    "paths = []\n",
    "for i in os.listdir(\"/Users/ananyagiliyal/Desktop/parquet/Maximum Near Surface Air Temperature\"):\n",
    "    paths.append(i)\n",
    "paths[-5:]"
   ]
  },
  {
   "cell_type": "code",
   "execution_count": null,
   "id": "bad1cb51",
   "metadata": {},
   "outputs": [],
   "source": []
  }
 ],
 "metadata": {
  "kernelspec": {
   "display_name": "Python 3 (ipykernel)",
   "language": "python",
   "name": "python3"
  },
  "language_info": {
   "codemirror_mode": {
    "name": "ipython",
    "version": 3
   },
   "file_extension": ".py",
   "mimetype": "text/x-python",
   "name": "python",
   "nbconvert_exporter": "python",
   "pygments_lexer": "ipython3",
   "version": "3.10.9"
  }
 },
 "nbformat": 4,
 "nbformat_minor": 5
}
