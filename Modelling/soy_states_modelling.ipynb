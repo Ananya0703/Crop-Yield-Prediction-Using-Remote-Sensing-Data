{
 "cells": [
  {
   "cell_type": "markdown",
   "metadata": {},
   "source": [
    "Importing Libraries and Dependancies"
   ]
  },
  {
   "cell_type": "code",
   "execution_count": 1,
   "metadata": {},
   "outputs": [],
   "source": [
    "import seaborn as sns\n",
    "import numpy as np\n",
    "import pandas as pd\n",
    "import matplotlib.pyplot as plt\n",
    "import xgboost as xgb\n",
    "import pickle\n",
    "import plotly.express as px\n",
    "\n",
    "from sklearn.linear_model import LinearRegression\n",
    "from sklearn.tree import DecisionTreeRegressor\n",
    "from sklearn.ensemble import RandomForestRegressor\n",
    "from sklearn.linear_model import LogisticRegression\n",
    "from sklearn.neighbors import KNeighborsRegressor\n",
    "from catboost import CatBoostRegressor\n",
    "from lightgbm import LGBMRegressor\n",
    "from sklearn.ensemble import VotingRegressor\n",
    "from sklearn.model_selection import train_test_split\n",
    "from sklearn.preprocessing import StandardScaler\n",
    "from sklearn.metrics import r2_score, mean_absolute_error, mean_squared_error\n",
    "from sklearn.model_selection import KFold\n",
    "\n",
    "import warnings\n",
    "warnings.filterwarnings(\"ignore\")\n",
    "\n",
    "import shutup\n",
    "shutup.please()"
   ]
  },
  {
   "cell_type": "markdown",
   "metadata": {},
   "source": [
    "Custom Model Training Function"
   ]
  },
  {
   "cell_type": "code",
   "execution_count": 2,
   "metadata": {},
   "outputs": [],
   "source": [
    "from sklearn.metrics import mean_squared_error, r2_score\n",
    "from sklearn.model_selection import KFold\n",
    "import numpy as np\n",
    "import pandas as pd\n",
    "\n",
    "def train_evaluate_model(model, X, y, n_splits=5, is_nn=False, epochs=100):\n",
    "    '''\n",
    "    arguments:\n",
    "        model -- A scikit-learn estimator instance for regression\n",
    "        X -- The input features for the model\n",
    "        y -- The target variable for the model\n",
    "        n_splits -- The number of folds to use in the KFold cross-validation (default=5)\n",
    "\n",
    "    Returns:\n",
    "        a dictionary of evaluation metrics for the model\n",
    "    '''\n",
    "    \n",
    "    kf = KFold(n_splits=n_splits, shuffle=True, random_state=42)\n",
    "\n",
    "    # Initialize lists to store the evaluation metrics\n",
    "    mse_scores = []\n",
    "    r2_scores = []\n",
    "    adj_r2_scores = []\n",
    "    rmse_scores = []\n",
    "\n",
    "    # Use k-fold cross-validation to evaluate the model\n",
    "    for train_index, test_index in kf.split(X, y):\n",
    "        X_train, y_train = X.iloc[train_index], y.iloc[train_index]\n",
    "        X_test, y_test = X.iloc[test_index], y.iloc[test_index]\n",
    "\n",
    "        # Fit the model to the training data\n",
    "        if is_nn:\n",
    "            model.fit(X_train, y_train, epochs=epochs, verbose=0)\n",
    "        else:\n",
    "            model.fit(X_train, y_train)\n",
    "\n",
    "        # Make predictions on the test data\n",
    "        y_pred = model.predict(X_test)\n",
    "\n",
    "        # Compute the evaluation metrics\n",
    "        mse = mean_squared_error(y_test, y_pred)\n",
    "        r2 = r2_score(y_test, y_pred)\n",
    "        adj_r2 = 1 - (1-r2)*(len(y_test)-1)/(len(y_test)-X_test.shape[1]-1)\n",
    "        rmse = np.sqrt(mse)\n",
    "\n",
    "        # Append the scores to the lists\n",
    "        mse_scores.append(mse)\n",
    "        r2_scores.append(r2)\n",
    "        adj_r2_scores.append(adj_r2)\n",
    "        rmse_scores.append(rmse)\n",
    "\n",
    "    # Compute the mean and standard deviation of the evaluation metrics\n",
    "    mse_mean = np.mean(mse_scores)\n",
    "    mse_std = np.std(mse_scores)\n",
    "    r2_mean = np.mean(r2_scores)\n",
    "    r2_std = np.std(r2_scores)\n",
    "    adj_r2_mean = np.mean(adj_r2_scores)\n",
    "    adj_r2_std = np.std(adj_r2_scores)\n",
    "    rmse_mean = np.mean(rmse_scores)\n",
    "    rmse_std = np.std(rmse_scores)\n",
    "\n",
    "    # Create a dataframe to store the evaluation metrics\n",
    "    eval_df = pd.DataFrame({\n",
    "        'RMSE': [rmse_mean],\n",
    "        'RMSE_StdDev': [rmse_std],\n",
    "        'Mean_Squared_Error': [mse_mean], \n",
    "        'MSE_StdDev': [mse_std], \n",
    "        'R_squared': [r2_mean], \n",
    "        'R2_StdDev': [r2_std],\n",
    "        'Adjusted_R_squared': [adj_r2_mean],\n",
    "        'Adj_R2_StdDev': [adj_r2_std],\n",
    "\n",
    "    })\n",
    "\n",
    "    return eval_df\n"
   ]
  },
  {
   "cell_type": "markdown",
   "metadata": {},
   "source": [
    "Loading the Data"
   ]
  },
  {
   "cell_type": "code",
   "execution_count": 3,
   "metadata": {},
   "outputs": [],
   "source": [
    "with open('soybean.pkl', 'rb') as pickle_file:\n",
    "    soybean = pickle.load(pickle_file)"
   ]
  },
  {
   "cell_type": "markdown",
   "metadata": {},
   "source": [
    "Basic Descriptive Stats"
   ]
  },
  {
   "cell_type": "code",
   "execution_count": 37,
   "metadata": {},
   "outputs": [
    {
     "data": {
      "text/html": [
       "<div>\n",
       "<style scoped>\n",
       "    .dataframe tbody tr th:only-of-type {\n",
       "        vertical-align: middle;\n",
       "    }\n",
       "\n",
       "    .dataframe tbody tr th {\n",
       "        vertical-align: top;\n",
       "    }\n",
       "\n",
       "    .dataframe thead th {\n",
       "        text-align: right;\n",
       "    }\n",
       "</style>\n",
       "<table border=\"1\" class=\"dataframe\">\n",
       "  <thead>\n",
       "    <tr style=\"text-align: right;\">\n",
       "      <th></th>\n",
       "      <th>Year</th>\n",
       "      <th>max_humidity 1</th>\n",
       "      <th>max_humidity 2</th>\n",
       "      <th>max_humidity 3</th>\n",
       "      <th>max_humidity 4</th>\n",
       "      <th>max_humidity 5</th>\n",
       "      <th>max_humidity 6</th>\n",
       "      <th>max_humidity 7</th>\n",
       "      <th>max_humidity 8</th>\n",
       "      <th>max_humidity 9</th>\n",
       "      <th>...</th>\n",
       "      <th>wind_speed 44</th>\n",
       "      <th>wind_speed 45</th>\n",
       "      <th>wind_speed 46</th>\n",
       "      <th>wind_speed 47</th>\n",
       "      <th>wind_speed 48</th>\n",
       "      <th>wind_speed 49</th>\n",
       "      <th>wind_speed 50</th>\n",
       "      <th>wind_speed 51</th>\n",
       "      <th>wind_speed 52</th>\n",
       "      <th>Soybean_Yield</th>\n",
       "    </tr>\n",
       "  </thead>\n",
       "  <tbody>\n",
       "    <tr>\n",
       "      <th>count</th>\n",
       "      <td>533.000000</td>\n",
       "      <td>533.000000</td>\n",
       "      <td>533.000000</td>\n",
       "      <td>533.000000</td>\n",
       "      <td>533.000000</td>\n",
       "      <td>533.000000</td>\n",
       "      <td>533.000000</td>\n",
       "      <td>533.000000</td>\n",
       "      <td>533.000000</td>\n",
       "      <td>533.000000</td>\n",
       "      <td>...</td>\n",
       "      <td>533.000000</td>\n",
       "      <td>533.000000</td>\n",
       "      <td>533.000000</td>\n",
       "      <td>533.000000</td>\n",
       "      <td>533.000000</td>\n",
       "      <td>533.000000</td>\n",
       "      <td>533.000000</td>\n",
       "      <td>533.000000</td>\n",
       "      <td>533.000000</td>\n",
       "      <td>533.000000</td>\n",
       "    </tr>\n",
       "    <tr>\n",
       "      <th>mean</th>\n",
       "      <td>2000.000000</td>\n",
       "      <td>90.128976</td>\n",
       "      <td>88.461592</td>\n",
       "      <td>89.376816</td>\n",
       "      <td>89.003377</td>\n",
       "      <td>88.387644</td>\n",
       "      <td>89.119325</td>\n",
       "      <td>88.682793</td>\n",
       "      <td>89.050415</td>\n",
       "      <td>87.544867</td>\n",
       "      <td>...</td>\n",
       "      <td>4.571134</td>\n",
       "      <td>4.616671</td>\n",
       "      <td>4.599437</td>\n",
       "      <td>4.654248</td>\n",
       "      <td>4.629268</td>\n",
       "      <td>4.485875</td>\n",
       "      <td>4.307880</td>\n",
       "      <td>4.473546</td>\n",
       "      <td>4.509176</td>\n",
       "      <td>38.860225</td>\n",
       "    </tr>\n",
       "    <tr>\n",
       "      <th>std</th>\n",
       "      <td>11.843275</td>\n",
       "      <td>7.827949</td>\n",
       "      <td>8.241539</td>\n",
       "      <td>7.471159</td>\n",
       "      <td>7.889270</td>\n",
       "      <td>8.751590</td>\n",
       "      <td>9.262400</td>\n",
       "      <td>8.259970</td>\n",
       "      <td>8.020290</td>\n",
       "      <td>8.431716</td>\n",
       "      <td>...</td>\n",
       "      <td>0.909055</td>\n",
       "      <td>0.906491</td>\n",
       "      <td>0.953358</td>\n",
       "      <td>0.996747</td>\n",
       "      <td>0.865097</td>\n",
       "      <td>0.952732</td>\n",
       "      <td>0.873012</td>\n",
       "      <td>0.981876</td>\n",
       "      <td>1.020454</td>\n",
       "      <td>8.912570</td>\n",
       "    </tr>\n",
       "    <tr>\n",
       "      <th>min</th>\n",
       "      <td>1980.000000</td>\n",
       "      <td>63.942857</td>\n",
       "      <td>59.614286</td>\n",
       "      <td>62.714286</td>\n",
       "      <td>52.557143</td>\n",
       "      <td>60.700000</td>\n",
       "      <td>49.800000</td>\n",
       "      <td>51.971429</td>\n",
       "      <td>58.800000</td>\n",
       "      <td>62.014286</td>\n",
       "      <td>...</td>\n",
       "      <td>2.400000</td>\n",
       "      <td>2.557143</td>\n",
       "      <td>2.014286</td>\n",
       "      <td>2.014286</td>\n",
       "      <td>2.442857</td>\n",
       "      <td>2.142857</td>\n",
       "      <td>2.214286</td>\n",
       "      <td>2.100000</td>\n",
       "      <td>1.971429</td>\n",
       "      <td>16.000000</td>\n",
       "    </tr>\n",
       "    <tr>\n",
       "      <th>25%</th>\n",
       "      <td>1990.000000</td>\n",
       "      <td>85.825000</td>\n",
       "      <td>82.942857</td>\n",
       "      <td>83.985714</td>\n",
       "      <td>84.271429</td>\n",
       "      <td>83.228571</td>\n",
       "      <td>84.557143</td>\n",
       "      <td>84.142857</td>\n",
       "      <td>84.071429</td>\n",
       "      <td>81.657143</td>\n",
       "      <td>...</td>\n",
       "      <td>3.928571</td>\n",
       "      <td>4.000000</td>\n",
       "      <td>3.928571</td>\n",
       "      <td>4.000000</td>\n",
       "      <td>4.000000</td>\n",
       "      <td>3.885714</td>\n",
       "      <td>3.657143</td>\n",
       "      <td>3.800000</td>\n",
       "      <td>3.787500</td>\n",
       "      <td>32.500000</td>\n",
       "    </tr>\n",
       "    <tr>\n",
       "      <th>50%</th>\n",
       "      <td>2000.000000</td>\n",
       "      <td>92.150000</td>\n",
       "      <td>89.542857</td>\n",
       "      <td>90.700000</td>\n",
       "      <td>90.114286</td>\n",
       "      <td>90.157143</td>\n",
       "      <td>91.128571</td>\n",
       "      <td>90.214286</td>\n",
       "      <td>90.800000</td>\n",
       "      <td>88.657143</td>\n",
       "      <td>...</td>\n",
       "      <td>4.542857</td>\n",
       "      <td>4.542857</td>\n",
       "      <td>4.542857</td>\n",
       "      <td>4.628571</td>\n",
       "      <td>4.585714</td>\n",
       "      <td>4.371429</td>\n",
       "      <td>4.271429</td>\n",
       "      <td>4.400000</td>\n",
       "      <td>4.425000</td>\n",
       "      <td>38.000000</td>\n",
       "    </tr>\n",
       "    <tr>\n",
       "      <th>75%</th>\n",
       "      <td>2010.000000</td>\n",
       "      <td>95.900000</td>\n",
       "      <td>95.200000</td>\n",
       "      <td>95.357143</td>\n",
       "      <td>95.471429</td>\n",
       "      <td>95.314286</td>\n",
       "      <td>96.142857</td>\n",
       "      <td>94.714286</td>\n",
       "      <td>95.171429</td>\n",
       "      <td>94.271429</td>\n",
       "      <td>...</td>\n",
       "      <td>5.142857</td>\n",
       "      <td>5.214286</td>\n",
       "      <td>5.228571</td>\n",
       "      <td>5.257143</td>\n",
       "      <td>5.271429</td>\n",
       "      <td>4.985714</td>\n",
       "      <td>4.871429</td>\n",
       "      <td>5.042857</td>\n",
       "      <td>5.137500</td>\n",
       "      <td>45.000000</td>\n",
       "    </tr>\n",
       "    <tr>\n",
       "      <th>max</th>\n",
       "      <td>2020.000000</td>\n",
       "      <td>100.000000</td>\n",
       "      <td>100.000000</td>\n",
       "      <td>100.000000</td>\n",
       "      <td>100.000000</td>\n",
       "      <td>100.000000</td>\n",
       "      <td>100.000000</td>\n",
       "      <td>100.000000</td>\n",
       "      <td>100.000000</td>\n",
       "      <td>100.000000</td>\n",
       "      <td>...</td>\n",
       "      <td>8.285714</td>\n",
       "      <td>8.071429</td>\n",
       "      <td>8.300000</td>\n",
       "      <td>8.300000</td>\n",
       "      <td>7.385714</td>\n",
       "      <td>8.557143</td>\n",
       "      <td>7.971429</td>\n",
       "      <td>8.328571</td>\n",
       "      <td>8.166667</td>\n",
       "      <td>63.500000</td>\n",
       "    </tr>\n",
       "  </tbody>\n",
       "</table>\n",
       "<p>8 rows × 470 columns</p>\n",
       "</div>"
      ],
      "text/plain": [
       "              Year  max_humidity 1  max_humidity 2  max_humidity 3  \\\n",
       "count   533.000000      533.000000      533.000000      533.000000   \n",
       "mean   2000.000000       90.128976       88.461592       89.376816   \n",
       "std      11.843275        7.827949        8.241539        7.471159   \n",
       "min    1980.000000       63.942857       59.614286       62.714286   \n",
       "25%    1990.000000       85.825000       82.942857       83.985714   \n",
       "50%    2000.000000       92.150000       89.542857       90.700000   \n",
       "75%    2010.000000       95.900000       95.200000       95.357143   \n",
       "max    2020.000000      100.000000      100.000000      100.000000   \n",
       "\n",
       "       max_humidity 4  max_humidity 5  max_humidity 6  max_humidity 7  \\\n",
       "count      533.000000      533.000000      533.000000      533.000000   \n",
       "mean        89.003377       88.387644       89.119325       88.682793   \n",
       "std          7.889270        8.751590        9.262400        8.259970   \n",
       "min         52.557143       60.700000       49.800000       51.971429   \n",
       "25%         84.271429       83.228571       84.557143       84.142857   \n",
       "50%         90.114286       90.157143       91.128571       90.214286   \n",
       "75%         95.471429       95.314286       96.142857       94.714286   \n",
       "max        100.000000      100.000000      100.000000      100.000000   \n",
       "\n",
       "       max_humidity 8  max_humidity 9  ...  wind_speed 44  wind_speed 45  \\\n",
       "count      533.000000      533.000000  ...     533.000000     533.000000   \n",
       "mean        89.050415       87.544867  ...       4.571134       4.616671   \n",
       "std          8.020290        8.431716  ...       0.909055       0.906491   \n",
       "min         58.800000       62.014286  ...       2.400000       2.557143   \n",
       "25%         84.071429       81.657143  ...       3.928571       4.000000   \n",
       "50%         90.800000       88.657143  ...       4.542857       4.542857   \n",
       "75%         95.171429       94.271429  ...       5.142857       5.214286   \n",
       "max        100.000000      100.000000  ...       8.285714       8.071429   \n",
       "\n",
       "       wind_speed 46  wind_speed 47  wind_speed 48  wind_speed 49  \\\n",
       "count     533.000000     533.000000     533.000000     533.000000   \n",
       "mean        4.599437       4.654248       4.629268       4.485875   \n",
       "std         0.953358       0.996747       0.865097       0.952732   \n",
       "min         2.014286       2.014286       2.442857       2.142857   \n",
       "25%         3.928571       4.000000       4.000000       3.885714   \n",
       "50%         4.542857       4.628571       4.585714       4.371429   \n",
       "75%         5.228571       5.257143       5.271429       4.985714   \n",
       "max         8.300000       8.300000       7.385714       8.557143   \n",
       "\n",
       "       wind_speed 50  wind_speed 51  wind_speed 52  Soybean_Yield  \n",
       "count     533.000000     533.000000     533.000000     533.000000  \n",
       "mean        4.307880       4.473546       4.509176      38.860225  \n",
       "std         0.873012       0.981876       1.020454       8.912570  \n",
       "min         2.214286       2.100000       1.971429      16.000000  \n",
       "25%         3.657143       3.800000       3.787500      32.500000  \n",
       "50%         4.271429       4.400000       4.425000      38.000000  \n",
       "75%         4.871429       5.042857       5.137500      45.000000  \n",
       "max         7.971429       8.328571       8.166667      63.500000  \n",
       "\n",
       "[8 rows x 470 columns]"
      ]
     },
     "execution_count": 37,
     "metadata": {},
     "output_type": "execute_result"
    }
   ],
   "source": [
    "soybean.describe()"
   ]
  },
  {
   "cell_type": "code",
   "execution_count": 38,
   "metadata": {},
   "outputs": [
    {
     "name": "stdout",
     "output_type": "stream",
     "text": [
      "<class 'pandas.core.frame.DataFrame'>\n",
      "Int64Index: 533 entries, 0 to 532\n",
      "Columns: 471 entries, Year to Soybean_Yield\n",
      "dtypes: float64(469), int64(1), object(1)\n",
      "memory usage: 1.9+ MB\n"
     ]
    }
   ],
   "source": [
    "soybean.info()"
   ]
  },
  {
   "cell_type": "markdown",
   "metadata": {},
   "source": [
    "Dropping week 53 (the only columns with null values)"
   ]
  },
  {
   "cell_type": "code",
   "execution_count": 4,
   "metadata": {},
   "outputs": [],
   "source": [
    "soybean = soybean.dropna(axis=1)"
   ]
  },
  {
   "cell_type": "markdown",
   "metadata": {},
   "source": [
    "Checking Shape"
   ]
  },
  {
   "cell_type": "code",
   "execution_count": 5,
   "metadata": {},
   "outputs": [
    {
     "name": "stdout",
     "output_type": "stream",
     "text": [
      "Shape of soybean dataframe (533, 471)\n"
     ]
    }
   ],
   "source": [
    "print(f'Shape of soybean dataframe',soybean.shape)"
   ]
  },
  {
   "cell_type": "markdown",
   "metadata": {},
   "source": [
    "Dropping weather variables from week 1-21"
   ]
  },
  {
   "cell_type": "code",
   "execution_count": 6,
   "metadata": {},
   "outputs": [],
   "source": [
    "variables = ['min_humidity', 'max_humidity', 'min_temp', 'max_temp', 'vapor_pressure_deficit', \n",
    "             'near_surface_specific_humidity', 'precipitation', 'solar_radiation', 'wind_speed']\n",
    "\n",
    "columns_to_drop = []\n",
    "\n",
    "for var in variables:\n",
    "    columns_to_drop.extend(['{} {}'.format(var, i) for i in range(1, 22)])\n",
    "\n",
    "# Drop the columns from the dataframe\n",
    "df_soy = soybean.drop(columns = columns_to_drop)\n"
   ]
  },
  {
   "cell_type": "markdown",
   "metadata": {},
   "source": [
    "Defining X and y"
   ]
  },
  {
   "cell_type": "code",
   "execution_count": 7,
   "metadata": {},
   "outputs": [],
   "source": [
    "X_soy = df_soy.drop(['Year', 'state', 'Soybean_Yield'], axis=1)"
   ]
  },
  {
   "cell_type": "code",
   "execution_count": 8,
   "metadata": {},
   "outputs": [
    {
     "data": {
      "text/html": [
       "<div>\n",
       "<style scoped>\n",
       "    .dataframe tbody tr th:only-of-type {\n",
       "        vertical-align: middle;\n",
       "    }\n",
       "\n",
       "    .dataframe tbody tr th {\n",
       "        vertical-align: top;\n",
       "    }\n",
       "\n",
       "    .dataframe thead th {\n",
       "        text-align: right;\n",
       "    }\n",
       "</style>\n",
       "<table border=\"1\" class=\"dataframe\">\n",
       "  <thead>\n",
       "    <tr style=\"text-align: right;\">\n",
       "      <th></th>\n",
       "      <th>max_humidity 22</th>\n",
       "      <th>max_humidity 23</th>\n",
       "      <th>max_humidity 24</th>\n",
       "      <th>max_humidity 25</th>\n",
       "      <th>max_humidity 26</th>\n",
       "      <th>max_humidity 27</th>\n",
       "      <th>max_humidity 28</th>\n",
       "      <th>max_humidity 29</th>\n",
       "      <th>max_humidity 30</th>\n",
       "      <th>max_humidity 31</th>\n",
       "      <th>...</th>\n",
       "      <th>wind_speed 43</th>\n",
       "      <th>wind_speed 44</th>\n",
       "      <th>wind_speed 45</th>\n",
       "      <th>wind_speed 46</th>\n",
       "      <th>wind_speed 47</th>\n",
       "      <th>wind_speed 48</th>\n",
       "      <th>wind_speed 49</th>\n",
       "      <th>wind_speed 50</th>\n",
       "      <th>wind_speed 51</th>\n",
       "      <th>wind_speed 52</th>\n",
       "    </tr>\n",
       "  </thead>\n",
       "  <tbody>\n",
       "    <tr>\n",
       "      <th>0</th>\n",
       "      <td>88.942857</td>\n",
       "      <td>93.157143</td>\n",
       "      <td>88.985714</td>\n",
       "      <td>79.757143</td>\n",
       "      <td>86.900000</td>\n",
       "      <td>92.957143</td>\n",
       "      <td>92.800000</td>\n",
       "      <td>91.671429</td>\n",
       "      <td>95.242857</td>\n",
       "      <td>91.800000</td>\n",
       "      <td>...</td>\n",
       "      <td>5.057143</td>\n",
       "      <td>4.085714</td>\n",
       "      <td>5.442857</td>\n",
       "      <td>4.000000</td>\n",
       "      <td>4.600000</td>\n",
       "      <td>4.785714</td>\n",
       "      <td>4.242857</td>\n",
       "      <td>3.671429</td>\n",
       "      <td>3.885714</td>\n",
       "      <td>4.271429</td>\n",
       "    </tr>\n",
       "    <tr>\n",
       "      <th>1</th>\n",
       "      <td>87.571429</td>\n",
       "      <td>96.957143</td>\n",
       "      <td>87.871429</td>\n",
       "      <td>87.328571</td>\n",
       "      <td>91.971429</td>\n",
       "      <td>94.485714</td>\n",
       "      <td>94.671429</td>\n",
       "      <td>93.814286</td>\n",
       "      <td>96.142857</td>\n",
       "      <td>97.057143</td>\n",
       "      <td>...</td>\n",
       "      <td>4.971429</td>\n",
       "      <td>3.600000</td>\n",
       "      <td>5.342857</td>\n",
       "      <td>3.714286</td>\n",
       "      <td>4.200000</td>\n",
       "      <td>4.871429</td>\n",
       "      <td>4.242857</td>\n",
       "      <td>3.828571</td>\n",
       "      <td>3.642857</td>\n",
       "      <td>3.657143</td>\n",
       "    </tr>\n",
       "    <tr>\n",
       "      <th>2</th>\n",
       "      <td>96.771429</td>\n",
       "      <td>92.642857</td>\n",
       "      <td>86.957143</td>\n",
       "      <td>90.314286</td>\n",
       "      <td>90.328571</td>\n",
       "      <td>94.614286</td>\n",
       "      <td>97.142857</td>\n",
       "      <td>95.085714</td>\n",
       "      <td>99.485714</td>\n",
       "      <td>92.085714</td>\n",
       "      <td>...</td>\n",
       "      <td>4.728571</td>\n",
       "      <td>4.057143</td>\n",
       "      <td>4.600000</td>\n",
       "      <td>3.671429</td>\n",
       "      <td>4.585714</td>\n",
       "      <td>4.085714</td>\n",
       "      <td>4.071429</td>\n",
       "      <td>3.528571</td>\n",
       "      <td>3.857143</td>\n",
       "      <td>4.657143</td>\n",
       "    </tr>\n",
       "    <tr>\n",
       "      <th>3</th>\n",
       "      <td>95.414286</td>\n",
       "      <td>97.371429</td>\n",
       "      <td>76.857143</td>\n",
       "      <td>94.357143</td>\n",
       "      <td>87.271429</td>\n",
       "      <td>84.571429</td>\n",
       "      <td>69.542857</td>\n",
       "      <td>67.371429</td>\n",
       "      <td>93.157143</td>\n",
       "      <td>61.814286</td>\n",
       "      <td>...</td>\n",
       "      <td>4.771429</td>\n",
       "      <td>4.314286</td>\n",
       "      <td>4.242857</td>\n",
       "      <td>5.428571</td>\n",
       "      <td>4.800000</td>\n",
       "      <td>4.128571</td>\n",
       "      <td>5.314286</td>\n",
       "      <td>3.857143</td>\n",
       "      <td>4.785714</td>\n",
       "      <td>5.128571</td>\n",
       "    </tr>\n",
       "    <tr>\n",
       "      <th>4</th>\n",
       "      <td>90.414286</td>\n",
       "      <td>91.342857</td>\n",
       "      <td>84.357143</td>\n",
       "      <td>90.128571</td>\n",
       "      <td>90.871429</td>\n",
       "      <td>96.814286</td>\n",
       "      <td>96.471429</td>\n",
       "      <td>90.200000</td>\n",
       "      <td>96.485714</td>\n",
       "      <td>96.857143</td>\n",
       "      <td>...</td>\n",
       "      <td>4.114286</td>\n",
       "      <td>3.242857</td>\n",
       "      <td>4.657143</td>\n",
       "      <td>3.742857</td>\n",
       "      <td>3.057143</td>\n",
       "      <td>5.114286</td>\n",
       "      <td>3.671429</td>\n",
       "      <td>3.657143</td>\n",
       "      <td>3.757143</td>\n",
       "      <td>3.514286</td>\n",
       "    </tr>\n",
       "  </tbody>\n",
       "</table>\n",
       "<p>5 rows × 279 columns</p>\n",
       "</div>"
      ],
      "text/plain": [
       "   max_humidity 22  max_humidity 23  max_humidity 24  max_humidity 25  \\\n",
       "0        88.942857        93.157143        88.985714        79.757143   \n",
       "1        87.571429        96.957143        87.871429        87.328571   \n",
       "2        96.771429        92.642857        86.957143        90.314286   \n",
       "3        95.414286        97.371429        76.857143        94.357143   \n",
       "4        90.414286        91.342857        84.357143        90.128571   \n",
       "\n",
       "   max_humidity 26  max_humidity 27  max_humidity 28  max_humidity 29  \\\n",
       "0        86.900000        92.957143        92.800000        91.671429   \n",
       "1        91.971429        94.485714        94.671429        93.814286   \n",
       "2        90.328571        94.614286        97.142857        95.085714   \n",
       "3        87.271429        84.571429        69.542857        67.371429   \n",
       "4        90.871429        96.814286        96.471429        90.200000   \n",
       "\n",
       "   max_humidity 30  max_humidity 31  ...  wind_speed 43  wind_speed 44  \\\n",
       "0        95.242857        91.800000  ...       5.057143       4.085714   \n",
       "1        96.142857        97.057143  ...       4.971429       3.600000   \n",
       "2        99.485714        92.085714  ...       4.728571       4.057143   \n",
       "3        93.157143        61.814286  ...       4.771429       4.314286   \n",
       "4        96.485714        96.857143  ...       4.114286       3.242857   \n",
       "\n",
       "   wind_speed 45  wind_speed 46  wind_speed 47  wind_speed 48  wind_speed 49  \\\n",
       "0       5.442857       4.000000       4.600000       4.785714       4.242857   \n",
       "1       5.342857       3.714286       4.200000       4.871429       4.242857   \n",
       "2       4.600000       3.671429       4.585714       4.085714       4.071429   \n",
       "3       4.242857       5.428571       4.800000       4.128571       5.314286   \n",
       "4       4.657143       3.742857       3.057143       5.114286       3.671429   \n",
       "\n",
       "   wind_speed 50  wind_speed 51  wind_speed 52  \n",
       "0       3.671429       3.885714       4.271429  \n",
       "1       3.828571       3.642857       3.657143  \n",
       "2       3.528571       3.857143       4.657143  \n",
       "3       3.857143       4.785714       5.128571  \n",
       "4       3.657143       3.757143       3.514286  \n",
       "\n",
       "[5 rows x 279 columns]"
      ]
     },
     "execution_count": 8,
     "metadata": {},
     "output_type": "execute_result"
    }
   ],
   "source": [
    "X_soy.head()"
   ]
  },
  {
   "cell_type": "code",
   "execution_count": 9,
   "metadata": {},
   "outputs": [],
   "source": [
    "y_soybean = soybean['Soybean_Yield']\n"
   ]
  },
  {
   "cell_type": "code",
   "execution_count": 10,
   "metadata": {},
   "outputs": [
    {
     "data": {
      "text/plain": [
       "0     33.5\n",
       "1     36.0\n",
       "2     38.5\n",
       "3     16.5\n",
       "4     22.5\n",
       "5     33.0\n",
       "6     31.5\n",
       "7     24.5\n",
       "8     30.0\n",
       "9     17.5\n",
       "10    36.0\n",
       "11    26.0\n",
       "12    33.0\n",
       "13    38.0\n",
       "14    33.0\n",
       "15    40.0\n",
       "16    30.0\n",
       "17    29.0\n",
       "18    30.0\n",
       "19    32.0\n",
       "Name: Soybean_Yield, dtype: float64"
      ]
     },
     "execution_count": 10,
     "metadata": {},
     "output_type": "execute_result"
    }
   ],
   "source": [
    "y_soybean.head(20)"
   ]
  },
  {
   "cell_type": "markdown",
   "metadata": {},
   "source": [
    "Modelling"
   ]
  },
  {
   "cell_type": "code",
   "execution_count": 11,
   "metadata": {},
   "outputs": [
    {
     "data": {
      "text/html": [
       "<style type=\"text/css\">\n",
       "#T_6bb4d_row0_col0, #T_6bb4d_row0_col1, #T_6bb4d_row0_col2, #T_6bb4d_row0_col3, #T_6bb4d_row0_col4, #T_6bb4d_row0_col5, #T_6bb4d_row0_col6, #T_6bb4d_row0_col7 {\n",
       "  background-color: #e3d9c1;\n",
       "  color: #000000;\n",
       "}\n",
       "</style>\n",
       "<table id=\"T_6bb4d\">\n",
       "  <thead>\n",
       "    <tr>\n",
       "      <th class=\"blank level0\" >&nbsp;</th>\n",
       "      <th id=\"T_6bb4d_level0_col0\" class=\"col_heading level0 col0\" >RMSE</th>\n",
       "      <th id=\"T_6bb4d_level0_col1\" class=\"col_heading level0 col1\" >RMSE_StdDev</th>\n",
       "      <th id=\"T_6bb4d_level0_col2\" class=\"col_heading level0 col2\" >Mean_Squared_Error</th>\n",
       "      <th id=\"T_6bb4d_level0_col3\" class=\"col_heading level0 col3\" >MSE_StdDev</th>\n",
       "      <th id=\"T_6bb4d_level0_col4\" class=\"col_heading level0 col4\" >R_squared</th>\n",
       "      <th id=\"T_6bb4d_level0_col5\" class=\"col_heading level0 col5\" >R2_StdDev</th>\n",
       "      <th id=\"T_6bb4d_level0_col6\" class=\"col_heading level0 col6\" >Adjusted_R_squared</th>\n",
       "      <th id=\"T_6bb4d_level0_col7\" class=\"col_heading level0 col7\" >Adj_R2_StdDev</th>\n",
       "    </tr>\n",
       "  </thead>\n",
       "  <tbody>\n",
       "    <tr>\n",
       "      <th id=\"T_6bb4d_level0_row0\" class=\"row_heading level0 row0\" >LinearRegression</th>\n",
       "      <td id=\"T_6bb4d_row0_col0\" class=\"data row0 col0\" >10.218517</td>\n",
       "      <td id=\"T_6bb4d_row0_col1\" class=\"data row0 col1\" >0.470264</td>\n",
       "      <td id=\"T_6bb4d_row0_col2\" class=\"data row0 col2\" >104.639245</td>\n",
       "      <td id=\"T_6bb4d_row0_col3\" class=\"data row0 col3\" >9.747068</td>\n",
       "      <td id=\"T_6bb4d_row0_col4\" class=\"data row0 col4\" >-0.322372</td>\n",
       "      <td id=\"T_6bb4d_row0_col5\" class=\"data row0 col5\" >0.096188</td>\n",
       "      <td id=\"T_6bb4d_row0_col6\" class=\"data row0 col6\" >3.284044</td>\n",
       "      <td id=\"T_6bb4d_row0_col7\" class=\"data row0 col7\" >0.180158</td>\n",
       "    </tr>\n",
       "  </tbody>\n",
       "</table>\n"
      ],
      "text/plain": [
       "<pandas.io.formats.style.Styler at 0x25b448d0310>"
      ]
     },
     "execution_count": 11,
     "metadata": {},
     "output_type": "execute_result"
    }
   ],
   "source": [
    "lr = LinearRegression()\n",
    "results = train_evaluate_model(lr, X_soy, y_soybean, 3)\n",
    "results.index = ['LinearRegression']\n",
    "\n",
    "results.sort_values(by='RMSE',ascending=True).style.background_gradient(cmap = sns.color_palette(\"ch:s=-.2,r=.6\", as_cmap=True))"
   ]
  },
  {
   "cell_type": "code",
   "execution_count": 13,
   "metadata": {},
   "outputs": [],
   "source": [
    "decision_tree = DecisionTreeRegressor()\n",
    "decision_tree_results = train_evaluate_model(decision_tree, X_soy, y_soybean, 3)\n",
    "\n",
    "decision_tree_results.index = ['DecisionTree']\n",
    "# results = pd.concat([results, decision_tree_results], ignore_index=False)\n",
    "\n",
    "results = results.append(decision_tree_results)"
   ]
  },
  {
   "cell_type": "code",
   "execution_count": 14,
   "metadata": {},
   "outputs": [
    {
     "data": {
      "text/html": [
       "<style type=\"text/css\">\n",
       "#T_410a7_row0_col0, #T_410a7_row0_col1, #T_410a7_row0_col2, #T_410a7_row0_col3, #T_410a7_row0_col6, #T_410a7_row1_col4, #T_410a7_row1_col5, #T_410a7_row1_col7 {\n",
       "  background-color: #e3d9c1;\n",
       "  color: #000000;\n",
       "}\n",
       "#T_410a7_row0_col4, #T_410a7_row0_col5, #T_410a7_row0_col7, #T_410a7_row1_col0, #T_410a7_row1_col1, #T_410a7_row1_col2, #T_410a7_row1_col3, #T_410a7_row1_col6 {\n",
       "  background-color: #27213f;\n",
       "  color: #f1f1f1;\n",
       "}\n",
       "</style>\n",
       "<table id=\"T_410a7\">\n",
       "  <thead>\n",
       "    <tr>\n",
       "      <th class=\"blank level0\" >&nbsp;</th>\n",
       "      <th id=\"T_410a7_level0_col0\" class=\"col_heading level0 col0\" >RMSE</th>\n",
       "      <th id=\"T_410a7_level0_col1\" class=\"col_heading level0 col1\" >RMSE_StdDev</th>\n",
       "      <th id=\"T_410a7_level0_col2\" class=\"col_heading level0 col2\" >Mean_Squared_Error</th>\n",
       "      <th id=\"T_410a7_level0_col3\" class=\"col_heading level0 col3\" >MSE_StdDev</th>\n",
       "      <th id=\"T_410a7_level0_col4\" class=\"col_heading level0 col4\" >R_squared</th>\n",
       "      <th id=\"T_410a7_level0_col5\" class=\"col_heading level0 col5\" >R2_StdDev</th>\n",
       "      <th id=\"T_410a7_level0_col6\" class=\"col_heading level0 col6\" >Adjusted_R_squared</th>\n",
       "      <th id=\"T_410a7_level0_col7\" class=\"col_heading level0 col7\" >Adj_R2_StdDev</th>\n",
       "    </tr>\n",
       "  </thead>\n",
       "  <tbody>\n",
       "    <tr>\n",
       "      <th id=\"T_410a7_level0_row0\" class=\"row_heading level0 row0\" >DecisionTree</th>\n",
       "      <td id=\"T_410a7_row0_col0\" class=\"data row0 col0\" >9.898451</td>\n",
       "      <td id=\"T_410a7_row0_col1\" class=\"data row0 col1\" >0.408550</td>\n",
       "      <td id=\"T_410a7_row0_col2\" class=\"data row0 col2\" >98.146245</td>\n",
       "      <td id=\"T_410a7_row0_col3\" class=\"data row0 col3\" >8.172337</td>\n",
       "      <td id=\"T_410a7_row0_col4\" class=\"data row0 col4\" >-0.243296</td>\n",
       "      <td id=\"T_410a7_row0_col5\" class=\"data row0 col5\" >0.113443</td>\n",
       "      <td id=\"T_410a7_row0_col6\" class=\"data row0 col6\" >3.145328</td>\n",
       "      <td id=\"T_410a7_row0_col7\" class=\"data row0 col7\" >0.183200</td>\n",
       "    </tr>\n",
       "    <tr>\n",
       "      <th id=\"T_410a7_level0_row1\" class=\"row_heading level0 row1\" >LinearRegression</th>\n",
       "      <td id=\"T_410a7_row1_col0\" class=\"data row1 col0\" >10.218517</td>\n",
       "      <td id=\"T_410a7_row1_col1\" class=\"data row1 col1\" >0.470264</td>\n",
       "      <td id=\"T_410a7_row1_col2\" class=\"data row1 col2\" >104.639245</td>\n",
       "      <td id=\"T_410a7_row1_col3\" class=\"data row1 col3\" >9.747068</td>\n",
       "      <td id=\"T_410a7_row1_col4\" class=\"data row1 col4\" >-0.322372</td>\n",
       "      <td id=\"T_410a7_row1_col5\" class=\"data row1 col5\" >0.096188</td>\n",
       "      <td id=\"T_410a7_row1_col6\" class=\"data row1 col6\" >3.284044</td>\n",
       "      <td id=\"T_410a7_row1_col7\" class=\"data row1 col7\" >0.180158</td>\n",
       "    </tr>\n",
       "  </tbody>\n",
       "</table>\n"
      ],
      "text/plain": [
       "<pandas.io.formats.style.Styler at 0x25b44948710>"
      ]
     },
     "execution_count": 14,
     "metadata": {},
     "output_type": "execute_result"
    }
   ],
   "source": [
    "results.sort_values(by='RMSE',ascending=True).style.background_gradient(cmap = sns.color_palette(\"ch:s=-.2,r=.6\", as_cmap=True))\n",
    " "
   ]
  },
  {
   "cell_type": "code",
   "execution_count": 15,
   "metadata": {},
   "outputs": [],
   "source": [
    "xgboost = xgb.XGBRegressor()\n",
    "xgboost_result = train_evaluate_model(xgboost, X_soy, y_soybean, 3)\n",
    "xgboost_result.index = ['XGBoost']\n",
    "\n",
    "results = results.append(xgboost_result)"
   ]
  },
  {
   "cell_type": "code",
   "execution_count": 16,
   "metadata": {},
   "outputs": [
    {
     "data": {
      "text/html": [
       "<style type=\"text/css\">\n",
       "#T_38790_row0_col0, #T_38790_row0_col2, #T_38790_row0_col3, #T_38790_row0_col5, #T_38790_row0_col6, #T_38790_row0_col7, #T_38790_row1_col1, #T_38790_row2_col4 {\n",
       "  background-color: #e3d9c1;\n",
       "  color: #000000;\n",
       "}\n",
       "#T_38790_row0_col1, #T_38790_row0_col4, #T_38790_row1_col5, #T_38790_row1_col7, #T_38790_row2_col0, #T_38790_row2_col2, #T_38790_row2_col3, #T_38790_row2_col6 {\n",
       "  background-color: #27213f;\n",
       "  color: #f1f1f1;\n",
       "}\n",
       "#T_38790_row1_col0 {\n",
       "  background-color: #3f2c55;\n",
       "  color: #f1f1f1;\n",
       "}\n",
       "#T_38790_row1_col2 {\n",
       "  background-color: #452e5a;\n",
       "  color: #f1f1f1;\n",
       "}\n",
       "#T_38790_row1_col3 {\n",
       "  background-color: #d3a699;\n",
       "  color: #000000;\n",
       "}\n",
       "#T_38790_row1_col4 {\n",
       "  background-color: #dbc1aa;\n",
       "  color: #000000;\n",
       "}\n",
       "#T_38790_row1_col6 {\n",
       "  background-color: #442e59;\n",
       "  color: #f1f1f1;\n",
       "}\n",
       "#T_38790_row2_col1 {\n",
       "  background-color: #ba7788;\n",
       "  color: #f1f1f1;\n",
       "}\n",
       "#T_38790_row2_col5 {\n",
       "  background-color: #b87588;\n",
       "  color: #f1f1f1;\n",
       "}\n",
       "#T_38790_row2_col7 {\n",
       "  background-color: #3d2b54;\n",
       "  color: #f1f1f1;\n",
       "}\n",
       "</style>\n",
       "<table id=\"T_38790\">\n",
       "  <thead>\n",
       "    <tr>\n",
       "      <th class=\"blank level0\" >&nbsp;</th>\n",
       "      <th id=\"T_38790_level0_col0\" class=\"col_heading level0 col0\" >RMSE</th>\n",
       "      <th id=\"T_38790_level0_col1\" class=\"col_heading level0 col1\" >RMSE_StdDev</th>\n",
       "      <th id=\"T_38790_level0_col2\" class=\"col_heading level0 col2\" >Mean_Squared_Error</th>\n",
       "      <th id=\"T_38790_level0_col3\" class=\"col_heading level0 col3\" >MSE_StdDev</th>\n",
       "      <th id=\"T_38790_level0_col4\" class=\"col_heading level0 col4\" >R_squared</th>\n",
       "      <th id=\"T_38790_level0_col5\" class=\"col_heading level0 col5\" >R2_StdDev</th>\n",
       "      <th id=\"T_38790_level0_col6\" class=\"col_heading level0 col6\" >Adjusted_R_squared</th>\n",
       "      <th id=\"T_38790_level0_col7\" class=\"col_heading level0 col7\" >Adj_R2_StdDev</th>\n",
       "    </tr>\n",
       "  </thead>\n",
       "  <tbody>\n",
       "    <tr>\n",
       "      <th id=\"T_38790_level0_row0\" class=\"row_heading level0 row0\" >XGBoost</th>\n",
       "      <td id=\"T_38790_row0_col0\" class=\"data row0 col0\" >6.796471</td>\n",
       "      <td id=\"T_38790_row0_col1\" class=\"data row0 col1\" >0.554763</td>\n",
       "      <td id=\"T_38790_row0_col2\" class=\"data row0 col2\" >46.499776</td>\n",
       "      <td id=\"T_38790_row0_col3\" class=\"data row0 col3\" >7.739858</td>\n",
       "      <td id=\"T_38790_row0_col4\" class=\"data row0 col4\" >0.413451</td>\n",
       "      <td id=\"T_38790_row0_col5\" class=\"data row0 col5\" >0.082859</td>\n",
       "      <td id=\"T_38790_row0_col6\" class=\"data row0 col6\" >2.013405</td>\n",
       "      <td id=\"T_38790_row0_col7\" class=\"data row0 col7\" >0.148447</td>\n",
       "    </tr>\n",
       "    <tr>\n",
       "      <th id=\"T_38790_level0_row1\" class=\"row_heading level0 row1\" >DecisionTree</th>\n",
       "      <td id=\"T_38790_row1_col0\" class=\"data row1 col0\" >9.898451</td>\n",
       "      <td id=\"T_38790_row1_col1\" class=\"data row1 col1\" >0.408550</td>\n",
       "      <td id=\"T_38790_row1_col2\" class=\"data row1 col2\" >98.146245</td>\n",
       "      <td id=\"T_38790_row1_col3\" class=\"data row1 col3\" >8.172337</td>\n",
       "      <td id=\"T_38790_row1_col4\" class=\"data row1 col4\" >-0.243296</td>\n",
       "      <td id=\"T_38790_row1_col5\" class=\"data row1 col5\" >0.113443</td>\n",
       "      <td id=\"T_38790_row1_col6\" class=\"data row1 col6\" >3.145328</td>\n",
       "      <td id=\"T_38790_row1_col7\" class=\"data row1 col7\" >0.183200</td>\n",
       "    </tr>\n",
       "    <tr>\n",
       "      <th id=\"T_38790_level0_row2\" class=\"row_heading level0 row2\" >LinearRegression</th>\n",
       "      <td id=\"T_38790_row2_col0\" class=\"data row2 col0\" >10.218517</td>\n",
       "      <td id=\"T_38790_row2_col1\" class=\"data row2 col1\" >0.470264</td>\n",
       "      <td id=\"T_38790_row2_col2\" class=\"data row2 col2\" >104.639245</td>\n",
       "      <td id=\"T_38790_row2_col3\" class=\"data row2 col3\" >9.747068</td>\n",
       "      <td id=\"T_38790_row2_col4\" class=\"data row2 col4\" >-0.322372</td>\n",
       "      <td id=\"T_38790_row2_col5\" class=\"data row2 col5\" >0.096188</td>\n",
       "      <td id=\"T_38790_row2_col6\" class=\"data row2 col6\" >3.284044</td>\n",
       "      <td id=\"T_38790_row2_col7\" class=\"data row2 col7\" >0.180158</td>\n",
       "    </tr>\n",
       "  </tbody>\n",
       "</table>\n"
      ],
      "text/plain": [
       "<pandas.io.formats.style.Styler at 0x25b448f5cd0>"
      ]
     },
     "execution_count": 16,
     "metadata": {},
     "output_type": "execute_result"
    }
   ],
   "source": [
    "results.sort_values(by='RMSE',ascending=True).style.background_gradient(cmap = sns.color_palette(\"ch:s=-.2,r=.6\", as_cmap=True))\n"
   ]
  },
  {
   "cell_type": "code",
   "execution_count": 17,
   "metadata": {},
   "outputs": [
    {
     "name": "stdout",
     "output_type": "stream",
     "text": [
      "[LightGBM] [Warning] Found whitespace in feature_names, replace with underlines\n",
      "[LightGBM] [Info] Auto-choosing col-wise multi-threading, the overhead of testing was 0.001621 seconds.\n",
      "You can set `force_col_wise=true` to remove the overhead.\n",
      "[LightGBM] [Info] Total Bins 31608\n",
      "[LightGBM] [Info] Number of data points in the train set: 355, number of used features: 279\n",
      "[LightGBM] [Info] Start training from score 39.090141\n",
      "[LightGBM] [Warning] No further splits with positive gain, best gain: -inf\n",
      "[LightGBM] [Warning] No further splits with positive gain, best gain: -inf\n",
      "[LightGBM] [Warning] No further splits with positive gain, best gain: -inf\n",
      "[LightGBM] [Warning] No further splits with positive gain, best gain: -inf\n",
      "[LightGBM] [Warning] No further splits with positive gain, best gain: -inf\n",
      "[LightGBM] [Warning] No further splits with positive gain, best gain: -inf\n",
      "[LightGBM] [Warning] No further splits with positive gain, best gain: -inf\n",
      "[LightGBM] [Warning] No further splits with positive gain, best gain: -inf\n",
      "[LightGBM] [Warning] No further splits with positive gain, best gain: -inf\n",
      "[LightGBM] [Warning] No further splits with positive gain, best gain: -inf\n",
      "[LightGBM] [Warning] No further splits with positive gain, best gain: -inf\n",
      "[LightGBM] [Warning] No further splits with positive gain, best gain: -inf\n",
      "[LightGBM] [Warning] No further splits with positive gain, best gain: -inf\n",
      "[LightGBM] [Warning] No further splits with positive gain, best gain: -inf\n",
      "[LightGBM] [Warning] No further splits with positive gain, best gain: -inf\n",
      "[LightGBM] [Warning] No further splits with positive gain, best gain: -inf\n",
      "[LightGBM] [Warning] No further splits with positive gain, best gain: -inf\n",
      "[LightGBM] [Warning] No further splits with positive gain, best gain: -inf\n",
      "[LightGBM] [Warning] No further splits with positive gain, best gain: -inf\n",
      "[LightGBM] [Warning] No further splits with positive gain, best gain: -inf\n",
      "[LightGBM] [Warning] No further splits with positive gain, best gain: -inf\n",
      "[LightGBM] [Warning] No further splits with positive gain, best gain: -inf\n",
      "[LightGBM] [Warning] No further splits with positive gain, best gain: -inf\n",
      "[LightGBM] [Warning] No further splits with positive gain, best gain: -inf\n",
      "[LightGBM] [Warning] No further splits with positive gain, best gain: -inf\n",
      "[LightGBM] [Warning] No further splits with positive gain, best gain: -inf\n",
      "[LightGBM] [Warning] No further splits with positive gain, best gain: -inf\n",
      "[LightGBM] [Warning] No further splits with positive gain, best gain: -inf\n",
      "[LightGBM] [Warning] No further splits with positive gain, best gain: -inf\n",
      "[LightGBM] [Warning] No further splits with positive gain, best gain: -inf\n",
      "[LightGBM] [Warning] No further splits with positive gain, best gain: -inf\n",
      "[LightGBM] [Warning] No further splits with positive gain, best gain: -inf\n",
      "[LightGBM] [Warning] No further splits with positive gain, best gain: -inf\n",
      "[LightGBM] [Warning] No further splits with positive gain, best gain: -inf\n",
      "[LightGBM] [Warning] No further splits with positive gain, best gain: -inf\n",
      "[LightGBM] [Warning] No further splits with positive gain, best gain: -inf\n",
      "[LightGBM] [Warning] No further splits with positive gain, best gain: -inf\n",
      "[LightGBM] [Warning] No further splits with positive gain, best gain: -inf\n",
      "[LightGBM] [Warning] No further splits with positive gain, best gain: -inf\n",
      "[LightGBM] [Warning] No further splits with positive gain, best gain: -inf\n",
      "[LightGBM] [Warning] No further splits with positive gain, best gain: -inf\n",
      "[LightGBM] [Warning] No further splits with positive gain, best gain: -inf\n",
      "[LightGBM] [Warning] No further splits with positive gain, best gain: -inf\n",
      "[LightGBM] [Warning] No further splits with positive gain, best gain: -inf\n",
      "[LightGBM] [Warning] No further splits with positive gain, best gain: -inf\n",
      "[LightGBM] [Warning] No further splits with positive gain, best gain: -inf\n",
      "[LightGBM] [Warning] No further splits with positive gain, best gain: -inf\n",
      "[LightGBM] [Warning] No further splits with positive gain, best gain: -inf\n",
      "[LightGBM] [Warning] No further splits with positive gain, best gain: -inf\n",
      "[LightGBM] [Warning] No further splits with positive gain, best gain: -inf\n",
      "[LightGBM] [Warning] No further splits with positive gain, best gain: -inf\n",
      "[LightGBM] [Warning] No further splits with positive gain, best gain: -inf\n",
      "[LightGBM] [Warning] No further splits with positive gain, best gain: -inf\n",
      "[LightGBM] [Warning] No further splits with positive gain, best gain: -inf\n",
      "[LightGBM] [Warning] No further splits with positive gain, best gain: -inf\n",
      "[LightGBM] [Warning] No further splits with positive gain, best gain: -inf\n",
      "[LightGBM] [Warning] No further splits with positive gain, best gain: -inf\n",
      "[LightGBM] [Warning] No further splits with positive gain, best gain: -inf\n",
      "[LightGBM] [Warning] No further splits with positive gain, best gain: -inf\n",
      "[LightGBM] [Warning] No further splits with positive gain, best gain: -inf\n",
      "[LightGBM] [Warning] No further splits with positive gain, best gain: -inf\n",
      "[LightGBM] [Warning] No further splits with positive gain, best gain: -inf\n",
      "[LightGBM] [Warning] No further splits with positive gain, best gain: -inf\n",
      "[LightGBM] [Warning] No further splits with positive gain, best gain: -inf\n",
      "[LightGBM] [Warning] No further splits with positive gain, best gain: -inf\n",
      "[LightGBM] [Warning] No further splits with positive gain, best gain: -inf\n",
      "[LightGBM] [Warning] No further splits with positive gain, best gain: -inf\n",
      "[LightGBM] [Warning] No further splits with positive gain, best gain: -inf\n",
      "[LightGBM] [Warning] No further splits with positive gain, best gain: -inf\n",
      "[LightGBM] [Warning] No further splits with positive gain, best gain: -inf\n",
      "[LightGBM] [Warning] No further splits with positive gain, best gain: -inf\n",
      "[LightGBM] [Warning] No further splits with positive gain, best gain: -inf\n",
      "[LightGBM] [Warning] No further splits with positive gain, best gain: -inf\n",
      "[LightGBM] [Warning] No further splits with positive gain, best gain: -inf\n",
      "[LightGBM] [Warning] No further splits with positive gain, best gain: -inf\n",
      "[LightGBM] [Warning] No further splits with positive gain, best gain: -inf\n",
      "[LightGBM] [Warning] No further splits with positive gain, best gain: -inf\n",
      "[LightGBM] [Warning] No further splits with positive gain, best gain: -inf\n",
      "[LightGBM] [Warning] No further splits with positive gain, best gain: -inf\n",
      "[LightGBM] [Warning] No further splits with positive gain, best gain: -inf\n",
      "[LightGBM] [Warning] No further splits with positive gain, best gain: -inf\n",
      "[LightGBM] [Warning] No further splits with positive gain, best gain: -inf\n",
      "[LightGBM] [Warning] No further splits with positive gain, best gain: -inf\n",
      "[LightGBM] [Warning] No further splits with positive gain, best gain: -inf\n",
      "[LightGBM] [Warning] No further splits with positive gain, best gain: -inf\n",
      "[LightGBM] [Warning] No further splits with positive gain, best gain: -inf\n",
      "[LightGBM] [Warning] No further splits with positive gain, best gain: -inf\n",
      "[LightGBM] [Warning] No further splits with positive gain, best gain: -inf\n",
      "[LightGBM] [Warning] No further splits with positive gain, best gain: -inf\n",
      "[LightGBM] [Warning] No further splits with positive gain, best gain: -inf\n",
      "[LightGBM] [Warning] No further splits with positive gain, best gain: -inf\n",
      "[LightGBM] [Warning] No further splits with positive gain, best gain: -inf\n",
      "[LightGBM] [Warning] No further splits with positive gain, best gain: -inf\n",
      "[LightGBM] [Warning] No further splits with positive gain, best gain: -inf\n",
      "[LightGBM] [Warning] No further splits with positive gain, best gain: -inf\n",
      "[LightGBM] [Warning] No further splits with positive gain, best gain: -inf\n",
      "[LightGBM] [Warning] No further splits with positive gain, best gain: -inf\n",
      "[LightGBM] [Warning] No further splits with positive gain, best gain: -inf\n",
      "[LightGBM] [Warning] No further splits with positive gain, best gain: -inf\n",
      "[LightGBM] [Warning] No further splits with positive gain, best gain: -inf\n",
      "[LightGBM] [Warning] Found whitespace in feature_names, replace with underlines\n",
      "[LightGBM] [Info] Auto-choosing col-wise multi-threading, the overhead of testing was 0.001323 seconds.\n",
      "You can set `force_col_wise=true` to remove the overhead.\n",
      "[LightGBM] [Info] Total Bins 31674\n",
      "[LightGBM] [Info] Number of data points in the train set: 355, number of used features: 279\n",
      "[LightGBM] [Info] Start training from score 38.960563\n",
      "[LightGBM] [Warning] No further splits with positive gain, best gain: -inf\n",
      "[LightGBM] [Warning] No further splits with positive gain, best gain: -inf\n",
      "[LightGBM] [Warning] No further splits with positive gain, best gain: -inf\n",
      "[LightGBM] [Warning] No further splits with positive gain, best gain: -inf\n",
      "[LightGBM] [Warning] No further splits with positive gain, best gain: -inf\n",
      "[LightGBM] [Warning] No further splits with positive gain, best gain: -inf\n",
      "[LightGBM] [Warning] No further splits with positive gain, best gain: -inf\n",
      "[LightGBM] [Warning] No further splits with positive gain, best gain: -inf\n",
      "[LightGBM] [Warning] No further splits with positive gain, best gain: -inf\n",
      "[LightGBM] [Warning] No further splits with positive gain, best gain: -inf\n",
      "[LightGBM] [Warning] No further splits with positive gain, best gain: -inf\n",
      "[LightGBM] [Warning] No further splits with positive gain, best gain: -inf\n",
      "[LightGBM] [Warning] No further splits with positive gain, best gain: -inf\n",
      "[LightGBM] [Warning] No further splits with positive gain, best gain: -inf\n",
      "[LightGBM] [Warning] No further splits with positive gain, best gain: -inf\n",
      "[LightGBM] [Warning] No further splits with positive gain, best gain: -inf\n",
      "[LightGBM] [Warning] No further splits with positive gain, best gain: -inf\n",
      "[LightGBM] [Warning] No further splits with positive gain, best gain: -inf\n",
      "[LightGBM] [Warning] No further splits with positive gain, best gain: -inf\n",
      "[LightGBM] [Warning] No further splits with positive gain, best gain: -inf\n",
      "[LightGBM] [Warning] No further splits with positive gain, best gain: -inf\n",
      "[LightGBM] [Warning] No further splits with positive gain, best gain: -inf\n",
      "[LightGBM] [Warning] No further splits with positive gain, best gain: -inf\n",
      "[LightGBM] [Warning] No further splits with positive gain, best gain: -inf\n",
      "[LightGBM] [Warning] No further splits with positive gain, best gain: -inf\n",
      "[LightGBM] [Warning] No further splits with positive gain, best gain: -inf\n",
      "[LightGBM] [Warning] No further splits with positive gain, best gain: -inf\n",
      "[LightGBM] [Warning] No further splits with positive gain, best gain: -inf\n",
      "[LightGBM] [Warning] No further splits with positive gain, best gain: -inf\n",
      "[LightGBM] [Warning] No further splits with positive gain, best gain: -inf\n",
      "[LightGBM] [Warning] No further splits with positive gain, best gain: -inf\n",
      "[LightGBM] [Warning] No further splits with positive gain, best gain: -inf\n",
      "[LightGBM] [Warning] No further splits with positive gain, best gain: -inf\n",
      "[LightGBM] [Warning] No further splits with positive gain, best gain: -inf\n",
      "[LightGBM] [Warning] No further splits with positive gain, best gain: -inf\n",
      "[LightGBM] [Warning] No further splits with positive gain, best gain: -inf\n",
      "[LightGBM] [Warning] No further splits with positive gain, best gain: -inf\n",
      "[LightGBM] [Warning] No further splits with positive gain, best gain: -inf\n",
      "[LightGBM] [Warning] No further splits with positive gain, best gain: -inf\n",
      "[LightGBM] [Warning] No further splits with positive gain, best gain: -inf\n",
      "[LightGBM] [Warning] No further splits with positive gain, best gain: -inf\n",
      "[LightGBM] [Warning] No further splits with positive gain, best gain: -inf\n",
      "[LightGBM] [Warning] No further splits with positive gain, best gain: -inf\n",
      "[LightGBM] [Warning] No further splits with positive gain, best gain: -inf\n",
      "[LightGBM] [Warning] No further splits with positive gain, best gain: -inf\n",
      "[LightGBM] [Warning] No further splits with positive gain, best gain: -inf\n",
      "[LightGBM] [Warning] No further splits with positive gain, best gain: -inf\n",
      "[LightGBM] [Warning] No further splits with positive gain, best gain: -inf\n",
      "[LightGBM] [Warning] No further splits with positive gain, best gain: -inf\n",
      "[LightGBM] [Warning] No further splits with positive gain, best gain: -inf\n",
      "[LightGBM] [Warning] No further splits with positive gain, best gain: -inf\n",
      "[LightGBM] [Warning] No further splits with positive gain, best gain: -inf\n",
      "[LightGBM] [Warning] No further splits with positive gain, best gain: -inf\n",
      "[LightGBM] [Warning] No further splits with positive gain, best gain: -inf\n",
      "[LightGBM] [Warning] No further splits with positive gain, best gain: -inf\n",
      "[LightGBM] [Warning] No further splits with positive gain, best gain: -inf\n",
      "[LightGBM] [Warning] No further splits with positive gain, best gain: -inf\n",
      "[LightGBM] [Warning] No further splits with positive gain, best gain: -inf\n",
      "[LightGBM] [Warning] No further splits with positive gain, best gain: -inf\n",
      "[LightGBM] [Warning] No further splits with positive gain, best gain: -inf\n",
      "[LightGBM] [Warning] No further splits with positive gain, best gain: -inf\n",
      "[LightGBM] [Warning] No further splits with positive gain, best gain: -inf\n",
      "[LightGBM] [Warning] No further splits with positive gain, best gain: -inf\n",
      "[LightGBM] [Warning] No further splits with positive gain, best gain: -inf\n",
      "[LightGBM] [Warning] No further splits with positive gain, best gain: -inf\n",
      "[LightGBM] [Warning] No further splits with positive gain, best gain: -inf\n",
      "[LightGBM] [Warning] No further splits with positive gain, best gain: -inf\n",
      "[LightGBM] [Warning] No further splits with positive gain, best gain: -inf\n",
      "[LightGBM] [Warning] No further splits with positive gain, best gain: -inf\n",
      "[LightGBM] [Warning] No further splits with positive gain, best gain: -inf\n",
      "[LightGBM] [Warning] No further splits with positive gain, best gain: -inf\n",
      "[LightGBM] [Warning] No further splits with positive gain, best gain: -inf\n",
      "[LightGBM] [Warning] No further splits with positive gain, best gain: -inf\n",
      "[LightGBM] [Warning] No further splits with positive gain, best gain: -inf\n",
      "[LightGBM] [Warning] No further splits with positive gain, best gain: -inf\n",
      "[LightGBM] [Warning] No further splits with positive gain, best gain: -inf\n",
      "[LightGBM] [Warning] No further splits with positive gain, best gain: -inf\n",
      "[LightGBM] [Warning] No further splits with positive gain, best gain: -inf\n",
      "[LightGBM] [Warning] No further splits with positive gain, best gain: -inf\n",
      "[LightGBM] [Warning] No further splits with positive gain, best gain: -inf\n",
      "[LightGBM] [Warning] No further splits with positive gain, best gain: -inf\n",
      "[LightGBM] [Warning] No further splits with positive gain, best gain: -inf\n",
      "[LightGBM] [Warning] No further splits with positive gain, best gain: -inf\n",
      "[LightGBM] [Warning] No further splits with positive gain, best gain: -inf\n",
      "[LightGBM] [Warning] No further splits with positive gain, best gain: -inf\n",
      "[LightGBM] [Warning] No further splits with positive gain, best gain: -inf\n",
      "[LightGBM] [Warning] No further splits with positive gain, best gain: -inf\n",
      "[LightGBM] [Warning] No further splits with positive gain, best gain: -inf\n",
      "[LightGBM] [Warning] No further splits with positive gain, best gain: -inf\n",
      "[LightGBM] [Warning] No further splits with positive gain, best gain: -inf\n",
      "[LightGBM] [Warning] No further splits with positive gain, best gain: -inf\n",
      "[LightGBM] [Warning] No further splits with positive gain, best gain: -inf\n",
      "[LightGBM] [Warning] No further splits with positive gain, best gain: -inf\n",
      "[LightGBM] [Warning] No further splits with positive gain, best gain: -inf\n",
      "[LightGBM] [Warning] No further splits with positive gain, best gain: -inf\n",
      "[LightGBM] [Warning] No further splits with positive gain, best gain: -inf\n",
      "[LightGBM] [Warning] No further splits with positive gain, best gain: -inf\n",
      "[LightGBM] [Warning] No further splits with positive gain, best gain: -inf\n",
      "[LightGBM] [Warning] No further splits with positive gain, best gain: -inf\n",
      "[LightGBM] [Warning] No further splits with positive gain, best gain: -inf\n",
      "[LightGBM] [Warning] Found whitespace in feature_names, replace with underlines\n",
      "[LightGBM] [Info] Auto-choosing col-wise multi-threading, the overhead of testing was 0.001288 seconds.\n",
      "You can set `force_col_wise=true` to remove the overhead.\n",
      "[LightGBM] [Info] Total Bins 31615\n",
      "[LightGBM] [Info] Number of data points in the train set: 356, number of used features: 279\n",
      "[LightGBM] [Info] Start training from score 38.530899\n",
      "[LightGBM] [Warning] No further splits with positive gain, best gain: -inf\n",
      "[LightGBM] [Warning] No further splits with positive gain, best gain: -inf\n",
      "[LightGBM] [Warning] No further splits with positive gain, best gain: -inf\n",
      "[LightGBM] [Warning] No further splits with positive gain, best gain: -inf\n",
      "[LightGBM] [Warning] No further splits with positive gain, best gain: -inf\n",
      "[LightGBM] [Warning] No further splits with positive gain, best gain: -inf\n",
      "[LightGBM] [Warning] No further splits with positive gain, best gain: -inf\n",
      "[LightGBM] [Warning] No further splits with positive gain, best gain: -inf\n",
      "[LightGBM] [Warning] No further splits with positive gain, best gain: -inf\n",
      "[LightGBM] [Warning] No further splits with positive gain, best gain: -inf\n",
      "[LightGBM] [Warning] No further splits with positive gain, best gain: -inf\n",
      "[LightGBM] [Warning] No further splits with positive gain, best gain: -inf\n",
      "[LightGBM] [Warning] No further splits with positive gain, best gain: -inf\n",
      "[LightGBM] [Warning] No further splits with positive gain, best gain: -inf\n",
      "[LightGBM] [Warning] No further splits with positive gain, best gain: -inf\n",
      "[LightGBM] [Warning] No further splits with positive gain, best gain: -inf\n",
      "[LightGBM] [Warning] No further splits with positive gain, best gain: -inf\n",
      "[LightGBM] [Warning] No further splits with positive gain, best gain: -inf\n",
      "[LightGBM] [Warning] No further splits with positive gain, best gain: -inf\n",
      "[LightGBM] [Warning] No further splits with positive gain, best gain: -inf\n",
      "[LightGBM] [Warning] No further splits with positive gain, best gain: -inf\n",
      "[LightGBM] [Warning] No further splits with positive gain, best gain: -inf\n",
      "[LightGBM] [Warning] No further splits with positive gain, best gain: -inf\n",
      "[LightGBM] [Warning] No further splits with positive gain, best gain: -inf\n",
      "[LightGBM] [Warning] No further splits with positive gain, best gain: -inf\n",
      "[LightGBM] [Warning] No further splits with positive gain, best gain: -inf\n",
      "[LightGBM] [Warning] No further splits with positive gain, best gain: -inf\n",
      "[LightGBM] [Warning] No further splits with positive gain, best gain: -inf\n",
      "[LightGBM] [Warning] No further splits with positive gain, best gain: -inf\n",
      "[LightGBM] [Warning] No further splits with positive gain, best gain: -inf\n",
      "[LightGBM] [Warning] No further splits with positive gain, best gain: -inf\n",
      "[LightGBM] [Warning] No further splits with positive gain, best gain: -inf\n",
      "[LightGBM] [Warning] No further splits with positive gain, best gain: -inf\n",
      "[LightGBM] [Warning] No further splits with positive gain, best gain: -inf\n",
      "[LightGBM] [Warning] No further splits with positive gain, best gain: -inf\n",
      "[LightGBM] [Warning] No further splits with positive gain, best gain: -inf\n",
      "[LightGBM] [Warning] No further splits with positive gain, best gain: -inf\n",
      "[LightGBM] [Warning] No further splits with positive gain, best gain: -inf\n",
      "[LightGBM] [Warning] No further splits with positive gain, best gain: -inf\n",
      "[LightGBM] [Warning] No further splits with positive gain, best gain: -inf\n",
      "[LightGBM] [Warning] No further splits with positive gain, best gain: -inf\n",
      "[LightGBM] [Warning] No further splits with positive gain, best gain: -inf\n",
      "[LightGBM] [Warning] No further splits with positive gain, best gain: -inf\n",
      "[LightGBM] [Warning] No further splits with positive gain, best gain: -inf\n",
      "[LightGBM] [Warning] No further splits with positive gain, best gain: -inf\n",
      "[LightGBM] [Warning] No further splits with positive gain, best gain: -inf\n",
      "[LightGBM] [Warning] No further splits with positive gain, best gain: -inf\n",
      "[LightGBM] [Warning] No further splits with positive gain, best gain: -inf\n",
      "[LightGBM] [Warning] No further splits with positive gain, best gain: -inf\n",
      "[LightGBM] [Warning] No further splits with positive gain, best gain: -inf\n",
      "[LightGBM] [Warning] No further splits with positive gain, best gain: -inf\n",
      "[LightGBM] [Warning] No further splits with positive gain, best gain: -inf\n",
      "[LightGBM] [Warning] No further splits with positive gain, best gain: -inf\n",
      "[LightGBM] [Warning] No further splits with positive gain, best gain: -inf\n",
      "[LightGBM] [Warning] No further splits with positive gain, best gain: -inf\n",
      "[LightGBM] [Warning] No further splits with positive gain, best gain: -inf\n",
      "[LightGBM] [Warning] No further splits with positive gain, best gain: -inf\n",
      "[LightGBM] [Warning] No further splits with positive gain, best gain: -inf\n",
      "[LightGBM] [Warning] No further splits with positive gain, best gain: -inf\n",
      "[LightGBM] [Warning] No further splits with positive gain, best gain: -inf\n",
      "[LightGBM] [Warning] No further splits with positive gain, best gain: -inf\n",
      "[LightGBM] [Warning] No further splits with positive gain, best gain: -inf\n",
      "[LightGBM] [Warning] No further splits with positive gain, best gain: -inf\n",
      "[LightGBM] [Warning] No further splits with positive gain, best gain: -inf\n",
      "[LightGBM] [Warning] No further splits with positive gain, best gain: -inf\n",
      "[LightGBM] [Warning] No further splits with positive gain, best gain: -inf\n",
      "[LightGBM] [Warning] No further splits with positive gain, best gain: -inf\n",
      "[LightGBM] [Warning] No further splits with positive gain, best gain: -inf\n",
      "[LightGBM] [Warning] No further splits with positive gain, best gain: -inf\n",
      "[LightGBM] [Warning] No further splits with positive gain, best gain: -inf\n",
      "[LightGBM] [Warning] No further splits with positive gain, best gain: -inf\n",
      "[LightGBM] [Warning] No further splits with positive gain, best gain: -inf\n",
      "[LightGBM] [Warning] No further splits with positive gain, best gain: -inf\n",
      "[LightGBM] [Warning] No further splits with positive gain, best gain: -inf\n",
      "[LightGBM] [Warning] No further splits with positive gain, best gain: -inf\n",
      "[LightGBM] [Warning] No further splits with positive gain, best gain: -inf\n",
      "[LightGBM] [Warning] No further splits with positive gain, best gain: -inf\n",
      "[LightGBM] [Warning] No further splits with positive gain, best gain: -inf\n",
      "[LightGBM] [Warning] No further splits with positive gain, best gain: -inf\n",
      "[LightGBM] [Warning] No further splits with positive gain, best gain: -inf\n",
      "[LightGBM] [Warning] No further splits with positive gain, best gain: -inf\n",
      "[LightGBM] [Warning] No further splits with positive gain, best gain: -inf\n",
      "[LightGBM] [Warning] No further splits with positive gain, best gain: -inf\n",
      "[LightGBM] [Warning] No further splits with positive gain, best gain: -inf\n",
      "[LightGBM] [Warning] No further splits with positive gain, best gain: -inf\n",
      "[LightGBM] [Warning] No further splits with positive gain, best gain: -inf\n",
      "[LightGBM] [Warning] No further splits with positive gain, best gain: -inf\n",
      "[LightGBM] [Warning] No further splits with positive gain, best gain: -inf\n",
      "[LightGBM] [Warning] No further splits with positive gain, best gain: -inf\n",
      "[LightGBM] [Warning] No further splits with positive gain, best gain: -inf\n",
      "[LightGBM] [Warning] No further splits with positive gain, best gain: -inf\n",
      "[LightGBM] [Warning] No further splits with positive gain, best gain: -inf\n",
      "[LightGBM] [Warning] No further splits with positive gain, best gain: -inf\n",
      "[LightGBM] [Warning] No further splits with positive gain, best gain: -inf\n",
      "[LightGBM] [Warning] No further splits with positive gain, best gain: -inf\n",
      "[LightGBM] [Warning] No further splits with positive gain, best gain: -inf\n",
      "[LightGBM] [Warning] No further splits with positive gain, best gain: -inf\n",
      "[LightGBM] [Warning] No further splits with positive gain, best gain: -inf\n",
      "[LightGBM] [Warning] No further splits with positive gain, best gain: -inf\n",
      "[LightGBM] [Warning] No further splits with positive gain, best gain: -inf\n"
     ]
    }
   ],
   "source": [
    "lgbmr = LGBMRegressor()\n",
    "lgbmr_result = train_evaluate_model(lgbmr, X_soy, y_soybean, 3)\n",
    "lgbmr_result.index = ['LGBM']\n",
    "\n",
    "results = results.append(lgbmr_result)"
   ]
  },
  {
   "cell_type": "code",
   "execution_count": 18,
   "metadata": {},
   "outputs": [
    {
     "data": {
      "text/html": [
       "<style type=\"text/css\">\n",
       "#T_5c771_row0_col0, #T_5c771_row0_col1, #T_5c771_row0_col2, #T_5c771_row0_col3, #T_5c771_row0_col5, #T_5c771_row0_col6, #T_5c771_row0_col7, #T_5c771_row3_col4 {\n",
       "  background-color: #e3d9c1;\n",
       "  color: #000000;\n",
       "}\n",
       "#T_5c771_row0_col4, #T_5c771_row1_col1, #T_5c771_row2_col5, #T_5c771_row2_col7, #T_5c771_row3_col0, #T_5c771_row3_col2, #T_5c771_row3_col3, #T_5c771_row3_col6 {\n",
       "  background-color: #27213f;\n",
       "  color: #f1f1f1;\n",
       "}\n",
       "#T_5c771_row1_col0 {\n",
       "  background-color: #d6af9e;\n",
       "  color: #000000;\n",
       "}\n",
       "#T_5c771_row1_col2, #T_5c771_row1_col6 {\n",
       "  background-color: #d8b7a3;\n",
       "  color: #000000;\n",
       "}\n",
       "#T_5c771_row1_col3, #T_5c771_row1_col7 {\n",
       "  background-color: #6f4172;\n",
       "  color: #f1f1f1;\n",
       "}\n",
       "#T_5c771_row1_col4 {\n",
       "  background-color: #4f3261;\n",
       "  color: #f1f1f1;\n",
       "}\n",
       "#T_5c771_row1_col5 {\n",
       "  background-color: #884d7b;\n",
       "  color: #f1f1f1;\n",
       "}\n",
       "#T_5c771_row2_col0 {\n",
       "  background-color: #3a2a51;\n",
       "  color: #f1f1f1;\n",
       "}\n",
       "#T_5c771_row2_col1 {\n",
       "  background-color: #91537e;\n",
       "  color: #f1f1f1;\n",
       "}\n",
       "#T_5c771_row2_col2 {\n",
       "  background-color: #402c56;\n",
       "  color: #f1f1f1;\n",
       "}\n",
       "#T_5c771_row2_col3 {\n",
       "  background-color: #5f396a;\n",
       "  color: #f1f1f1;\n",
       "}\n",
       "#T_5c771_row2_col4 {\n",
       "  background-color: #dcc5ad;\n",
       "  color: #000000;\n",
       "}\n",
       "#T_5c771_row2_col6 {\n",
       "  background-color: #3f2c55;\n",
       "  color: #f1f1f1;\n",
       "}\n",
       "#T_5c771_row3_col1 {\n",
       "  background-color: #643b6d;\n",
       "  color: #f1f1f1;\n",
       "}\n",
       "#T_5c771_row3_col5 {\n",
       "  background-color: #5d3969;\n",
       "  color: #f1f1f1;\n",
       "}\n",
       "#T_5c771_row3_col7 {\n",
       "  background-color: #2c2344;\n",
       "  color: #f1f1f1;\n",
       "}\n",
       "</style>\n",
       "<table id=\"T_5c771\">\n",
       "  <thead>\n",
       "    <tr>\n",
       "      <th class=\"blank level0\" >&nbsp;</th>\n",
       "      <th id=\"T_5c771_level0_col0\" class=\"col_heading level0 col0\" >RMSE</th>\n",
       "      <th id=\"T_5c771_level0_col1\" class=\"col_heading level0 col1\" >RMSE_StdDev</th>\n",
       "      <th id=\"T_5c771_level0_col2\" class=\"col_heading level0 col2\" >Mean_Squared_Error</th>\n",
       "      <th id=\"T_5c771_level0_col3\" class=\"col_heading level0 col3\" >MSE_StdDev</th>\n",
       "      <th id=\"T_5c771_level0_col4\" class=\"col_heading level0 col4\" >R_squared</th>\n",
       "      <th id=\"T_5c771_level0_col5\" class=\"col_heading level0 col5\" >R2_StdDev</th>\n",
       "      <th id=\"T_5c771_level0_col6\" class=\"col_heading level0 col6\" >Adjusted_R_squared</th>\n",
       "      <th id=\"T_5c771_level0_col7\" class=\"col_heading level0 col7\" >Adj_R2_StdDev</th>\n",
       "    </tr>\n",
       "  </thead>\n",
       "  <tbody>\n",
       "    <tr>\n",
       "      <th id=\"T_5c771_level0_row0\" class=\"row_heading level0 row0\" >LGBM</th>\n",
       "      <td id=\"T_5c771_row0_col0\" class=\"data row0 col0\" >6.030651</td>\n",
       "      <td id=\"T_5c771_row0_col1\" class=\"data row0 col1\" >0.169878</td>\n",
       "      <td id=\"T_5c771_row0_col2\" class=\"data row0 col2\" >36.397615</td>\n",
       "      <td id=\"T_5c771_row0_col3\" class=\"data row0 col3\" >2.046089</td>\n",
       "      <td id=\"T_5c771_row0_col4\" class=\"data row0 col4\" >0.539319</td>\n",
       "      <td id=\"T_5c771_row0_col5\" class=\"data row0 col5\" >0.025633</td>\n",
       "      <td id=\"T_5c771_row0_col6\" class=\"data row0 col6\" >1.795654</td>\n",
       "      <td id=\"T_5c771_row0_col7\" class=\"data row0 col7\" >0.049729</td>\n",
       "    </tr>\n",
       "    <tr>\n",
       "      <th id=\"T_5c771_level0_row1\" class=\"row_heading level0 row1\" >XGBoost</th>\n",
       "      <td id=\"T_5c771_row1_col0\" class=\"data row1 col0\" >6.796471</td>\n",
       "      <td id=\"T_5c771_row1_col1\" class=\"data row1 col1\" >0.554763</td>\n",
       "      <td id=\"T_5c771_row1_col2\" class=\"data row1 col2\" >46.499776</td>\n",
       "      <td id=\"T_5c771_row1_col3\" class=\"data row1 col3\" >7.739858</td>\n",
       "      <td id=\"T_5c771_row1_col4\" class=\"data row1 col4\" >0.413451</td>\n",
       "      <td id=\"T_5c771_row1_col5\" class=\"data row1 col5\" >0.082859</td>\n",
       "      <td id=\"T_5c771_row1_col6\" class=\"data row1 col6\" >2.013405</td>\n",
       "      <td id=\"T_5c771_row1_col7\" class=\"data row1 col7\" >0.148447</td>\n",
       "    </tr>\n",
       "    <tr>\n",
       "      <th id=\"T_5c771_level0_row2\" class=\"row_heading level0 row2\" >DecisionTree</th>\n",
       "      <td id=\"T_5c771_row2_col0\" class=\"data row2 col0\" >9.898451</td>\n",
       "      <td id=\"T_5c771_row2_col1\" class=\"data row2 col1\" >0.408550</td>\n",
       "      <td id=\"T_5c771_row2_col2\" class=\"data row2 col2\" >98.146245</td>\n",
       "      <td id=\"T_5c771_row2_col3\" class=\"data row2 col3\" >8.172337</td>\n",
       "      <td id=\"T_5c771_row2_col4\" class=\"data row2 col4\" >-0.243296</td>\n",
       "      <td id=\"T_5c771_row2_col5\" class=\"data row2 col5\" >0.113443</td>\n",
       "      <td id=\"T_5c771_row2_col6\" class=\"data row2 col6\" >3.145328</td>\n",
       "      <td id=\"T_5c771_row2_col7\" class=\"data row2 col7\" >0.183200</td>\n",
       "    </tr>\n",
       "    <tr>\n",
       "      <th id=\"T_5c771_level0_row3\" class=\"row_heading level0 row3\" >LinearRegression</th>\n",
       "      <td id=\"T_5c771_row3_col0\" class=\"data row3 col0\" >10.218517</td>\n",
       "      <td id=\"T_5c771_row3_col1\" class=\"data row3 col1\" >0.470264</td>\n",
       "      <td id=\"T_5c771_row3_col2\" class=\"data row3 col2\" >104.639245</td>\n",
       "      <td id=\"T_5c771_row3_col3\" class=\"data row3 col3\" >9.747068</td>\n",
       "      <td id=\"T_5c771_row3_col4\" class=\"data row3 col4\" >-0.322372</td>\n",
       "      <td id=\"T_5c771_row3_col5\" class=\"data row3 col5\" >0.096188</td>\n",
       "      <td id=\"T_5c771_row3_col6\" class=\"data row3 col6\" >3.284044</td>\n",
       "      <td id=\"T_5c771_row3_col7\" class=\"data row3 col7\" >0.180158</td>\n",
       "    </tr>\n",
       "  </tbody>\n",
       "</table>\n"
      ],
      "text/plain": [
       "<pandas.io.formats.style.Styler at 0x25b448d0510>"
      ]
     },
     "execution_count": 18,
     "metadata": {},
     "output_type": "execute_result"
    }
   ],
   "source": [
    "results.sort_values(by='RMSE',ascending=True).style.background_gradient(cmap = sns.color_palette(\"ch:s=-.2,r=.6\", as_cmap=True))\n"
   ]
  },
  {
   "cell_type": "code",
   "execution_count": 19,
   "metadata": {},
   "outputs": [],
   "source": [
    "from sklearn.ensemble import AdaBoostRegressor\n",
    "ada_regressor = AdaBoostRegressor()\n",
    "ada_result = train_evaluate_model(ada_regressor, X_soy, y_soybean, 3)\n",
    "ada_result.index = ['AdaBoost']\n",
    "results = results.append(ada_result)"
   ]
  },
  {
   "cell_type": "code",
   "execution_count": 20,
   "metadata": {},
   "outputs": [
    {
     "data": {
      "text/html": [
       "<style type=\"text/css\">\n",
       "#T_1091c_row0_col0, #T_1091c_row0_col1, #T_1091c_row0_col2, #T_1091c_row0_col3, #T_1091c_row0_col5, #T_1091c_row0_col6, #T_1091c_row0_col7, #T_1091c_row4_col4 {\n",
       "  background-color: #e3d9c1;\n",
       "  color: #000000;\n",
       "}\n",
       "#T_1091c_row0_col4, #T_1091c_row2_col1, #T_1091c_row3_col5, #T_1091c_row3_col7, #T_1091c_row4_col0, #T_1091c_row4_col2, #T_1091c_row4_col3, #T_1091c_row4_col6 {\n",
       "  background-color: #27213f;\n",
       "  color: #f1f1f1;\n",
       "}\n",
       "#T_1091c_row1_col0, #T_1091c_row2_col2, #T_1091c_row2_col6 {\n",
       "  background-color: #d8b7a3;\n",
       "  color: #000000;\n",
       "}\n",
       "#T_1091c_row1_col1, #T_1091c_row2_col5 {\n",
       "  background-color: #884d7b;\n",
       "  color: #f1f1f1;\n",
       "}\n",
       "#T_1091c_row1_col2, #T_1091c_row1_col6 {\n",
       "  background-color: #dabfa9;\n",
       "  color: #000000;\n",
       "}\n",
       "#T_1091c_row1_col3 {\n",
       "  background-color: #b16d86;\n",
       "  color: #f1f1f1;\n",
       "}\n",
       "#T_1091c_row1_col4 {\n",
       "  background-color: #452e5a;\n",
       "  color: #f1f1f1;\n",
       "}\n",
       "#T_1091c_row1_col5 {\n",
       "  background-color: #c3848c;\n",
       "  color: #f1f1f1;\n",
       "}\n",
       "#T_1091c_row1_col7 {\n",
       "  background-color: #be7c89;\n",
       "  color: #f1f1f1;\n",
       "}\n",
       "#T_1091c_row2_col0 {\n",
       "  background-color: #d6af9e;\n",
       "  color: #000000;\n",
       "}\n",
       "#T_1091c_row2_col3, #T_1091c_row2_col7 {\n",
       "  background-color: #6f4172;\n",
       "  color: #f1f1f1;\n",
       "}\n",
       "#T_1091c_row2_col4 {\n",
       "  background-color: #4f3261;\n",
       "  color: #f1f1f1;\n",
       "}\n",
       "#T_1091c_row3_col0 {\n",
       "  background-color: #3a2a51;\n",
       "  color: #f1f1f1;\n",
       "}\n",
       "#T_1091c_row3_col1 {\n",
       "  background-color: #91537e;\n",
       "  color: #f1f1f1;\n",
       "}\n",
       "#T_1091c_row3_col2 {\n",
       "  background-color: #402c56;\n",
       "  color: #f1f1f1;\n",
       "}\n",
       "#T_1091c_row3_col3 {\n",
       "  background-color: #5f396a;\n",
       "  color: #f1f1f1;\n",
       "}\n",
       "#T_1091c_row3_col4 {\n",
       "  background-color: #dcc5ad;\n",
       "  color: #000000;\n",
       "}\n",
       "#T_1091c_row3_col6 {\n",
       "  background-color: #3f2c55;\n",
       "  color: #f1f1f1;\n",
       "}\n",
       "#T_1091c_row4_col1 {\n",
       "  background-color: #643b6d;\n",
       "  color: #f1f1f1;\n",
       "}\n",
       "#T_1091c_row4_col5 {\n",
       "  background-color: #5d3969;\n",
       "  color: #f1f1f1;\n",
       "}\n",
       "#T_1091c_row4_col7 {\n",
       "  background-color: #2c2344;\n",
       "  color: #f1f1f1;\n",
       "}\n",
       "</style>\n",
       "<table id=\"T_1091c\">\n",
       "  <thead>\n",
       "    <tr>\n",
       "      <th class=\"blank level0\" >&nbsp;</th>\n",
       "      <th id=\"T_1091c_level0_col0\" class=\"col_heading level0 col0\" >RMSE</th>\n",
       "      <th id=\"T_1091c_level0_col1\" class=\"col_heading level0 col1\" >RMSE_StdDev</th>\n",
       "      <th id=\"T_1091c_level0_col2\" class=\"col_heading level0 col2\" >Mean_Squared_Error</th>\n",
       "      <th id=\"T_1091c_level0_col3\" class=\"col_heading level0 col3\" >MSE_StdDev</th>\n",
       "      <th id=\"T_1091c_level0_col4\" class=\"col_heading level0 col4\" >R_squared</th>\n",
       "      <th id=\"T_1091c_level0_col5\" class=\"col_heading level0 col5\" >R2_StdDev</th>\n",
       "      <th id=\"T_1091c_level0_col6\" class=\"col_heading level0 col6\" >Adjusted_R_squared</th>\n",
       "      <th id=\"T_1091c_level0_col7\" class=\"col_heading level0 col7\" >Adj_R2_StdDev</th>\n",
       "    </tr>\n",
       "  </thead>\n",
       "  <tbody>\n",
       "    <tr>\n",
       "      <th id=\"T_1091c_level0_row0\" class=\"row_heading level0 row0\" >LGBM</th>\n",
       "      <td id=\"T_1091c_row0_col0\" class=\"data row0 col0\" >6.030651</td>\n",
       "      <td id=\"T_1091c_row0_col1\" class=\"data row0 col1\" >0.169878</td>\n",
       "      <td id=\"T_1091c_row0_col2\" class=\"data row0 col2\" >36.397615</td>\n",
       "      <td id=\"T_1091c_row0_col3\" class=\"data row0 col3\" >2.046089</td>\n",
       "      <td id=\"T_1091c_row0_col4\" class=\"data row0 col4\" >0.539319</td>\n",
       "      <td id=\"T_1091c_row0_col5\" class=\"data row0 col5\" >0.025633</td>\n",
       "      <td id=\"T_1091c_row0_col6\" class=\"data row0 col6\" >1.795654</td>\n",
       "      <td id=\"T_1091c_row0_col7\" class=\"data row0 col7\" >0.049729</td>\n",
       "    </tr>\n",
       "    <tr>\n",
       "      <th id=\"T_1091c_level0_row1\" class=\"row_heading level0 row1\" >AdaBoost</th>\n",
       "      <td id=\"T_1091c_row1_col0\" class=\"data row1 col0\" >6.643508</td>\n",
       "      <td id=\"T_1091c_row1_col1\" class=\"data row1 col1\" >0.420693</td>\n",
       "      <td id=\"T_1091c_row1_col2\" class=\"data row1 col2\" >44.313176</td>\n",
       "      <td id=\"T_1091c_row1_col3\" class=\"data row1 col3\" >5.714584</td>\n",
       "      <td id=\"T_1091c_row1_col4\" class=\"data row1 col4\" >0.440716</td>\n",
       "      <td id=\"T_1091c_row1_col5\" class=\"data row1 col5\" >0.057208</td>\n",
       "      <td id=\"T_1091c_row1_col6\" class=\"data row1 col6\" >1.966062</td>\n",
       "      <td id=\"T_1091c_row1_col7\" class=\"data row1 col7\" >0.103696</td>\n",
       "    </tr>\n",
       "    <tr>\n",
       "      <th id=\"T_1091c_level0_row2\" class=\"row_heading level0 row2\" >XGBoost</th>\n",
       "      <td id=\"T_1091c_row2_col0\" class=\"data row2 col0\" >6.796471</td>\n",
       "      <td id=\"T_1091c_row2_col1\" class=\"data row2 col1\" >0.554763</td>\n",
       "      <td id=\"T_1091c_row2_col2\" class=\"data row2 col2\" >46.499776</td>\n",
       "      <td id=\"T_1091c_row2_col3\" class=\"data row2 col3\" >7.739858</td>\n",
       "      <td id=\"T_1091c_row2_col4\" class=\"data row2 col4\" >0.413451</td>\n",
       "      <td id=\"T_1091c_row2_col5\" class=\"data row2 col5\" >0.082859</td>\n",
       "      <td id=\"T_1091c_row2_col6\" class=\"data row2 col6\" >2.013405</td>\n",
       "      <td id=\"T_1091c_row2_col7\" class=\"data row2 col7\" >0.148447</td>\n",
       "    </tr>\n",
       "    <tr>\n",
       "      <th id=\"T_1091c_level0_row3\" class=\"row_heading level0 row3\" >DecisionTree</th>\n",
       "      <td id=\"T_1091c_row3_col0\" class=\"data row3 col0\" >9.898451</td>\n",
       "      <td id=\"T_1091c_row3_col1\" class=\"data row3 col1\" >0.408550</td>\n",
       "      <td id=\"T_1091c_row3_col2\" class=\"data row3 col2\" >98.146245</td>\n",
       "      <td id=\"T_1091c_row3_col3\" class=\"data row3 col3\" >8.172337</td>\n",
       "      <td id=\"T_1091c_row3_col4\" class=\"data row3 col4\" >-0.243296</td>\n",
       "      <td id=\"T_1091c_row3_col5\" class=\"data row3 col5\" >0.113443</td>\n",
       "      <td id=\"T_1091c_row3_col6\" class=\"data row3 col6\" >3.145328</td>\n",
       "      <td id=\"T_1091c_row3_col7\" class=\"data row3 col7\" >0.183200</td>\n",
       "    </tr>\n",
       "    <tr>\n",
       "      <th id=\"T_1091c_level0_row4\" class=\"row_heading level0 row4\" >LinearRegression</th>\n",
       "      <td id=\"T_1091c_row4_col0\" class=\"data row4 col0\" >10.218517</td>\n",
       "      <td id=\"T_1091c_row4_col1\" class=\"data row4 col1\" >0.470264</td>\n",
       "      <td id=\"T_1091c_row4_col2\" class=\"data row4 col2\" >104.639245</td>\n",
       "      <td id=\"T_1091c_row4_col3\" class=\"data row4 col3\" >9.747068</td>\n",
       "      <td id=\"T_1091c_row4_col4\" class=\"data row4 col4\" >-0.322372</td>\n",
       "      <td id=\"T_1091c_row4_col5\" class=\"data row4 col5\" >0.096188</td>\n",
       "      <td id=\"T_1091c_row4_col6\" class=\"data row4 col6\" >3.284044</td>\n",
       "      <td id=\"T_1091c_row4_col7\" class=\"data row4 col7\" >0.180158</td>\n",
       "    </tr>\n",
       "  </tbody>\n",
       "</table>\n"
      ],
      "text/plain": [
       "<pandas.io.formats.style.Styler at 0x25b449c1110>"
      ]
     },
     "execution_count": 20,
     "metadata": {},
     "output_type": "execute_result"
    }
   ],
   "source": [
    "results.sort_values(by='RMSE',ascending=True).style.background_gradient(cmap = sns.color_palette(\"ch:s=-.2,r=.6\", as_cmap=True))\n"
   ]
  },
  {
   "cell_type": "code",
   "execution_count": 21,
   "metadata": {},
   "outputs": [],
   "source": [
    "catboost = CatBoostRegressor(verbose=False)\n",
    "catboost_result = train_evaluate_model(catboost, X_soy, y_soybean, 3)\n",
    "catboost_result.index = ['Catboost']\n",
    "\n",
    "results = results.append(catboost_result)"
   ]
  },
  {
   "cell_type": "code",
   "execution_count": 22,
   "metadata": {},
   "outputs": [
    {
     "data": {
      "text/html": [
       "<style type=\"text/css\">\n",
       "#T_7613f_row0_col0, #T_7613f_row0_col2, #T_7613f_row0_col6, #T_7613f_row1_col1, #T_7613f_row1_col3, #T_7613f_row1_col5, #T_7613f_row1_col7, #T_7613f_row5_col4 {\n",
       "  background-color: #e3d9c1;\n",
       "  color: #000000;\n",
       "}\n",
       "#T_7613f_row0_col1 {\n",
       "  background-color: #8b4f7c;\n",
       "  color: #f1f1f1;\n",
       "}\n",
       "#T_7613f_row0_col3 {\n",
       "  background-color: #c2828b;\n",
       "  color: #f1f1f1;\n",
       "}\n",
       "#T_7613f_row0_col4, #T_7613f_row3_col1, #T_7613f_row4_col5, #T_7613f_row4_col7, #T_7613f_row5_col0, #T_7613f_row5_col2, #T_7613f_row5_col3, #T_7613f_row5_col6 {\n",
       "  background-color: #27213f;\n",
       "  color: #f1f1f1;\n",
       "}\n",
       "#T_7613f_row0_col5 {\n",
       "  background-color: #cd9892;\n",
       "  color: #f1f1f1;\n",
       "}\n",
       "#T_7613f_row0_col7 {\n",
       "  background-color: #ca9190;\n",
       "  color: #f1f1f1;\n",
       "}\n",
       "#T_7613f_row1_col0 {\n",
       "  background-color: #dfcdb5;\n",
       "  color: #000000;\n",
       "}\n",
       "#T_7613f_row1_col2, #T_7613f_row1_col6 {\n",
       "  background-color: #e0d1b9;\n",
       "  color: #000000;\n",
       "}\n",
       "#T_7613f_row1_col4 {\n",
       "  background-color: #302548;\n",
       "  color: #f1f1f1;\n",
       "}\n",
       "#T_7613f_row2_col0 {\n",
       "  background-color: #d5ad9c;\n",
       "  color: #000000;\n",
       "}\n",
       "#T_7613f_row2_col1, #T_7613f_row3_col5 {\n",
       "  background-color: #884d7b;\n",
       "  color: #f1f1f1;\n",
       "}\n",
       "#T_7613f_row2_col2, #T_7613f_row2_col6 {\n",
       "  background-color: #d8b7a3;\n",
       "  color: #000000;\n",
       "}\n",
       "#T_7613f_row2_col3 {\n",
       "  background-color: #b16d86;\n",
       "  color: #f1f1f1;\n",
       "}\n",
       "#T_7613f_row2_col4 {\n",
       "  background-color: #4f3261;\n",
       "  color: #f1f1f1;\n",
       "}\n",
       "#T_7613f_row2_col5 {\n",
       "  background-color: #c3848c;\n",
       "  color: #f1f1f1;\n",
       "}\n",
       "#T_7613f_row2_col7 {\n",
       "  background-color: #be7c89;\n",
       "  color: #f1f1f1;\n",
       "}\n",
       "#T_7613f_row3_col0 {\n",
       "  background-color: #d2a598;\n",
       "  color: #000000;\n",
       "}\n",
       "#T_7613f_row3_col2, #T_7613f_row3_col6 {\n",
       "  background-color: #d6af9e;\n",
       "  color: #000000;\n",
       "}\n",
       "#T_7613f_row3_col3, #T_7613f_row3_col7 {\n",
       "  background-color: #6f4172;\n",
       "  color: #f1f1f1;\n",
       "}\n",
       "#T_7613f_row3_col4 {\n",
       "  background-color: #583767;\n",
       "  color: #f1f1f1;\n",
       "}\n",
       "#T_7613f_row4_col0 {\n",
       "  background-color: #3a2a51;\n",
       "  color: #f1f1f1;\n",
       "}\n",
       "#T_7613f_row4_col1 {\n",
       "  background-color: #91537e;\n",
       "  color: #f1f1f1;\n",
       "}\n",
       "#T_7613f_row4_col2 {\n",
       "  background-color: #3f2c55;\n",
       "  color: #f1f1f1;\n",
       "}\n",
       "#T_7613f_row4_col3 {\n",
       "  background-color: #5f396a;\n",
       "  color: #f1f1f1;\n",
       "}\n",
       "#T_7613f_row4_col4 {\n",
       "  background-color: #dcc6ae;\n",
       "  color: #000000;\n",
       "}\n",
       "#T_7613f_row4_col6 {\n",
       "  background-color: #3d2b54;\n",
       "  color: #f1f1f1;\n",
       "}\n",
       "#T_7613f_row5_col1 {\n",
       "  background-color: #643b6d;\n",
       "  color: #f1f1f1;\n",
       "}\n",
       "#T_7613f_row5_col5 {\n",
       "  background-color: #5d3969;\n",
       "  color: #f1f1f1;\n",
       "}\n",
       "#T_7613f_row5_col7 {\n",
       "  background-color: #2c2344;\n",
       "  color: #f1f1f1;\n",
       "}\n",
       "</style>\n",
       "<table id=\"T_7613f\">\n",
       "  <thead>\n",
       "    <tr>\n",
       "      <th class=\"blank level0\" >&nbsp;</th>\n",
       "      <th id=\"T_7613f_level0_col0\" class=\"col_heading level0 col0\" >RMSE</th>\n",
       "      <th id=\"T_7613f_level0_col1\" class=\"col_heading level0 col1\" >RMSE_StdDev</th>\n",
       "      <th id=\"T_7613f_level0_col2\" class=\"col_heading level0 col2\" >Mean_Squared_Error</th>\n",
       "      <th id=\"T_7613f_level0_col3\" class=\"col_heading level0 col3\" >MSE_StdDev</th>\n",
       "      <th id=\"T_7613f_level0_col4\" class=\"col_heading level0 col4\" >R_squared</th>\n",
       "      <th id=\"T_7613f_level0_col5\" class=\"col_heading level0 col5\" >R2_StdDev</th>\n",
       "      <th id=\"T_7613f_level0_col6\" class=\"col_heading level0 col6\" >Adjusted_R_squared</th>\n",
       "      <th id=\"T_7613f_level0_col7\" class=\"col_heading level0 col7\" >Adj_R2_StdDev</th>\n",
       "    </tr>\n",
       "  </thead>\n",
       "  <tbody>\n",
       "    <tr>\n",
       "      <th id=\"T_7613f_level0_row0\" class=\"row_heading level0 row0\" >Catboost</th>\n",
       "      <td id=\"T_7613f_row0_col0\" class=\"data row0 col0\" >5.799565</td>\n",
       "      <td id=\"T_7613f_row0_col1\" class=\"data row0 col1\" >0.416770</td>\n",
       "      <td id=\"T_7613f_row0_col2\" class=\"data row0 col2\" >33.808651</td>\n",
       "      <td id=\"T_7613f_row0_col3\" class=\"data row0 col3\" >4.956916</td>\n",
       "      <td id=\"T_7613f_row0_col4\" class=\"data row0 col4\" >0.573544</td>\n",
       "      <td id=\"T_7613f_row0_col5\" class=\"data row0 col5\" >0.050568</td>\n",
       "      <td id=\"T_7613f_row0_col6\" class=\"data row0 col6\" >1.736650</td>\n",
       "      <td id=\"T_7613f_row0_col7\" class=\"data row0 col7\" >0.090833</td>\n",
       "    </tr>\n",
       "    <tr>\n",
       "      <th id=\"T_7613f_level0_row1\" class=\"row_heading level0 row1\" >LGBM</th>\n",
       "      <td id=\"T_7613f_row1_col0\" class=\"data row1 col0\" >6.030651</td>\n",
       "      <td id=\"T_7613f_row1_col1\" class=\"data row1 col1\" >0.169878</td>\n",
       "      <td id=\"T_7613f_row1_col2\" class=\"data row1 col2\" >36.397615</td>\n",
       "      <td id=\"T_7613f_row1_col3\" class=\"data row1 col3\" >2.046089</td>\n",
       "      <td id=\"T_7613f_row1_col4\" class=\"data row1 col4\" >0.539319</td>\n",
       "      <td id=\"T_7613f_row1_col5\" class=\"data row1 col5\" >0.025633</td>\n",
       "      <td id=\"T_7613f_row1_col6\" class=\"data row1 col6\" >1.795654</td>\n",
       "      <td id=\"T_7613f_row1_col7\" class=\"data row1 col7\" >0.049729</td>\n",
       "    </tr>\n",
       "    <tr>\n",
       "      <th id=\"T_7613f_level0_row2\" class=\"row_heading level0 row2\" >AdaBoost</th>\n",
       "      <td id=\"T_7613f_row2_col0\" class=\"data row2 col0\" >6.643508</td>\n",
       "      <td id=\"T_7613f_row2_col1\" class=\"data row2 col1\" >0.420693</td>\n",
       "      <td id=\"T_7613f_row2_col2\" class=\"data row2 col2\" >44.313176</td>\n",
       "      <td id=\"T_7613f_row2_col3\" class=\"data row2 col3\" >5.714584</td>\n",
       "      <td id=\"T_7613f_row2_col4\" class=\"data row2 col4\" >0.440716</td>\n",
       "      <td id=\"T_7613f_row2_col5\" class=\"data row2 col5\" >0.057208</td>\n",
       "      <td id=\"T_7613f_row2_col6\" class=\"data row2 col6\" >1.966062</td>\n",
       "      <td id=\"T_7613f_row2_col7\" class=\"data row2 col7\" >0.103696</td>\n",
       "    </tr>\n",
       "    <tr>\n",
       "      <th id=\"T_7613f_level0_row3\" class=\"row_heading level0 row3\" >XGBoost</th>\n",
       "      <td id=\"T_7613f_row3_col0\" class=\"data row3 col0\" >6.796471</td>\n",
       "      <td id=\"T_7613f_row3_col1\" class=\"data row3 col1\" >0.554763</td>\n",
       "      <td id=\"T_7613f_row3_col2\" class=\"data row3 col2\" >46.499776</td>\n",
       "      <td id=\"T_7613f_row3_col3\" class=\"data row3 col3\" >7.739858</td>\n",
       "      <td id=\"T_7613f_row3_col4\" class=\"data row3 col4\" >0.413451</td>\n",
       "      <td id=\"T_7613f_row3_col5\" class=\"data row3 col5\" >0.082859</td>\n",
       "      <td id=\"T_7613f_row3_col6\" class=\"data row3 col6\" >2.013405</td>\n",
       "      <td id=\"T_7613f_row3_col7\" class=\"data row3 col7\" >0.148447</td>\n",
       "    </tr>\n",
       "    <tr>\n",
       "      <th id=\"T_7613f_level0_row4\" class=\"row_heading level0 row4\" >DecisionTree</th>\n",
       "      <td id=\"T_7613f_row4_col0\" class=\"data row4 col0\" >9.898451</td>\n",
       "      <td id=\"T_7613f_row4_col1\" class=\"data row4 col1\" >0.408550</td>\n",
       "      <td id=\"T_7613f_row4_col2\" class=\"data row4 col2\" >98.146245</td>\n",
       "      <td id=\"T_7613f_row4_col3\" class=\"data row4 col3\" >8.172337</td>\n",
       "      <td id=\"T_7613f_row4_col4\" class=\"data row4 col4\" >-0.243296</td>\n",
       "      <td id=\"T_7613f_row4_col5\" class=\"data row4 col5\" >0.113443</td>\n",
       "      <td id=\"T_7613f_row4_col6\" class=\"data row4 col6\" >3.145328</td>\n",
       "      <td id=\"T_7613f_row4_col7\" class=\"data row4 col7\" >0.183200</td>\n",
       "    </tr>\n",
       "    <tr>\n",
       "      <th id=\"T_7613f_level0_row5\" class=\"row_heading level0 row5\" >LinearRegression</th>\n",
       "      <td id=\"T_7613f_row5_col0\" class=\"data row5 col0\" >10.218517</td>\n",
       "      <td id=\"T_7613f_row5_col1\" class=\"data row5 col1\" >0.470264</td>\n",
       "      <td id=\"T_7613f_row5_col2\" class=\"data row5 col2\" >104.639245</td>\n",
       "      <td id=\"T_7613f_row5_col3\" class=\"data row5 col3\" >9.747068</td>\n",
       "      <td id=\"T_7613f_row5_col4\" class=\"data row5 col4\" >-0.322372</td>\n",
       "      <td id=\"T_7613f_row5_col5\" class=\"data row5 col5\" >0.096188</td>\n",
       "      <td id=\"T_7613f_row5_col6\" class=\"data row5 col6\" >3.284044</td>\n",
       "      <td id=\"T_7613f_row5_col7\" class=\"data row5 col7\" >0.180158</td>\n",
       "    </tr>\n",
       "  </tbody>\n",
       "</table>\n"
      ],
      "text/plain": [
       "<pandas.io.formats.style.Styler at 0x25b45666510>"
      ]
     },
     "execution_count": 22,
     "metadata": {},
     "output_type": "execute_result"
    }
   ],
   "source": [
    "results.sort_values(by='RMSE',ascending=True).style.background_gradient(cmap = sns.color_palette(\"ch:s=-.2,r=.6\", as_cmap=True))\n"
   ]
  },
  {
   "cell_type": "code",
   "execution_count": 23,
   "metadata": {},
   "outputs": [],
   "source": [
    "rfr= RandomForestRegressor()\n",
    "rfr_result = train_evaluate_model(rfr, X_soy, y_soybean, 3)\n",
    "rfr_result.index = ['RandomForest']\n",
    "\n",
    "results = results.append(rfr_result)"
   ]
  },
  {
   "cell_type": "code",
   "execution_count": 24,
   "metadata": {},
   "outputs": [
    {
     "data": {
      "text/html": [
       "<style type=\"text/css\">\n",
       "#T_19fe8_row0_col0, #T_19fe8_row0_col2, #T_19fe8_row0_col6, #T_19fe8_row1_col1, #T_19fe8_row1_col3, #T_19fe8_row1_col5, #T_19fe8_row1_col7, #T_19fe8_row6_col4 {\n",
       "  background-color: #e3d9c1;\n",
       "  color: #000000;\n",
       "}\n",
       "#T_19fe8_row0_col1 {\n",
       "  background-color: #8b4f7c;\n",
       "  color: #f1f1f1;\n",
       "}\n",
       "#T_19fe8_row0_col3 {\n",
       "  background-color: #c2828b;\n",
       "  color: #f1f1f1;\n",
       "}\n",
       "#T_19fe8_row0_col4, #T_19fe8_row4_col1, #T_19fe8_row5_col5, #T_19fe8_row5_col7, #T_19fe8_row6_col0, #T_19fe8_row6_col2, #T_19fe8_row6_col3, #T_19fe8_row6_col6 {\n",
       "  background-color: #27213f;\n",
       "  color: #f1f1f1;\n",
       "}\n",
       "#T_19fe8_row0_col5 {\n",
       "  background-color: #cd9892;\n",
       "  color: #f1f1f1;\n",
       "}\n",
       "#T_19fe8_row0_col7 {\n",
       "  background-color: #ca9190;\n",
       "  color: #f1f1f1;\n",
       "}\n",
       "#T_19fe8_row1_col0 {\n",
       "  background-color: #dfcdb5;\n",
       "  color: #000000;\n",
       "}\n",
       "#T_19fe8_row1_col2, #T_19fe8_row1_col6 {\n",
       "  background-color: #e0d1b9;\n",
       "  color: #000000;\n",
       "}\n",
       "#T_19fe8_row1_col4 {\n",
       "  background-color: #302548;\n",
       "  color: #f1f1f1;\n",
       "}\n",
       "#T_19fe8_row2_col0 {\n",
       "  background-color: #d7b3a0;\n",
       "  color: #000000;\n",
       "}\n",
       "#T_19fe8_row2_col1 {\n",
       "  background-color: #854c7b;\n",
       "  color: #f1f1f1;\n",
       "}\n",
       "#T_19fe8_row2_col2, #T_19fe8_row2_col6 {\n",
       "  background-color: #dabda7;\n",
       "  color: #000000;\n",
       "}\n",
       "#T_19fe8_row2_col3 {\n",
       "  background-color: #b26e86;\n",
       "  color: #f1f1f1;\n",
       "}\n",
       "#T_19fe8_row2_col4 {\n",
       "  background-color: #48305c;\n",
       "  color: #f1f1f1;\n",
       "}\n",
       "#T_19fe8_row2_col5 {\n",
       "  background-color: #c5878c;\n",
       "  color: #f1f1f1;\n",
       "}\n",
       "#T_19fe8_row2_col7 {\n",
       "  background-color: #bf7e8a;\n",
       "  color: #f1f1f1;\n",
       "}\n",
       "#T_19fe8_row3_col0 {\n",
       "  background-color: #d5ad9c;\n",
       "  color: #000000;\n",
       "}\n",
       "#T_19fe8_row3_col1, #T_19fe8_row4_col5 {\n",
       "  background-color: #884d7b;\n",
       "  color: #f1f1f1;\n",
       "}\n",
       "#T_19fe8_row3_col2, #T_19fe8_row3_col6 {\n",
       "  background-color: #d8b7a3;\n",
       "  color: #000000;\n",
       "}\n",
       "#T_19fe8_row3_col3 {\n",
       "  background-color: #b16d86;\n",
       "  color: #f1f1f1;\n",
       "}\n",
       "#T_19fe8_row3_col4 {\n",
       "  background-color: #4f3261;\n",
       "  color: #f1f1f1;\n",
       "}\n",
       "#T_19fe8_row3_col5 {\n",
       "  background-color: #c3848c;\n",
       "  color: #f1f1f1;\n",
       "}\n",
       "#T_19fe8_row3_col7 {\n",
       "  background-color: #be7c89;\n",
       "  color: #f1f1f1;\n",
       "}\n",
       "#T_19fe8_row4_col0 {\n",
       "  background-color: #d2a598;\n",
       "  color: #000000;\n",
       "}\n",
       "#T_19fe8_row4_col2, #T_19fe8_row4_col6 {\n",
       "  background-color: #d6af9e;\n",
       "  color: #000000;\n",
       "}\n",
       "#T_19fe8_row4_col3, #T_19fe8_row4_col7 {\n",
       "  background-color: #6f4172;\n",
       "  color: #f1f1f1;\n",
       "}\n",
       "#T_19fe8_row4_col4 {\n",
       "  background-color: #583767;\n",
       "  color: #f1f1f1;\n",
       "}\n",
       "#T_19fe8_row5_col0 {\n",
       "  background-color: #3a2a51;\n",
       "  color: #f1f1f1;\n",
       "}\n",
       "#T_19fe8_row5_col1 {\n",
       "  background-color: #91537e;\n",
       "  color: #f1f1f1;\n",
       "}\n",
       "#T_19fe8_row5_col2 {\n",
       "  background-color: #3f2c55;\n",
       "  color: #f1f1f1;\n",
       "}\n",
       "#T_19fe8_row5_col3 {\n",
       "  background-color: #5f396a;\n",
       "  color: #f1f1f1;\n",
       "}\n",
       "#T_19fe8_row5_col4 {\n",
       "  background-color: #dcc6ae;\n",
       "  color: #000000;\n",
       "}\n",
       "#T_19fe8_row5_col6 {\n",
       "  background-color: #3d2b54;\n",
       "  color: #f1f1f1;\n",
       "}\n",
       "#T_19fe8_row6_col1 {\n",
       "  background-color: #643b6d;\n",
       "  color: #f1f1f1;\n",
       "}\n",
       "#T_19fe8_row6_col5 {\n",
       "  background-color: #5d3969;\n",
       "  color: #f1f1f1;\n",
       "}\n",
       "#T_19fe8_row6_col7 {\n",
       "  background-color: #2c2344;\n",
       "  color: #f1f1f1;\n",
       "}\n",
       "</style>\n",
       "<table id=\"T_19fe8\">\n",
       "  <thead>\n",
       "    <tr>\n",
       "      <th class=\"blank level0\" >&nbsp;</th>\n",
       "      <th id=\"T_19fe8_level0_col0\" class=\"col_heading level0 col0\" >RMSE</th>\n",
       "      <th id=\"T_19fe8_level0_col1\" class=\"col_heading level0 col1\" >RMSE_StdDev</th>\n",
       "      <th id=\"T_19fe8_level0_col2\" class=\"col_heading level0 col2\" >Mean_Squared_Error</th>\n",
       "      <th id=\"T_19fe8_level0_col3\" class=\"col_heading level0 col3\" >MSE_StdDev</th>\n",
       "      <th id=\"T_19fe8_level0_col4\" class=\"col_heading level0 col4\" >R_squared</th>\n",
       "      <th id=\"T_19fe8_level0_col5\" class=\"col_heading level0 col5\" >R2_StdDev</th>\n",
       "      <th id=\"T_19fe8_level0_col6\" class=\"col_heading level0 col6\" >Adjusted_R_squared</th>\n",
       "      <th id=\"T_19fe8_level0_col7\" class=\"col_heading level0 col7\" >Adj_R2_StdDev</th>\n",
       "    </tr>\n",
       "  </thead>\n",
       "  <tbody>\n",
       "    <tr>\n",
       "      <th id=\"T_19fe8_level0_row0\" class=\"row_heading level0 row0\" >Catboost</th>\n",
       "      <td id=\"T_19fe8_row0_col0\" class=\"data row0 col0\" >5.799565</td>\n",
       "      <td id=\"T_19fe8_row0_col1\" class=\"data row0 col1\" >0.416770</td>\n",
       "      <td id=\"T_19fe8_row0_col2\" class=\"data row0 col2\" >33.808651</td>\n",
       "      <td id=\"T_19fe8_row0_col3\" class=\"data row0 col3\" >4.956916</td>\n",
       "      <td id=\"T_19fe8_row0_col4\" class=\"data row0 col4\" >0.573544</td>\n",
       "      <td id=\"T_19fe8_row0_col5\" class=\"data row0 col5\" >0.050568</td>\n",
       "      <td id=\"T_19fe8_row0_col6\" class=\"data row0 col6\" >1.736650</td>\n",
       "      <td id=\"T_19fe8_row0_col7\" class=\"data row0 col7\" >0.090833</td>\n",
       "    </tr>\n",
       "    <tr>\n",
       "      <th id=\"T_19fe8_level0_row1\" class=\"row_heading level0 row1\" >LGBM</th>\n",
       "      <td id=\"T_19fe8_row1_col0\" class=\"data row1 col0\" >6.030651</td>\n",
       "      <td id=\"T_19fe8_row1_col1\" class=\"data row1 col1\" >0.169878</td>\n",
       "      <td id=\"T_19fe8_row1_col2\" class=\"data row1 col2\" >36.397615</td>\n",
       "      <td id=\"T_19fe8_row1_col3\" class=\"data row1 col3\" >2.046089</td>\n",
       "      <td id=\"T_19fe8_row1_col4\" class=\"data row1 col4\" >0.539319</td>\n",
       "      <td id=\"T_19fe8_row1_col5\" class=\"data row1 col5\" >0.025633</td>\n",
       "      <td id=\"T_19fe8_row1_col6\" class=\"data row1 col6\" >1.795654</td>\n",
       "      <td id=\"T_19fe8_row1_col7\" class=\"data row1 col7\" >0.049729</td>\n",
       "    </tr>\n",
       "    <tr>\n",
       "      <th id=\"T_19fe8_level0_row2\" class=\"row_heading level0 row2\" >RandomForest</th>\n",
       "      <td id=\"T_19fe8_row2_col0\" class=\"data row2 col0\" >6.527088</td>\n",
       "      <td id=\"T_19fe8_row2_col1\" class=\"data row2 col1\" >0.424895</td>\n",
       "      <td id=\"T_19fe8_row2_col2\" class=\"data row2 col2\" >42.783409</td>\n",
       "      <td id=\"T_19fe8_row2_col3\" class=\"data row2 col3\" >5.674177</td>\n",
       "      <td id=\"T_19fe8_row2_col4\" class=\"data row2 col4\" >0.460136</td>\n",
       "      <td id=\"T_19fe8_row2_col5\" class=\"data row2 col5\" >0.056647</td>\n",
       "      <td id=\"T_19fe8_row2_col6\" class=\"data row2 col6\" >1.932501</td>\n",
       "      <td id=\"T_19fe8_row2_col7\" class=\"data row2 col7\" >0.102345</td>\n",
       "    </tr>\n",
       "    <tr>\n",
       "      <th id=\"T_19fe8_level0_row3\" class=\"row_heading level0 row3\" >AdaBoost</th>\n",
       "      <td id=\"T_19fe8_row3_col0\" class=\"data row3 col0\" >6.643508</td>\n",
       "      <td id=\"T_19fe8_row3_col1\" class=\"data row3 col1\" >0.420693</td>\n",
       "      <td id=\"T_19fe8_row3_col2\" class=\"data row3 col2\" >44.313176</td>\n",
       "      <td id=\"T_19fe8_row3_col3\" class=\"data row3 col3\" >5.714584</td>\n",
       "      <td id=\"T_19fe8_row3_col4\" class=\"data row3 col4\" >0.440716</td>\n",
       "      <td id=\"T_19fe8_row3_col5\" class=\"data row3 col5\" >0.057208</td>\n",
       "      <td id=\"T_19fe8_row3_col6\" class=\"data row3 col6\" >1.966062</td>\n",
       "      <td id=\"T_19fe8_row3_col7\" class=\"data row3 col7\" >0.103696</td>\n",
       "    </tr>\n",
       "    <tr>\n",
       "      <th id=\"T_19fe8_level0_row4\" class=\"row_heading level0 row4\" >XGBoost</th>\n",
       "      <td id=\"T_19fe8_row4_col0\" class=\"data row4 col0\" >6.796471</td>\n",
       "      <td id=\"T_19fe8_row4_col1\" class=\"data row4 col1\" >0.554763</td>\n",
       "      <td id=\"T_19fe8_row4_col2\" class=\"data row4 col2\" >46.499776</td>\n",
       "      <td id=\"T_19fe8_row4_col3\" class=\"data row4 col3\" >7.739858</td>\n",
       "      <td id=\"T_19fe8_row4_col4\" class=\"data row4 col4\" >0.413451</td>\n",
       "      <td id=\"T_19fe8_row4_col5\" class=\"data row4 col5\" >0.082859</td>\n",
       "      <td id=\"T_19fe8_row4_col6\" class=\"data row4 col6\" >2.013405</td>\n",
       "      <td id=\"T_19fe8_row4_col7\" class=\"data row4 col7\" >0.148447</td>\n",
       "    </tr>\n",
       "    <tr>\n",
       "      <th id=\"T_19fe8_level0_row5\" class=\"row_heading level0 row5\" >DecisionTree</th>\n",
       "      <td id=\"T_19fe8_row5_col0\" class=\"data row5 col0\" >9.898451</td>\n",
       "      <td id=\"T_19fe8_row5_col1\" class=\"data row5 col1\" >0.408550</td>\n",
       "      <td id=\"T_19fe8_row5_col2\" class=\"data row5 col2\" >98.146245</td>\n",
       "      <td id=\"T_19fe8_row5_col3\" class=\"data row5 col3\" >8.172337</td>\n",
       "      <td id=\"T_19fe8_row5_col4\" class=\"data row5 col4\" >-0.243296</td>\n",
       "      <td id=\"T_19fe8_row5_col5\" class=\"data row5 col5\" >0.113443</td>\n",
       "      <td id=\"T_19fe8_row5_col6\" class=\"data row5 col6\" >3.145328</td>\n",
       "      <td id=\"T_19fe8_row5_col7\" class=\"data row5 col7\" >0.183200</td>\n",
       "    </tr>\n",
       "    <tr>\n",
       "      <th id=\"T_19fe8_level0_row6\" class=\"row_heading level0 row6\" >LinearRegression</th>\n",
       "      <td id=\"T_19fe8_row6_col0\" class=\"data row6 col0\" >10.218517</td>\n",
       "      <td id=\"T_19fe8_row6_col1\" class=\"data row6 col1\" >0.470264</td>\n",
       "      <td id=\"T_19fe8_row6_col2\" class=\"data row6 col2\" >104.639245</td>\n",
       "      <td id=\"T_19fe8_row6_col3\" class=\"data row6 col3\" >9.747068</td>\n",
       "      <td id=\"T_19fe8_row6_col4\" class=\"data row6 col4\" >-0.322372</td>\n",
       "      <td id=\"T_19fe8_row6_col5\" class=\"data row6 col5\" >0.096188</td>\n",
       "      <td id=\"T_19fe8_row6_col6\" class=\"data row6 col6\" >3.284044</td>\n",
       "      <td id=\"T_19fe8_row6_col7\" class=\"data row6 col7\" >0.180158</td>\n",
       "    </tr>\n",
       "  </tbody>\n",
       "</table>\n"
      ],
      "text/plain": [
       "<pandas.io.formats.style.Styler at 0x25b45636590>"
      ]
     },
     "execution_count": 24,
     "metadata": {},
     "output_type": "execute_result"
    }
   ],
   "source": [
    "results.sort_values(by='RMSE',ascending=True).style.background_gradient(cmap = sns.color_palette(\"ch:s=-.2,r=.6\", as_cmap=True))\n"
   ]
  },
  {
   "cell_type": "code",
   "execution_count": 25,
   "metadata": {},
   "outputs": [
    {
     "name": "stdout",
     "output_type": "stream",
     "text": [
      "[LightGBM] [Warning] Found whitespace in feature_names, replace with underlines\n",
      "[LightGBM] [Info] Auto-choosing col-wise multi-threading, the overhead of testing was 0.001811 seconds.\n",
      "You can set `force_col_wise=true` to remove the overhead.\n",
      "[LightGBM] [Info] Total Bins 31608\n",
      "[LightGBM] [Info] Number of data points in the train set: 355, number of used features: 279\n",
      "[LightGBM] [Info] Start training from score 39.090141\n",
      "[LightGBM] [Warning] No further splits with positive gain, best gain: -inf\n",
      "[LightGBM] [Warning] No further splits with positive gain, best gain: -inf\n",
      "[LightGBM] [Warning] No further splits with positive gain, best gain: -inf\n",
      "[LightGBM] [Warning] No further splits with positive gain, best gain: -inf\n",
      "[LightGBM] [Warning] No further splits with positive gain, best gain: -inf\n",
      "[LightGBM] [Warning] No further splits with positive gain, best gain: -inf\n",
      "[LightGBM] [Warning] No further splits with positive gain, best gain: -inf\n",
      "[LightGBM] [Warning] No further splits with positive gain, best gain: -inf\n",
      "[LightGBM] [Warning] No further splits with positive gain, best gain: -inf\n",
      "[LightGBM] [Warning] No further splits with positive gain, best gain: -inf\n",
      "[LightGBM] [Warning] No further splits with positive gain, best gain: -inf\n",
      "[LightGBM] [Warning] No further splits with positive gain, best gain: -inf\n",
      "[LightGBM] [Warning] No further splits with positive gain, best gain: -inf\n",
      "[LightGBM] [Warning] No further splits with positive gain, best gain: -inf\n",
      "[LightGBM] [Warning] No further splits with positive gain, best gain: -inf\n",
      "[LightGBM] [Warning] No further splits with positive gain, best gain: -inf\n",
      "[LightGBM] [Warning] No further splits with positive gain, best gain: -inf\n",
      "[LightGBM] [Warning] No further splits with positive gain, best gain: -inf\n",
      "[LightGBM] [Warning] No further splits with positive gain, best gain: -inf\n",
      "[LightGBM] [Warning] No further splits with positive gain, best gain: -inf\n",
      "[LightGBM] [Warning] No further splits with positive gain, best gain: -inf\n",
      "[LightGBM] [Warning] No further splits with positive gain, best gain: -inf\n",
      "[LightGBM] [Warning] No further splits with positive gain, best gain: -inf\n",
      "[LightGBM] [Warning] No further splits with positive gain, best gain: -inf\n",
      "[LightGBM] [Warning] No further splits with positive gain, best gain: -inf\n",
      "[LightGBM] [Warning] No further splits with positive gain, best gain: -inf\n",
      "[LightGBM] [Warning] No further splits with positive gain, best gain: -inf\n",
      "[LightGBM] [Warning] No further splits with positive gain, best gain: -inf\n",
      "[LightGBM] [Warning] No further splits with positive gain, best gain: -inf\n",
      "[LightGBM] [Warning] No further splits with positive gain, best gain: -inf\n",
      "[LightGBM] [Warning] No further splits with positive gain, best gain: -inf\n",
      "[LightGBM] [Warning] No further splits with positive gain, best gain: -inf\n",
      "[LightGBM] [Warning] No further splits with positive gain, best gain: -inf\n",
      "[LightGBM] [Warning] No further splits with positive gain, best gain: -inf\n",
      "[LightGBM] [Warning] No further splits with positive gain, best gain: -inf\n",
      "[LightGBM] [Warning] No further splits with positive gain, best gain: -inf\n",
      "[LightGBM] [Warning] No further splits with positive gain, best gain: -inf\n",
      "[LightGBM] [Warning] No further splits with positive gain, best gain: -inf\n",
      "[LightGBM] [Warning] No further splits with positive gain, best gain: -inf\n",
      "[LightGBM] [Warning] No further splits with positive gain, best gain: -inf\n",
      "[LightGBM] [Warning] No further splits with positive gain, best gain: -inf\n",
      "[LightGBM] [Warning] No further splits with positive gain, best gain: -inf\n",
      "[LightGBM] [Warning] No further splits with positive gain, best gain: -inf\n",
      "[LightGBM] [Warning] No further splits with positive gain, best gain: -inf\n",
      "[LightGBM] [Warning] No further splits with positive gain, best gain: -inf\n",
      "[LightGBM] [Warning] No further splits with positive gain, best gain: -inf\n",
      "[LightGBM] [Warning] No further splits with positive gain, best gain: -inf\n",
      "[LightGBM] [Warning] No further splits with positive gain, best gain: -inf\n",
      "[LightGBM] [Warning] No further splits with positive gain, best gain: -inf\n",
      "[LightGBM] [Warning] No further splits with positive gain, best gain: -inf\n",
      "[LightGBM] [Warning] No further splits with positive gain, best gain: -inf\n",
      "[LightGBM] [Warning] No further splits with positive gain, best gain: -inf\n",
      "[LightGBM] [Warning] No further splits with positive gain, best gain: -inf\n",
      "[LightGBM] [Warning] No further splits with positive gain, best gain: -inf\n",
      "[LightGBM] [Warning] No further splits with positive gain, best gain: -inf\n",
      "[LightGBM] [Warning] No further splits with positive gain, best gain: -inf\n",
      "[LightGBM] [Warning] No further splits with positive gain, best gain: -inf\n",
      "[LightGBM] [Warning] No further splits with positive gain, best gain: -inf\n",
      "[LightGBM] [Warning] No further splits with positive gain, best gain: -inf\n",
      "[LightGBM] [Warning] No further splits with positive gain, best gain: -inf\n",
      "[LightGBM] [Warning] No further splits with positive gain, best gain: -inf\n",
      "[LightGBM] [Warning] No further splits with positive gain, best gain: -inf\n",
      "[LightGBM] [Warning] No further splits with positive gain, best gain: -inf\n",
      "[LightGBM] [Warning] No further splits with positive gain, best gain: -inf\n",
      "[LightGBM] [Warning] No further splits with positive gain, best gain: -inf\n",
      "[LightGBM] [Warning] No further splits with positive gain, best gain: -inf\n",
      "[LightGBM] [Warning] No further splits with positive gain, best gain: -inf\n",
      "[LightGBM] [Warning] No further splits with positive gain, best gain: -inf\n",
      "[LightGBM] [Warning] No further splits with positive gain, best gain: -inf\n",
      "[LightGBM] [Warning] No further splits with positive gain, best gain: -inf\n",
      "[LightGBM] [Warning] No further splits with positive gain, best gain: -inf\n",
      "[LightGBM] [Warning] No further splits with positive gain, best gain: -inf\n",
      "[LightGBM] [Warning] No further splits with positive gain, best gain: -inf\n",
      "[LightGBM] [Warning] No further splits with positive gain, best gain: -inf\n",
      "[LightGBM] [Warning] No further splits with positive gain, best gain: -inf\n",
      "[LightGBM] [Warning] No further splits with positive gain, best gain: -inf\n",
      "[LightGBM] [Warning] No further splits with positive gain, best gain: -inf\n",
      "[LightGBM] [Warning] No further splits with positive gain, best gain: -inf\n",
      "[LightGBM] [Warning] No further splits with positive gain, best gain: -inf\n",
      "[LightGBM] [Warning] No further splits with positive gain, best gain: -inf\n",
      "[LightGBM] [Warning] No further splits with positive gain, best gain: -inf\n",
      "[LightGBM] [Warning] No further splits with positive gain, best gain: -inf\n",
      "[LightGBM] [Warning] No further splits with positive gain, best gain: -inf\n",
      "[LightGBM] [Warning] No further splits with positive gain, best gain: -inf\n",
      "[LightGBM] [Warning] No further splits with positive gain, best gain: -inf\n",
      "[LightGBM] [Warning] No further splits with positive gain, best gain: -inf\n",
      "[LightGBM] [Warning] No further splits with positive gain, best gain: -inf\n",
      "[LightGBM] [Warning] No further splits with positive gain, best gain: -inf\n",
      "[LightGBM] [Warning] No further splits with positive gain, best gain: -inf\n",
      "[LightGBM] [Warning] No further splits with positive gain, best gain: -inf\n",
      "[LightGBM] [Warning] No further splits with positive gain, best gain: -inf\n",
      "[LightGBM] [Warning] No further splits with positive gain, best gain: -inf\n",
      "[LightGBM] [Warning] No further splits with positive gain, best gain: -inf\n",
      "[LightGBM] [Warning] No further splits with positive gain, best gain: -inf\n",
      "[LightGBM] [Warning] No further splits with positive gain, best gain: -inf\n",
      "[LightGBM] [Warning] No further splits with positive gain, best gain: -inf\n",
      "[LightGBM] [Warning] No further splits with positive gain, best gain: -inf\n",
      "[LightGBM] [Warning] No further splits with positive gain, best gain: -inf\n",
      "[LightGBM] [Warning] No further splits with positive gain, best gain: -inf\n",
      "[LightGBM] [Warning] No further splits with positive gain, best gain: -inf\n",
      "[LightGBM] [Warning] Found whitespace in feature_names, replace with underlines\n",
      "[LightGBM] [Info] Auto-choosing col-wise multi-threading, the overhead of testing was 0.001666 seconds.\n",
      "You can set `force_col_wise=true` to remove the overhead.\n",
      "[LightGBM] [Info] Total Bins 31674\n",
      "[LightGBM] [Info] Number of data points in the train set: 355, number of used features: 279\n",
      "[LightGBM] [Info] Start training from score 38.960563\n",
      "[LightGBM] [Warning] No further splits with positive gain, best gain: -inf\n",
      "[LightGBM] [Warning] No further splits with positive gain, best gain: -inf\n",
      "[LightGBM] [Warning] No further splits with positive gain, best gain: -inf\n",
      "[LightGBM] [Warning] No further splits with positive gain, best gain: -inf\n",
      "[LightGBM] [Warning] No further splits with positive gain, best gain: -inf\n",
      "[LightGBM] [Warning] No further splits with positive gain, best gain: -inf\n",
      "[LightGBM] [Warning] No further splits with positive gain, best gain: -inf\n",
      "[LightGBM] [Warning] No further splits with positive gain, best gain: -inf\n",
      "[LightGBM] [Warning] No further splits with positive gain, best gain: -inf\n",
      "[LightGBM] [Warning] No further splits with positive gain, best gain: -inf\n",
      "[LightGBM] [Warning] No further splits with positive gain, best gain: -inf\n",
      "[LightGBM] [Warning] No further splits with positive gain, best gain: -inf\n",
      "[LightGBM] [Warning] No further splits with positive gain, best gain: -inf\n",
      "[LightGBM] [Warning] No further splits with positive gain, best gain: -inf\n",
      "[LightGBM] [Warning] No further splits with positive gain, best gain: -inf\n",
      "[LightGBM] [Warning] No further splits with positive gain, best gain: -inf\n",
      "[LightGBM] [Warning] No further splits with positive gain, best gain: -inf\n",
      "[LightGBM] [Warning] No further splits with positive gain, best gain: -inf\n",
      "[LightGBM] [Warning] No further splits with positive gain, best gain: -inf\n",
      "[LightGBM] [Warning] No further splits with positive gain, best gain: -inf\n",
      "[LightGBM] [Warning] No further splits with positive gain, best gain: -inf\n",
      "[LightGBM] [Warning] No further splits with positive gain, best gain: -inf\n",
      "[LightGBM] [Warning] No further splits with positive gain, best gain: -inf\n",
      "[LightGBM] [Warning] No further splits with positive gain, best gain: -inf\n",
      "[LightGBM] [Warning] No further splits with positive gain, best gain: -inf\n",
      "[LightGBM] [Warning] No further splits with positive gain, best gain: -inf\n",
      "[LightGBM] [Warning] No further splits with positive gain, best gain: -inf\n",
      "[LightGBM] [Warning] No further splits with positive gain, best gain: -inf\n",
      "[LightGBM] [Warning] No further splits with positive gain, best gain: -inf\n",
      "[LightGBM] [Warning] No further splits with positive gain, best gain: -inf\n",
      "[LightGBM] [Warning] No further splits with positive gain, best gain: -inf\n",
      "[LightGBM] [Warning] No further splits with positive gain, best gain: -inf\n",
      "[LightGBM] [Warning] No further splits with positive gain, best gain: -inf\n",
      "[LightGBM] [Warning] No further splits with positive gain, best gain: -inf\n",
      "[LightGBM] [Warning] No further splits with positive gain, best gain: -inf\n",
      "[LightGBM] [Warning] No further splits with positive gain, best gain: -inf\n",
      "[LightGBM] [Warning] No further splits with positive gain, best gain: -inf\n",
      "[LightGBM] [Warning] No further splits with positive gain, best gain: -inf\n",
      "[LightGBM] [Warning] No further splits with positive gain, best gain: -inf\n",
      "[LightGBM] [Warning] No further splits with positive gain, best gain: -inf\n",
      "[LightGBM] [Warning] No further splits with positive gain, best gain: -inf\n",
      "[LightGBM] [Warning] No further splits with positive gain, best gain: -inf\n",
      "[LightGBM] [Warning] No further splits with positive gain, best gain: -inf\n",
      "[LightGBM] [Warning] No further splits with positive gain, best gain: -inf\n",
      "[LightGBM] [Warning] No further splits with positive gain, best gain: -inf\n",
      "[LightGBM] [Warning] No further splits with positive gain, best gain: -inf\n",
      "[LightGBM] [Warning] No further splits with positive gain, best gain: -inf\n",
      "[LightGBM] [Warning] No further splits with positive gain, best gain: -inf\n",
      "[LightGBM] [Warning] No further splits with positive gain, best gain: -inf\n",
      "[LightGBM] [Warning] No further splits with positive gain, best gain: -inf\n",
      "[LightGBM] [Warning] No further splits with positive gain, best gain: -inf\n",
      "[LightGBM] [Warning] No further splits with positive gain, best gain: -inf\n",
      "[LightGBM] [Warning] No further splits with positive gain, best gain: -inf\n",
      "[LightGBM] [Warning] No further splits with positive gain, best gain: -inf\n",
      "[LightGBM] [Warning] No further splits with positive gain, best gain: -inf\n",
      "[LightGBM] [Warning] No further splits with positive gain, best gain: -inf\n",
      "[LightGBM] [Warning] No further splits with positive gain, best gain: -inf\n",
      "[LightGBM] [Warning] No further splits with positive gain, best gain: -inf\n",
      "[LightGBM] [Warning] No further splits with positive gain, best gain: -inf\n",
      "[LightGBM] [Warning] No further splits with positive gain, best gain: -inf\n",
      "[LightGBM] [Warning] No further splits with positive gain, best gain: -inf\n",
      "[LightGBM] [Warning] No further splits with positive gain, best gain: -inf\n",
      "[LightGBM] [Warning] No further splits with positive gain, best gain: -inf\n",
      "[LightGBM] [Warning] No further splits with positive gain, best gain: -inf\n",
      "[LightGBM] [Warning] No further splits with positive gain, best gain: -inf\n",
      "[LightGBM] [Warning] No further splits with positive gain, best gain: -inf\n",
      "[LightGBM] [Warning] No further splits with positive gain, best gain: -inf\n",
      "[LightGBM] [Warning] No further splits with positive gain, best gain: -inf\n",
      "[LightGBM] [Warning] No further splits with positive gain, best gain: -inf\n",
      "[LightGBM] [Warning] No further splits with positive gain, best gain: -inf\n",
      "[LightGBM] [Warning] No further splits with positive gain, best gain: -inf\n",
      "[LightGBM] [Warning] No further splits with positive gain, best gain: -inf\n",
      "[LightGBM] [Warning] No further splits with positive gain, best gain: -inf\n",
      "[LightGBM] [Warning] No further splits with positive gain, best gain: -inf\n",
      "[LightGBM] [Warning] No further splits with positive gain, best gain: -inf\n",
      "[LightGBM] [Warning] No further splits with positive gain, best gain: -inf\n",
      "[LightGBM] [Warning] No further splits with positive gain, best gain: -inf\n",
      "[LightGBM] [Warning] No further splits with positive gain, best gain: -inf\n",
      "[LightGBM] [Warning] No further splits with positive gain, best gain: -inf\n",
      "[LightGBM] [Warning] No further splits with positive gain, best gain: -inf\n",
      "[LightGBM] [Warning] No further splits with positive gain, best gain: -inf\n",
      "[LightGBM] [Warning] No further splits with positive gain, best gain: -inf\n",
      "[LightGBM] [Warning] No further splits with positive gain, best gain: -inf\n",
      "[LightGBM] [Warning] No further splits with positive gain, best gain: -inf\n",
      "[LightGBM] [Warning] No further splits with positive gain, best gain: -inf\n",
      "[LightGBM] [Warning] No further splits with positive gain, best gain: -inf\n",
      "[LightGBM] [Warning] No further splits with positive gain, best gain: -inf\n",
      "[LightGBM] [Warning] No further splits with positive gain, best gain: -inf\n",
      "[LightGBM] [Warning] No further splits with positive gain, best gain: -inf\n",
      "[LightGBM] [Warning] No further splits with positive gain, best gain: -inf\n",
      "[LightGBM] [Warning] No further splits with positive gain, best gain: -inf\n",
      "[LightGBM] [Warning] No further splits with positive gain, best gain: -inf\n",
      "[LightGBM] [Warning] No further splits with positive gain, best gain: -inf\n",
      "[LightGBM] [Warning] No further splits with positive gain, best gain: -inf\n",
      "[LightGBM] [Warning] No further splits with positive gain, best gain: -inf\n",
      "[LightGBM] [Warning] No further splits with positive gain, best gain: -inf\n",
      "[LightGBM] [Warning] No further splits with positive gain, best gain: -inf\n",
      "[LightGBM] [Warning] No further splits with positive gain, best gain: -inf\n",
      "[LightGBM] [Warning] No further splits with positive gain, best gain: -inf\n",
      "[LightGBM] [Warning] No further splits with positive gain, best gain: -inf\n",
      "[LightGBM] [Warning] Found whitespace in feature_names, replace with underlines\n",
      "[LightGBM] [Info] Auto-choosing col-wise multi-threading, the overhead of testing was 0.001240 seconds.\n",
      "You can set `force_col_wise=true` to remove the overhead.\n",
      "[LightGBM] [Info] Total Bins 31615\n",
      "[LightGBM] [Info] Number of data points in the train set: 356, number of used features: 279\n",
      "[LightGBM] [Info] Start training from score 38.530899\n",
      "[LightGBM] [Warning] No further splits with positive gain, best gain: -inf\n",
      "[LightGBM] [Warning] No further splits with positive gain, best gain: -inf\n",
      "[LightGBM] [Warning] No further splits with positive gain, best gain: -inf\n",
      "[LightGBM] [Warning] No further splits with positive gain, best gain: -inf\n",
      "[LightGBM] [Warning] No further splits with positive gain, best gain: -inf\n",
      "[LightGBM] [Warning] No further splits with positive gain, best gain: -inf\n",
      "[LightGBM] [Warning] No further splits with positive gain, best gain: -inf\n",
      "[LightGBM] [Warning] No further splits with positive gain, best gain: -inf\n",
      "[LightGBM] [Warning] No further splits with positive gain, best gain: -inf\n",
      "[LightGBM] [Warning] No further splits with positive gain, best gain: -inf\n",
      "[LightGBM] [Warning] No further splits with positive gain, best gain: -inf\n",
      "[LightGBM] [Warning] No further splits with positive gain, best gain: -inf\n",
      "[LightGBM] [Warning] No further splits with positive gain, best gain: -inf\n",
      "[LightGBM] [Warning] No further splits with positive gain, best gain: -inf\n",
      "[LightGBM] [Warning] No further splits with positive gain, best gain: -inf\n",
      "[LightGBM] [Warning] No further splits with positive gain, best gain: -inf\n",
      "[LightGBM] [Warning] No further splits with positive gain, best gain: -inf\n",
      "[LightGBM] [Warning] No further splits with positive gain, best gain: -inf\n",
      "[LightGBM] [Warning] No further splits with positive gain, best gain: -inf\n",
      "[LightGBM] [Warning] No further splits with positive gain, best gain: -inf\n",
      "[LightGBM] [Warning] No further splits with positive gain, best gain: -inf\n",
      "[LightGBM] [Warning] No further splits with positive gain, best gain: -inf\n",
      "[LightGBM] [Warning] No further splits with positive gain, best gain: -inf\n",
      "[LightGBM] [Warning] No further splits with positive gain, best gain: -inf\n",
      "[LightGBM] [Warning] No further splits with positive gain, best gain: -inf\n",
      "[LightGBM] [Warning] No further splits with positive gain, best gain: -inf\n",
      "[LightGBM] [Warning] No further splits with positive gain, best gain: -inf\n",
      "[LightGBM] [Warning] No further splits with positive gain, best gain: -inf\n",
      "[LightGBM] [Warning] No further splits with positive gain, best gain: -inf\n",
      "[LightGBM] [Warning] No further splits with positive gain, best gain: -inf\n",
      "[LightGBM] [Warning] No further splits with positive gain, best gain: -inf\n",
      "[LightGBM] [Warning] No further splits with positive gain, best gain: -inf\n",
      "[LightGBM] [Warning] No further splits with positive gain, best gain: -inf\n",
      "[LightGBM] [Warning] No further splits with positive gain, best gain: -inf\n",
      "[LightGBM] [Warning] No further splits with positive gain, best gain: -inf\n",
      "[LightGBM] [Warning] No further splits with positive gain, best gain: -inf\n",
      "[LightGBM] [Warning] No further splits with positive gain, best gain: -inf\n",
      "[LightGBM] [Warning] No further splits with positive gain, best gain: -inf\n",
      "[LightGBM] [Warning] No further splits with positive gain, best gain: -inf\n",
      "[LightGBM] [Warning] No further splits with positive gain, best gain: -inf\n",
      "[LightGBM] [Warning] No further splits with positive gain, best gain: -inf\n",
      "[LightGBM] [Warning] No further splits with positive gain, best gain: -inf\n",
      "[LightGBM] [Warning] No further splits with positive gain, best gain: -inf\n",
      "[LightGBM] [Warning] No further splits with positive gain, best gain: -inf\n",
      "[LightGBM] [Warning] No further splits with positive gain, best gain: -inf\n",
      "[LightGBM] [Warning] No further splits with positive gain, best gain: -inf\n",
      "[LightGBM] [Warning] No further splits with positive gain, best gain: -inf\n",
      "[LightGBM] [Warning] No further splits with positive gain, best gain: -inf\n",
      "[LightGBM] [Warning] No further splits with positive gain, best gain: -inf\n",
      "[LightGBM] [Warning] No further splits with positive gain, best gain: -inf\n",
      "[LightGBM] [Warning] No further splits with positive gain, best gain: -inf\n",
      "[LightGBM] [Warning] No further splits with positive gain, best gain: -inf\n",
      "[LightGBM] [Warning] No further splits with positive gain, best gain: -inf\n",
      "[LightGBM] [Warning] No further splits with positive gain, best gain: -inf\n",
      "[LightGBM] [Warning] No further splits with positive gain, best gain: -inf\n",
      "[LightGBM] [Warning] No further splits with positive gain, best gain: -inf\n",
      "[LightGBM] [Warning] No further splits with positive gain, best gain: -inf\n",
      "[LightGBM] [Warning] No further splits with positive gain, best gain: -inf\n",
      "[LightGBM] [Warning] No further splits with positive gain, best gain: -inf\n",
      "[LightGBM] [Warning] No further splits with positive gain, best gain: -inf\n",
      "[LightGBM] [Warning] No further splits with positive gain, best gain: -inf\n",
      "[LightGBM] [Warning] No further splits with positive gain, best gain: -inf\n",
      "[LightGBM] [Warning] No further splits with positive gain, best gain: -inf\n",
      "[LightGBM] [Warning] No further splits with positive gain, best gain: -inf\n",
      "[LightGBM] [Warning] No further splits with positive gain, best gain: -inf\n",
      "[LightGBM] [Warning] No further splits with positive gain, best gain: -inf\n",
      "[LightGBM] [Warning] No further splits with positive gain, best gain: -inf\n",
      "[LightGBM] [Warning] No further splits with positive gain, best gain: -inf\n",
      "[LightGBM] [Warning] No further splits with positive gain, best gain: -inf\n",
      "[LightGBM] [Warning] No further splits with positive gain, best gain: -inf\n",
      "[LightGBM] [Warning] No further splits with positive gain, best gain: -inf\n",
      "[LightGBM] [Warning] No further splits with positive gain, best gain: -inf\n",
      "[LightGBM] [Warning] No further splits with positive gain, best gain: -inf\n",
      "[LightGBM] [Warning] No further splits with positive gain, best gain: -inf\n",
      "[LightGBM] [Warning] No further splits with positive gain, best gain: -inf\n",
      "[LightGBM] [Warning] No further splits with positive gain, best gain: -inf\n",
      "[LightGBM] [Warning] No further splits with positive gain, best gain: -inf\n",
      "[LightGBM] [Warning] No further splits with positive gain, best gain: -inf\n",
      "[LightGBM] [Warning] No further splits with positive gain, best gain: -inf\n",
      "[LightGBM] [Warning] No further splits with positive gain, best gain: -inf\n",
      "[LightGBM] [Warning] No further splits with positive gain, best gain: -inf\n",
      "[LightGBM] [Warning] No further splits with positive gain, best gain: -inf\n",
      "[LightGBM] [Warning] No further splits with positive gain, best gain: -inf\n",
      "[LightGBM] [Warning] No further splits with positive gain, best gain: -inf\n",
      "[LightGBM] [Warning] No further splits with positive gain, best gain: -inf\n",
      "[LightGBM] [Warning] No further splits with positive gain, best gain: -inf\n",
      "[LightGBM] [Warning] No further splits with positive gain, best gain: -inf\n",
      "[LightGBM] [Warning] No further splits with positive gain, best gain: -inf\n",
      "[LightGBM] [Warning] No further splits with positive gain, best gain: -inf\n",
      "[LightGBM] [Warning] No further splits with positive gain, best gain: -inf\n",
      "[LightGBM] [Warning] No further splits with positive gain, best gain: -inf\n",
      "[LightGBM] [Warning] No further splits with positive gain, best gain: -inf\n",
      "[LightGBM] [Warning] No further splits with positive gain, best gain: -inf\n",
      "[LightGBM] [Warning] No further splits with positive gain, best gain: -inf\n",
      "[LightGBM] [Warning] No further splits with positive gain, best gain: -inf\n",
      "[LightGBM] [Warning] No further splits with positive gain, best gain: -inf\n",
      "[LightGBM] [Warning] No further splits with positive gain, best gain: -inf\n",
      "[LightGBM] [Warning] No further splits with positive gain, best gain: -inf\n",
      "[LightGBM] [Warning] No further splits with positive gain, best gain: -inf\n",
      "[LightGBM] [Warning] No further splits with positive gain, best gain: -inf\n"
     ]
    }
   ],
   "source": [
    "regressors = [('lgbmr', LGBMRegressor()),('catboost', CatBoostRegressor(verbose=False)), ('xgb', xgb.XGBRegressor())]\n",
    "voting_regressor = VotingRegressor(regressors)\n",
    "voting_regressor_result = train_evaluate_model(voting_regressor, X_soy, y_soybean, 3)\n",
    "voting_regressor_result.index = ['Ensemble']\n",
    "\n",
    "results = results.append(voting_regressor_result)"
   ]
  },
  {
   "cell_type": "code",
   "execution_count": 26,
   "metadata": {},
   "outputs": [
    {
     "data": {
      "text/html": [
       "<style type=\"text/css\">\n",
       "#T_8664c_row0_col0, #T_8664c_row0_col2, #T_8664c_row0_col6, #T_8664c_row2_col1, #T_8664c_row2_col3, #T_8664c_row2_col5, #T_8664c_row2_col7, #T_8664c_row7_col4 {\n",
       "  background-color: #e3d9c1;\n",
       "  color: #000000;\n",
       "}\n",
       "#T_8664c_row0_col1 {\n",
       "  background-color: #8b4f7c;\n",
       "  color: #f1f1f1;\n",
       "}\n",
       "#T_8664c_row0_col3 {\n",
       "  background-color: #c2828b;\n",
       "  color: #f1f1f1;\n",
       "}\n",
       "#T_8664c_row0_col4, #T_8664c_row5_col1, #T_8664c_row6_col5, #T_8664c_row6_col7, #T_8664c_row7_col0, #T_8664c_row7_col2, #T_8664c_row7_col3, #T_8664c_row7_col6 {\n",
       "  background-color: #27213f;\n",
       "  color: #f1f1f1;\n",
       "}\n",
       "#T_8664c_row0_col5 {\n",
       "  background-color: #cd9892;\n",
       "  color: #f1f1f1;\n",
       "}\n",
       "#T_8664c_row0_col7 {\n",
       "  background-color: #ca9190;\n",
       "  color: #f1f1f1;\n",
       "}\n",
       "#T_8664c_row1_col0 {\n",
       "  background-color: #dfcfb6;\n",
       "  color: #000000;\n",
       "}\n",
       "#T_8664c_row1_col1 {\n",
       "  background-color: #a25f82;\n",
       "  color: #f1f1f1;\n",
       "}\n",
       "#T_8664c_row1_col2, #T_8664c_row1_col6, #T_8664c_row2_col2, #T_8664c_row2_col6 {\n",
       "  background-color: #e0d1b9;\n",
       "  color: #000000;\n",
       "}\n",
       "#T_8664c_row1_col3 {\n",
       "  background-color: #c78b8e;\n",
       "  color: #f1f1f1;\n",
       "}\n",
       "#T_8664c_row1_col4, #T_8664c_row2_col4 {\n",
       "  background-color: #302548;\n",
       "  color: #f1f1f1;\n",
       "}\n",
       "#T_8664c_row1_col5 {\n",
       "  background-color: #d09e95;\n",
       "  color: #f1f1f1;\n",
       "}\n",
       "#T_8664c_row1_col7 {\n",
       "  background-color: #ce9993;\n",
       "  color: #f1f1f1;\n",
       "}\n",
       "#T_8664c_row2_col0 {\n",
       "  background-color: #dfcdb5;\n",
       "  color: #000000;\n",
       "}\n",
       "#T_8664c_row3_col0 {\n",
       "  background-color: #d7b3a0;\n",
       "  color: #000000;\n",
       "}\n",
       "#T_8664c_row3_col1 {\n",
       "  background-color: #854c7b;\n",
       "  color: #f1f1f1;\n",
       "}\n",
       "#T_8664c_row3_col2, #T_8664c_row3_col6 {\n",
       "  background-color: #dabda7;\n",
       "  color: #000000;\n",
       "}\n",
       "#T_8664c_row3_col3 {\n",
       "  background-color: #b26e86;\n",
       "  color: #f1f1f1;\n",
       "}\n",
       "#T_8664c_row3_col4 {\n",
       "  background-color: #48305c;\n",
       "  color: #f1f1f1;\n",
       "}\n",
       "#T_8664c_row3_col5 {\n",
       "  background-color: #c5878c;\n",
       "  color: #f1f1f1;\n",
       "}\n",
       "#T_8664c_row3_col7 {\n",
       "  background-color: #bf7e8a;\n",
       "  color: #f1f1f1;\n",
       "}\n",
       "#T_8664c_row4_col0 {\n",
       "  background-color: #d5ad9c;\n",
       "  color: #000000;\n",
       "}\n",
       "#T_8664c_row4_col1, #T_8664c_row5_col5 {\n",
       "  background-color: #884d7b;\n",
       "  color: #f1f1f1;\n",
       "}\n",
       "#T_8664c_row4_col2, #T_8664c_row4_col6 {\n",
       "  background-color: #d8b7a3;\n",
       "  color: #000000;\n",
       "}\n",
       "#T_8664c_row4_col3 {\n",
       "  background-color: #b16d86;\n",
       "  color: #f1f1f1;\n",
       "}\n",
       "#T_8664c_row4_col4 {\n",
       "  background-color: #4f3261;\n",
       "  color: #f1f1f1;\n",
       "}\n",
       "#T_8664c_row4_col5 {\n",
       "  background-color: #c3848c;\n",
       "  color: #f1f1f1;\n",
       "}\n",
       "#T_8664c_row4_col7 {\n",
       "  background-color: #be7c89;\n",
       "  color: #f1f1f1;\n",
       "}\n",
       "#T_8664c_row5_col0 {\n",
       "  background-color: #d2a598;\n",
       "  color: #000000;\n",
       "}\n",
       "#T_8664c_row5_col2, #T_8664c_row5_col6 {\n",
       "  background-color: #d6af9e;\n",
       "  color: #000000;\n",
       "}\n",
       "#T_8664c_row5_col3, #T_8664c_row5_col7 {\n",
       "  background-color: #6f4172;\n",
       "  color: #f1f1f1;\n",
       "}\n",
       "#T_8664c_row5_col4 {\n",
       "  background-color: #583767;\n",
       "  color: #f1f1f1;\n",
       "}\n",
       "#T_8664c_row6_col0 {\n",
       "  background-color: #3a2a51;\n",
       "  color: #f1f1f1;\n",
       "}\n",
       "#T_8664c_row6_col1 {\n",
       "  background-color: #91537e;\n",
       "  color: #f1f1f1;\n",
       "}\n",
       "#T_8664c_row6_col2 {\n",
       "  background-color: #3f2c55;\n",
       "  color: #f1f1f1;\n",
       "}\n",
       "#T_8664c_row6_col3 {\n",
       "  background-color: #5f396a;\n",
       "  color: #f1f1f1;\n",
       "}\n",
       "#T_8664c_row6_col4 {\n",
       "  background-color: #dcc6ae;\n",
       "  color: #000000;\n",
       "}\n",
       "#T_8664c_row6_col6 {\n",
       "  background-color: #3d2b54;\n",
       "  color: #f1f1f1;\n",
       "}\n",
       "#T_8664c_row7_col1 {\n",
       "  background-color: #643b6d;\n",
       "  color: #f1f1f1;\n",
       "}\n",
       "#T_8664c_row7_col5 {\n",
       "  background-color: #5d3969;\n",
       "  color: #f1f1f1;\n",
       "}\n",
       "#T_8664c_row7_col7 {\n",
       "  background-color: #2c2344;\n",
       "  color: #f1f1f1;\n",
       "}\n",
       "</style>\n",
       "<table id=\"T_8664c\">\n",
       "  <thead>\n",
       "    <tr>\n",
       "      <th class=\"blank level0\" >&nbsp;</th>\n",
       "      <th id=\"T_8664c_level0_col0\" class=\"col_heading level0 col0\" >RMSE</th>\n",
       "      <th id=\"T_8664c_level0_col1\" class=\"col_heading level0 col1\" >RMSE_StdDev</th>\n",
       "      <th id=\"T_8664c_level0_col2\" class=\"col_heading level0 col2\" >Mean_Squared_Error</th>\n",
       "      <th id=\"T_8664c_level0_col3\" class=\"col_heading level0 col3\" >MSE_StdDev</th>\n",
       "      <th id=\"T_8664c_level0_col4\" class=\"col_heading level0 col4\" >R_squared</th>\n",
       "      <th id=\"T_8664c_level0_col5\" class=\"col_heading level0 col5\" >R2_StdDev</th>\n",
       "      <th id=\"T_8664c_level0_col6\" class=\"col_heading level0 col6\" >Adjusted_R_squared</th>\n",
       "      <th id=\"T_8664c_level0_col7\" class=\"col_heading level0 col7\" >Adj_R2_StdDev</th>\n",
       "    </tr>\n",
       "  </thead>\n",
       "  <tbody>\n",
       "    <tr>\n",
       "      <th id=\"T_8664c_level0_row0\" class=\"row_heading level0 row0\" >Catboost</th>\n",
       "      <td id=\"T_8664c_row0_col0\" class=\"data row0 col0\" >5.799565</td>\n",
       "      <td id=\"T_8664c_row0_col1\" class=\"data row0 col1\" >0.416770</td>\n",
       "      <td id=\"T_8664c_row0_col2\" class=\"data row0 col2\" >33.808651</td>\n",
       "      <td id=\"T_8664c_row0_col3\" class=\"data row0 col3\" >4.956916</td>\n",
       "      <td id=\"T_8664c_row0_col4\" class=\"data row0 col4\" >0.573544</td>\n",
       "      <td id=\"T_8664c_row0_col5\" class=\"data row0 col5\" >0.050568</td>\n",
       "      <td id=\"T_8664c_row0_col6\" class=\"data row0 col6\" >1.736650</td>\n",
       "      <td id=\"T_8664c_row0_col7\" class=\"data row0 col7\" >0.090833</td>\n",
       "    </tr>\n",
       "    <tr>\n",
       "      <th id=\"T_8664c_level0_row1\" class=\"row_heading level0 row1\" >Ensemble</th>\n",
       "      <td id=\"T_8664c_row1_col0\" class=\"data row1 col0\" >5.999322</td>\n",
       "      <td id=\"T_8664c_row1_col1\" class=\"data row1 col1\" >0.380424</td>\n",
       "      <td id=\"T_8664c_row1_col2\" class=\"data row1 col2\" >36.136589</td>\n",
       "      <td id=\"T_8664c_row1_col3\" class=\"data row1 col3\" >4.660902</td>\n",
       "      <td id=\"T_8664c_row1_col4\" class=\"data row1 col4\" >0.543791</td>\n",
       "      <td id=\"T_8664c_row1_col5\" class=\"data row1 col5\" >0.047731</td>\n",
       "      <td id=\"T_8664c_row1_col6\" class=\"data row1 col6\" >1.788072</td>\n",
       "      <td id=\"T_8664c_row1_col7\" class=\"data row1 col7\" >0.086740</td>\n",
       "    </tr>\n",
       "    <tr>\n",
       "      <th id=\"T_8664c_level0_row2\" class=\"row_heading level0 row2\" >LGBM</th>\n",
       "      <td id=\"T_8664c_row2_col0\" class=\"data row2 col0\" >6.030651</td>\n",
       "      <td id=\"T_8664c_row2_col1\" class=\"data row2 col1\" >0.169878</td>\n",
       "      <td id=\"T_8664c_row2_col2\" class=\"data row2 col2\" >36.397615</td>\n",
       "      <td id=\"T_8664c_row2_col3\" class=\"data row2 col3\" >2.046089</td>\n",
       "      <td id=\"T_8664c_row2_col4\" class=\"data row2 col4\" >0.539319</td>\n",
       "      <td id=\"T_8664c_row2_col5\" class=\"data row2 col5\" >0.025633</td>\n",
       "      <td id=\"T_8664c_row2_col6\" class=\"data row2 col6\" >1.795654</td>\n",
       "      <td id=\"T_8664c_row2_col7\" class=\"data row2 col7\" >0.049729</td>\n",
       "    </tr>\n",
       "    <tr>\n",
       "      <th id=\"T_8664c_level0_row3\" class=\"row_heading level0 row3\" >RandomForest</th>\n",
       "      <td id=\"T_8664c_row3_col0\" class=\"data row3 col0\" >6.527088</td>\n",
       "      <td id=\"T_8664c_row3_col1\" class=\"data row3 col1\" >0.424895</td>\n",
       "      <td id=\"T_8664c_row3_col2\" class=\"data row3 col2\" >42.783409</td>\n",
       "      <td id=\"T_8664c_row3_col3\" class=\"data row3 col3\" >5.674177</td>\n",
       "      <td id=\"T_8664c_row3_col4\" class=\"data row3 col4\" >0.460136</td>\n",
       "      <td id=\"T_8664c_row3_col5\" class=\"data row3 col5\" >0.056647</td>\n",
       "      <td id=\"T_8664c_row3_col6\" class=\"data row3 col6\" >1.932501</td>\n",
       "      <td id=\"T_8664c_row3_col7\" class=\"data row3 col7\" >0.102345</td>\n",
       "    </tr>\n",
       "    <tr>\n",
       "      <th id=\"T_8664c_level0_row4\" class=\"row_heading level0 row4\" >AdaBoost</th>\n",
       "      <td id=\"T_8664c_row4_col0\" class=\"data row4 col0\" >6.643508</td>\n",
       "      <td id=\"T_8664c_row4_col1\" class=\"data row4 col1\" >0.420693</td>\n",
       "      <td id=\"T_8664c_row4_col2\" class=\"data row4 col2\" >44.313176</td>\n",
       "      <td id=\"T_8664c_row4_col3\" class=\"data row4 col3\" >5.714584</td>\n",
       "      <td id=\"T_8664c_row4_col4\" class=\"data row4 col4\" >0.440716</td>\n",
       "      <td id=\"T_8664c_row4_col5\" class=\"data row4 col5\" >0.057208</td>\n",
       "      <td id=\"T_8664c_row4_col6\" class=\"data row4 col6\" >1.966062</td>\n",
       "      <td id=\"T_8664c_row4_col7\" class=\"data row4 col7\" >0.103696</td>\n",
       "    </tr>\n",
       "    <tr>\n",
       "      <th id=\"T_8664c_level0_row5\" class=\"row_heading level0 row5\" >XGBoost</th>\n",
       "      <td id=\"T_8664c_row5_col0\" class=\"data row5 col0\" >6.796471</td>\n",
       "      <td id=\"T_8664c_row5_col1\" class=\"data row5 col1\" >0.554763</td>\n",
       "      <td id=\"T_8664c_row5_col2\" class=\"data row5 col2\" >46.499776</td>\n",
       "      <td id=\"T_8664c_row5_col3\" class=\"data row5 col3\" >7.739858</td>\n",
       "      <td id=\"T_8664c_row5_col4\" class=\"data row5 col4\" >0.413451</td>\n",
       "      <td id=\"T_8664c_row5_col5\" class=\"data row5 col5\" >0.082859</td>\n",
       "      <td id=\"T_8664c_row5_col6\" class=\"data row5 col6\" >2.013405</td>\n",
       "      <td id=\"T_8664c_row5_col7\" class=\"data row5 col7\" >0.148447</td>\n",
       "    </tr>\n",
       "    <tr>\n",
       "      <th id=\"T_8664c_level0_row6\" class=\"row_heading level0 row6\" >DecisionTree</th>\n",
       "      <td id=\"T_8664c_row6_col0\" class=\"data row6 col0\" >9.898451</td>\n",
       "      <td id=\"T_8664c_row6_col1\" class=\"data row6 col1\" >0.408550</td>\n",
       "      <td id=\"T_8664c_row6_col2\" class=\"data row6 col2\" >98.146245</td>\n",
       "      <td id=\"T_8664c_row6_col3\" class=\"data row6 col3\" >8.172337</td>\n",
       "      <td id=\"T_8664c_row6_col4\" class=\"data row6 col4\" >-0.243296</td>\n",
       "      <td id=\"T_8664c_row6_col5\" class=\"data row6 col5\" >0.113443</td>\n",
       "      <td id=\"T_8664c_row6_col6\" class=\"data row6 col6\" >3.145328</td>\n",
       "      <td id=\"T_8664c_row6_col7\" class=\"data row6 col7\" >0.183200</td>\n",
       "    </tr>\n",
       "    <tr>\n",
       "      <th id=\"T_8664c_level0_row7\" class=\"row_heading level0 row7\" >LinearRegression</th>\n",
       "      <td id=\"T_8664c_row7_col0\" class=\"data row7 col0\" >10.218517</td>\n",
       "      <td id=\"T_8664c_row7_col1\" class=\"data row7 col1\" >0.470264</td>\n",
       "      <td id=\"T_8664c_row7_col2\" class=\"data row7 col2\" >104.639245</td>\n",
       "      <td id=\"T_8664c_row7_col3\" class=\"data row7 col3\" >9.747068</td>\n",
       "      <td id=\"T_8664c_row7_col4\" class=\"data row7 col4\" >-0.322372</td>\n",
       "      <td id=\"T_8664c_row7_col5\" class=\"data row7 col5\" >0.096188</td>\n",
       "      <td id=\"T_8664c_row7_col6\" class=\"data row7 col6\" >3.284044</td>\n",
       "      <td id=\"T_8664c_row7_col7\" class=\"data row7 col7\" >0.180158</td>\n",
       "    </tr>\n",
       "  </tbody>\n",
       "</table>\n"
      ],
      "text/plain": [
       "<pandas.io.formats.style.Styler at 0x25b4a7b6690>"
      ]
     },
     "execution_count": 26,
     "metadata": {},
     "output_type": "execute_result"
    }
   ],
   "source": [
    "results.sort_values(by='RMSE',ascending=True).style.background_gradient(cmap = sns.color_palette(\"ch:s=-.2,r=.6\", as_cmap=True))\n"
   ]
  },
  {
   "cell_type": "code",
   "execution_count": 27,
   "metadata": {},
   "outputs": [],
   "source": [
    "from sklearn.ensemble import GradientBoostingRegressor\n",
    "\n",
    "# Create and train the Gradient Boosting Regressor\n",
    "gboost = GradientBoostingRegressor()\n",
    "gboost_result = train_evaluate_model(gboost, X_soy, y_soybean, 3)\n",
    "gboost_result.index = ['GradientBoostings']\n",
    "\n",
    "# Append the results\n",
    "results = results.append(gboost_result)\n"
   ]
  },
  {
   "cell_type": "code",
   "execution_count": 28,
   "metadata": {},
   "outputs": [
    {
     "data": {
      "text/html": [
       "<style type=\"text/css\">\n",
       "#T_23e45_row0_col0, #T_23e45_row0_col2, #T_23e45_row0_col6, #T_23e45_row2_col1, #T_23e45_row2_col3, #T_23e45_row2_col5, #T_23e45_row2_col7, #T_23e45_row8_col4 {\n",
       "  background-color: #e3d9c1;\n",
       "  color: #000000;\n",
       "}\n",
       "#T_23e45_row0_col1 {\n",
       "  background-color: #8b4f7c;\n",
       "  color: #f1f1f1;\n",
       "}\n",
       "#T_23e45_row0_col3 {\n",
       "  background-color: #c2828b;\n",
       "  color: #f1f1f1;\n",
       "}\n",
       "#T_23e45_row0_col4, #T_23e45_row6_col1, #T_23e45_row7_col5, #T_23e45_row7_col7, #T_23e45_row8_col0, #T_23e45_row8_col2, #T_23e45_row8_col3, #T_23e45_row8_col6 {\n",
       "  background-color: #27213f;\n",
       "  color: #f1f1f1;\n",
       "}\n",
       "#T_23e45_row0_col5 {\n",
       "  background-color: #cd9892;\n",
       "  color: #f1f1f1;\n",
       "}\n",
       "#T_23e45_row0_col7 {\n",
       "  background-color: #ca9190;\n",
       "  color: #f1f1f1;\n",
       "}\n",
       "#T_23e45_row1_col0 {\n",
       "  background-color: #dfcfb6;\n",
       "  color: #000000;\n",
       "}\n",
       "#T_23e45_row1_col1 {\n",
       "  background-color: #a25f82;\n",
       "  color: #f1f1f1;\n",
       "}\n",
       "#T_23e45_row1_col2, #T_23e45_row1_col6, #T_23e45_row2_col2, #T_23e45_row2_col6 {\n",
       "  background-color: #e0d1b9;\n",
       "  color: #000000;\n",
       "}\n",
       "#T_23e45_row1_col3 {\n",
       "  background-color: #c78b8e;\n",
       "  color: #f1f1f1;\n",
       "}\n",
       "#T_23e45_row1_col4, #T_23e45_row2_col4 {\n",
       "  background-color: #302548;\n",
       "  color: #f1f1f1;\n",
       "}\n",
       "#T_23e45_row1_col5 {\n",
       "  background-color: #d09e95;\n",
       "  color: #f1f1f1;\n",
       "}\n",
       "#T_23e45_row1_col7 {\n",
       "  background-color: #ce9993;\n",
       "  color: #f1f1f1;\n",
       "}\n",
       "#T_23e45_row2_col0 {\n",
       "  background-color: #dfcdb5;\n",
       "  color: #000000;\n",
       "}\n",
       "#T_23e45_row3_col0, #T_23e45_row7_col4 {\n",
       "  background-color: #dcc6ae;\n",
       "  color: #000000;\n",
       "}\n",
       "#T_23e45_row3_col1 {\n",
       "  background-color: #c6898d;\n",
       "  color: #f1f1f1;\n",
       "}\n",
       "#T_23e45_row3_col2, #T_23e45_row3_col6 {\n",
       "  background-color: #deccb4;\n",
       "  color: #000000;\n",
       "}\n",
       "#T_23e45_row3_col3 {\n",
       "  background-color: #d3a699;\n",
       "  color: #000000;\n",
       "}\n",
       "#T_23e45_row3_col4 {\n",
       "  background-color: #36284d;\n",
       "  color: #f1f1f1;\n",
       "}\n",
       "#T_23e45_row3_col5 {\n",
       "  background-color: #d8b6a2;\n",
       "  color: #000000;\n",
       "}\n",
       "#T_23e45_row3_col7 {\n",
       "  background-color: #d6b19f;\n",
       "  color: #000000;\n",
       "}\n",
       "#T_23e45_row4_col0 {\n",
       "  background-color: #d7b3a0;\n",
       "  color: #000000;\n",
       "}\n",
       "#T_23e45_row4_col1 {\n",
       "  background-color: #854c7b;\n",
       "  color: #f1f1f1;\n",
       "}\n",
       "#T_23e45_row4_col2, #T_23e45_row4_col6 {\n",
       "  background-color: #dabda7;\n",
       "  color: #000000;\n",
       "}\n",
       "#T_23e45_row4_col3 {\n",
       "  background-color: #b26e86;\n",
       "  color: #f1f1f1;\n",
       "}\n",
       "#T_23e45_row4_col4 {\n",
       "  background-color: #48305c;\n",
       "  color: #f1f1f1;\n",
       "}\n",
       "#T_23e45_row4_col5 {\n",
       "  background-color: #c5878c;\n",
       "  color: #f1f1f1;\n",
       "}\n",
       "#T_23e45_row4_col7 {\n",
       "  background-color: #bf7e8a;\n",
       "  color: #f1f1f1;\n",
       "}\n",
       "#T_23e45_row5_col0 {\n",
       "  background-color: #d5ad9c;\n",
       "  color: #000000;\n",
       "}\n",
       "#T_23e45_row5_col1, #T_23e45_row6_col5 {\n",
       "  background-color: #884d7b;\n",
       "  color: #f1f1f1;\n",
       "}\n",
       "#T_23e45_row5_col2, #T_23e45_row5_col6 {\n",
       "  background-color: #d8b7a3;\n",
       "  color: #000000;\n",
       "}\n",
       "#T_23e45_row5_col3 {\n",
       "  background-color: #b16d86;\n",
       "  color: #f1f1f1;\n",
       "}\n",
       "#T_23e45_row5_col4 {\n",
       "  background-color: #4f3261;\n",
       "  color: #f1f1f1;\n",
       "}\n",
       "#T_23e45_row5_col5 {\n",
       "  background-color: #c3848c;\n",
       "  color: #f1f1f1;\n",
       "}\n",
       "#T_23e45_row5_col7 {\n",
       "  background-color: #be7c89;\n",
       "  color: #f1f1f1;\n",
       "}\n",
       "#T_23e45_row6_col0 {\n",
       "  background-color: #d2a598;\n",
       "  color: #000000;\n",
       "}\n",
       "#T_23e45_row6_col2, #T_23e45_row6_col6 {\n",
       "  background-color: #d6af9e;\n",
       "  color: #000000;\n",
       "}\n",
       "#T_23e45_row6_col3, #T_23e45_row6_col7 {\n",
       "  background-color: #6f4172;\n",
       "  color: #f1f1f1;\n",
       "}\n",
       "#T_23e45_row6_col4 {\n",
       "  background-color: #583767;\n",
       "  color: #f1f1f1;\n",
       "}\n",
       "#T_23e45_row7_col0 {\n",
       "  background-color: #3a2a51;\n",
       "  color: #f1f1f1;\n",
       "}\n",
       "#T_23e45_row7_col1 {\n",
       "  background-color: #91537e;\n",
       "  color: #f1f1f1;\n",
       "}\n",
       "#T_23e45_row7_col2 {\n",
       "  background-color: #3f2c55;\n",
       "  color: #f1f1f1;\n",
       "}\n",
       "#T_23e45_row7_col3 {\n",
       "  background-color: #5f396a;\n",
       "  color: #f1f1f1;\n",
       "}\n",
       "#T_23e45_row7_col6 {\n",
       "  background-color: #3d2b54;\n",
       "  color: #f1f1f1;\n",
       "}\n",
       "#T_23e45_row8_col1 {\n",
       "  background-color: #643b6d;\n",
       "  color: #f1f1f1;\n",
       "}\n",
       "#T_23e45_row8_col5 {\n",
       "  background-color: #5d3969;\n",
       "  color: #f1f1f1;\n",
       "}\n",
       "#T_23e45_row8_col7 {\n",
       "  background-color: #2c2344;\n",
       "  color: #f1f1f1;\n",
       "}\n",
       "</style>\n",
       "<table id=\"T_23e45\">\n",
       "  <thead>\n",
       "    <tr>\n",
       "      <th class=\"blank level0\" >&nbsp;</th>\n",
       "      <th id=\"T_23e45_level0_col0\" class=\"col_heading level0 col0\" >RMSE</th>\n",
       "      <th id=\"T_23e45_level0_col1\" class=\"col_heading level0 col1\" >RMSE_StdDev</th>\n",
       "      <th id=\"T_23e45_level0_col2\" class=\"col_heading level0 col2\" >Mean_Squared_Error</th>\n",
       "      <th id=\"T_23e45_level0_col3\" class=\"col_heading level0 col3\" >MSE_StdDev</th>\n",
       "      <th id=\"T_23e45_level0_col4\" class=\"col_heading level0 col4\" >R_squared</th>\n",
       "      <th id=\"T_23e45_level0_col5\" class=\"col_heading level0 col5\" >R2_StdDev</th>\n",
       "      <th id=\"T_23e45_level0_col6\" class=\"col_heading level0 col6\" >Adjusted_R_squared</th>\n",
       "      <th id=\"T_23e45_level0_col7\" class=\"col_heading level0 col7\" >Adj_R2_StdDev</th>\n",
       "    </tr>\n",
       "  </thead>\n",
       "  <tbody>\n",
       "    <tr>\n",
       "      <th id=\"T_23e45_level0_row0\" class=\"row_heading level0 row0\" >Catboost</th>\n",
       "      <td id=\"T_23e45_row0_col0\" class=\"data row0 col0\" >5.799565</td>\n",
       "      <td id=\"T_23e45_row0_col1\" class=\"data row0 col1\" >0.416770</td>\n",
       "      <td id=\"T_23e45_row0_col2\" class=\"data row0 col2\" >33.808651</td>\n",
       "      <td id=\"T_23e45_row0_col3\" class=\"data row0 col3\" >4.956916</td>\n",
       "      <td id=\"T_23e45_row0_col4\" class=\"data row0 col4\" >0.573544</td>\n",
       "      <td id=\"T_23e45_row0_col5\" class=\"data row0 col5\" >0.050568</td>\n",
       "      <td id=\"T_23e45_row0_col6\" class=\"data row0 col6\" >1.736650</td>\n",
       "      <td id=\"T_23e45_row0_col7\" class=\"data row0 col7\" >0.090833</td>\n",
       "    </tr>\n",
       "    <tr>\n",
       "      <th id=\"T_23e45_level0_row1\" class=\"row_heading level0 row1\" >Ensemble</th>\n",
       "      <td id=\"T_23e45_row1_col0\" class=\"data row1 col0\" >5.999322</td>\n",
       "      <td id=\"T_23e45_row1_col1\" class=\"data row1 col1\" >0.380424</td>\n",
       "      <td id=\"T_23e45_row1_col2\" class=\"data row1 col2\" >36.136589</td>\n",
       "      <td id=\"T_23e45_row1_col3\" class=\"data row1 col3\" >4.660902</td>\n",
       "      <td id=\"T_23e45_row1_col4\" class=\"data row1 col4\" >0.543791</td>\n",
       "      <td id=\"T_23e45_row1_col5\" class=\"data row1 col5\" >0.047731</td>\n",
       "      <td id=\"T_23e45_row1_col6\" class=\"data row1 col6\" >1.788072</td>\n",
       "      <td id=\"T_23e45_row1_col7\" class=\"data row1 col7\" >0.086740</td>\n",
       "    </tr>\n",
       "    <tr>\n",
       "      <th id=\"T_23e45_level0_row2\" class=\"row_heading level0 row2\" >LGBM</th>\n",
       "      <td id=\"T_23e45_row2_col0\" class=\"data row2 col0\" >6.030651</td>\n",
       "      <td id=\"T_23e45_row2_col1\" class=\"data row2 col1\" >0.169878</td>\n",
       "      <td id=\"T_23e45_row2_col2\" class=\"data row2 col2\" >36.397615</td>\n",
       "      <td id=\"T_23e45_row2_col3\" class=\"data row2 col3\" >2.046089</td>\n",
       "      <td id=\"T_23e45_row2_col4\" class=\"data row2 col4\" >0.539319</td>\n",
       "      <td id=\"T_23e45_row2_col5\" class=\"data row2 col5\" >0.025633</td>\n",
       "      <td id=\"T_23e45_row2_col6\" class=\"data row2 col6\" >1.795654</td>\n",
       "      <td id=\"T_23e45_row2_col7\" class=\"data row2 col7\" >0.049729</td>\n",
       "    </tr>\n",
       "    <tr>\n",
       "      <th id=\"T_23e45_level0_row3\" class=\"row_heading level0 row3\" >GradientBoostings</th>\n",
       "      <td id=\"T_23e45_row3_col0\" class=\"data row3 col0\" >6.162124</td>\n",
       "      <td id=\"T_23e45_row3_col1\" class=\"data row3 col1\" >0.301243</td>\n",
       "      <td id=\"T_23e45_row3_col2\" class=\"data row3 col2\" >38.062517</td>\n",
       "      <td id=\"T_23e45_row3_col3\" class=\"data row3 col3\" >3.754446</td>\n",
       "      <td id=\"T_23e45_row3_col4\" class=\"data row3 col4\" >0.518901</td>\n",
       "      <td id=\"T_23e45_row3_col5\" class=\"data row3 col5\" >0.039238</td>\n",
       "      <td id=\"T_23e45_row3_col6\" class=\"data row3 col6\" >1.831040</td>\n",
       "      <td id=\"T_23e45_row3_col7\" class=\"data row3 col7\" >0.073059</td>\n",
       "    </tr>\n",
       "    <tr>\n",
       "      <th id=\"T_23e45_level0_row4\" class=\"row_heading level0 row4\" >RandomForest</th>\n",
       "      <td id=\"T_23e45_row4_col0\" class=\"data row4 col0\" >6.527088</td>\n",
       "      <td id=\"T_23e45_row4_col1\" class=\"data row4 col1\" >0.424895</td>\n",
       "      <td id=\"T_23e45_row4_col2\" class=\"data row4 col2\" >42.783409</td>\n",
       "      <td id=\"T_23e45_row4_col3\" class=\"data row4 col3\" >5.674177</td>\n",
       "      <td id=\"T_23e45_row4_col4\" class=\"data row4 col4\" >0.460136</td>\n",
       "      <td id=\"T_23e45_row4_col5\" class=\"data row4 col5\" >0.056647</td>\n",
       "      <td id=\"T_23e45_row4_col6\" class=\"data row4 col6\" >1.932501</td>\n",
       "      <td id=\"T_23e45_row4_col7\" class=\"data row4 col7\" >0.102345</td>\n",
       "    </tr>\n",
       "    <tr>\n",
       "      <th id=\"T_23e45_level0_row5\" class=\"row_heading level0 row5\" >AdaBoost</th>\n",
       "      <td id=\"T_23e45_row5_col0\" class=\"data row5 col0\" >6.643508</td>\n",
       "      <td id=\"T_23e45_row5_col1\" class=\"data row5 col1\" >0.420693</td>\n",
       "      <td id=\"T_23e45_row5_col2\" class=\"data row5 col2\" >44.313176</td>\n",
       "      <td id=\"T_23e45_row5_col3\" class=\"data row5 col3\" >5.714584</td>\n",
       "      <td id=\"T_23e45_row5_col4\" class=\"data row5 col4\" >0.440716</td>\n",
       "      <td id=\"T_23e45_row5_col5\" class=\"data row5 col5\" >0.057208</td>\n",
       "      <td id=\"T_23e45_row5_col6\" class=\"data row5 col6\" >1.966062</td>\n",
       "      <td id=\"T_23e45_row5_col7\" class=\"data row5 col7\" >0.103696</td>\n",
       "    </tr>\n",
       "    <tr>\n",
       "      <th id=\"T_23e45_level0_row6\" class=\"row_heading level0 row6\" >XGBoost</th>\n",
       "      <td id=\"T_23e45_row6_col0\" class=\"data row6 col0\" >6.796471</td>\n",
       "      <td id=\"T_23e45_row6_col1\" class=\"data row6 col1\" >0.554763</td>\n",
       "      <td id=\"T_23e45_row6_col2\" class=\"data row6 col2\" >46.499776</td>\n",
       "      <td id=\"T_23e45_row6_col3\" class=\"data row6 col3\" >7.739858</td>\n",
       "      <td id=\"T_23e45_row6_col4\" class=\"data row6 col4\" >0.413451</td>\n",
       "      <td id=\"T_23e45_row6_col5\" class=\"data row6 col5\" >0.082859</td>\n",
       "      <td id=\"T_23e45_row6_col6\" class=\"data row6 col6\" >2.013405</td>\n",
       "      <td id=\"T_23e45_row6_col7\" class=\"data row6 col7\" >0.148447</td>\n",
       "    </tr>\n",
       "    <tr>\n",
       "      <th id=\"T_23e45_level0_row7\" class=\"row_heading level0 row7\" >DecisionTree</th>\n",
       "      <td id=\"T_23e45_row7_col0\" class=\"data row7 col0\" >9.898451</td>\n",
       "      <td id=\"T_23e45_row7_col1\" class=\"data row7 col1\" >0.408550</td>\n",
       "      <td id=\"T_23e45_row7_col2\" class=\"data row7 col2\" >98.146245</td>\n",
       "      <td id=\"T_23e45_row7_col3\" class=\"data row7 col3\" >8.172337</td>\n",
       "      <td id=\"T_23e45_row7_col4\" class=\"data row7 col4\" >-0.243296</td>\n",
       "      <td id=\"T_23e45_row7_col5\" class=\"data row7 col5\" >0.113443</td>\n",
       "      <td id=\"T_23e45_row7_col6\" class=\"data row7 col6\" >3.145328</td>\n",
       "      <td id=\"T_23e45_row7_col7\" class=\"data row7 col7\" >0.183200</td>\n",
       "    </tr>\n",
       "    <tr>\n",
       "      <th id=\"T_23e45_level0_row8\" class=\"row_heading level0 row8\" >LinearRegression</th>\n",
       "      <td id=\"T_23e45_row8_col0\" class=\"data row8 col0\" >10.218517</td>\n",
       "      <td id=\"T_23e45_row8_col1\" class=\"data row8 col1\" >0.470264</td>\n",
       "      <td id=\"T_23e45_row8_col2\" class=\"data row8 col2\" >104.639245</td>\n",
       "      <td id=\"T_23e45_row8_col3\" class=\"data row8 col3\" >9.747068</td>\n",
       "      <td id=\"T_23e45_row8_col4\" class=\"data row8 col4\" >-0.322372</td>\n",
       "      <td id=\"T_23e45_row8_col5\" class=\"data row8 col5\" >0.096188</td>\n",
       "      <td id=\"T_23e45_row8_col6\" class=\"data row8 col6\" >3.284044</td>\n",
       "      <td id=\"T_23e45_row8_col7\" class=\"data row8 col7\" >0.180158</td>\n",
       "    </tr>\n",
       "  </tbody>\n",
       "</table>\n"
      ],
      "text/plain": [
       "<pandas.io.formats.style.Styler at 0x25b448bf010>"
      ]
     },
     "execution_count": 28,
     "metadata": {},
     "output_type": "execute_result"
    }
   ],
   "source": [
    "results.sort_values(by='RMSE',ascending=True).style.background_gradient(cmap = sns.color_palette(\"ch:s=-.2,r=.6\", as_cmap=True))\n"
   ]
  },
  {
   "cell_type": "markdown",
   "metadata": {},
   "source": [
    "Feature Importance"
   ]
  },
  {
   "cell_type": "code",
   "execution_count": 29,
   "metadata": {},
   "outputs": [
    {
     "data": {
      "image/png": "[encoded data removed]",
      "text/plain": [
       "<Figure size 1200x800 with 1 Axes>"
      ]
     },
     "metadata": {},
     "output_type": "display_data"
    }
   ],
   "source": [
    "import seaborn as sns\n",
    "import matplotlib.pyplot as plt\n",
    "\n",
    "# Assuming xgboost is your trained model and X_corn is your feature dataframe\n",
    "importances = xgboost.feature_importances_\n",
    "features = X_soy.columns\n",
    "\n",
    "# Sort the features based on importance\n",
    "sorted_idx = importances.argsort()[-20:][::-1]\n",
    "sorted = importances.argsort()[-100:][::-1]\n",
    "top_50 = features[sorted]\n",
    "top_importances = importances[sorted_idx]\n",
    "top_features = features[sorted_idx]\n",
    "\n",
    "# Plotting\n",
    "sns.set_style('whitegrid')\n",
    "sns.set_context('poster')\n",
    "sns.set_palette('colorblind')\n",
    "sns.set(rc={'figure.figsize':(12,8)})\n",
    "sns.barplot(x=top_importances, y=top_features)\n",
    "plt.title('FEATURE IMPORTANCE - TOP 20')\n",
    "plt.show()"
   ]
  },
  {
   "cell_type": "markdown",
   "metadata": {},
   "source": [
    "Model Comparision"
   ]
  },
  {
   "cell_type": "code",
   "execution_count": 30,
   "metadata": {},
   "outputs": [],
   "source": [
    "models = results.T.columns.values"
   ]
  },
  {
   "cell_type": "markdown",
   "metadata": {},
   "source": [
    "Mean Squared Error"
   ]
  },
  {
   "cell_type": "code",
   "execution_count": 31,
   "metadata": {},
   "outputs": [
    {
     "data": {
      "application/vnd.plotly.v1+json": {
       "config": {
        "plotlyServerURL": "https://plot.ly"
       },
       "data": [
        {
         "alignmentgroup": "True",
         "hovertemplate": "x=%{x}<br>y=%{y}<br>color=%{marker.color}<extra></extra>",
         "legendgroup": "",
         "marker": {
          "color": [
           104.63924500884322,
           98.14624463065236,
           46.49977615979706,
           36.397615329047674,
           44.313175892772016,
           33.808650811620225,
           42.78340946777334,
           36.13658935920952,
           38.062517041490906
          ],
          "coloraxis": "coloraxis",
          "pattern": {
           "shape": ""
          }
         },
         "name": "",
         "offsetgroup": "",
         "orientation": "h",
         "showlegend": false,
         "textposition": "auto",
         "type": "bar",
         "x": [
          10.218517326704836,
          9.898450960506315,
          6.796470750306335,
          6.030651434828884,
          6.643507628620114,
          5.799564956374836,
          6.527087664564914,
          5.99932220150577,
          6.162123803823075
         ],
         "xaxis": "x",
         "y": [
          "LinearRegression",
          "DecisionTree",
          "XGBoost",
          "LGBM",
          "AdaBoost",
          "Catboost",
          "RandomForest",
          "Ensemble",
          "GradientBoostings"
         ],
         "yaxis": "y"
        }
       ],
       "layout": {
        "barmode": "relative",
        "coloraxis": {
         "colorbar": {
          "title": {
           "text": "color"
          }
         },
         "colorscale": [
          [
           0,
           "rgb(73,0,106)"
          ],
          [
           0.125,
           "rgb(122,1,119)"
          ],
          [
           0.25,
           "rgb(174,1,126)"
          ],
          [
           0.375,
           "rgb(221,52,151)"
          ],
          [
           0.5,
           "rgb(247,104,161)"
          ],
          [
           0.625,
           "rgb(250,159,181)"
          ],
          [
           0.75,
           "rgb(252,197,192)"
          ],
          [
           0.875,
           "rgb(253,224,221)"
          ],
          [
           1,
           "rgb(255,247,243)"
          ]
         ]
        },
        "height": 600,
        "legend": {
         "tracegroupgap": 0
        },
        "margin": {
         "t": 60
        },
        "template": {
         "data": {
          "bar": [
           {
            "error_x": {
             "color": "rgb(36,36,36)"
            },
            "error_y": {
             "color": "rgb(36,36,36)"
            },
            "marker": {
             "line": {
              "color": "rgb(234,234,242)",
              "width": 0.5
             },
             "pattern": {
              "fillmode": "overlay",
              "size": 10,
              "solidity": 0.2
             }
            },
            "type": "bar"
           }
          ],
          "barpolar": [
           {
            "marker": {
             "line": {
              "color": "rgb(234,234,242)",
              "width": 0.5
             },
             "pattern": {
              "fillmode": "overlay",
              "size": 10,
              "solidity": 0.2
             }
            },
            "type": "barpolar"
           }
          ],
          "carpet": [
           {
            "aaxis": {
             "endlinecolor": "rgb(36,36,36)",
             "gridcolor": "white",
             "linecolor": "white",
             "minorgridcolor": "white",
             "startlinecolor": "rgb(36,36,36)"
            },
            "baxis": {
             "endlinecolor": "rgb(36,36,36)",
             "gridcolor": "white",
             "linecolor": "white",
             "minorgridcolor": "white",
             "startlinecolor": "rgb(36,36,36)"
            },
            "type": "carpet"
           }
          ],
          "choropleth": [
           {
            "colorbar": {
             "outlinewidth": 0,
             "tickcolor": "rgb(36,36,36)",
             "ticklen": 8,
             "ticks": "outside",
             "tickwidth": 2
            },
            "type": "choropleth"
           }
          ],
          "contour": [
           {
            "colorbar": {
             "outlinewidth": 0,
             "tickcolor": "rgb(36,36,36)",
             "ticklen": 8,
             "ticks": "outside",
             "tickwidth": 2
            },
            "colorscale": [
             [
              0,
              "rgb(2,4,25)"
             ],
             [
              0.06274509803921569,
              "rgb(24,15,41)"
             ],
             [
              0.12549019607843137,
              "rgb(47,23,57)"
             ],
             [
              0.18823529411764706,
              "rgb(71,28,72)"
             ],
             [
              0.25098039215686274,
              "rgb(97,30,82)"
             ],
             [
              0.3137254901960784,
              "rgb(123,30,89)"
             ],
             [
              0.3764705882352941,
              "rgb(150,27,91)"
             ],
             [
              0.4392156862745098,
              "rgb(177,22,88)"
             ],
             [
              0.5019607843137255,
              "rgb(203,26,79)"
             ],
             [
              0.5647058823529412,
              "rgb(223,47,67)"
             ],
             [
              0.6274509803921569,
              "rgb(236,76,61)"
             ],
             [
              0.6901960784313725,
              "rgb(242,107,73)"
             ],
             [
              0.7529411764705882,
              "rgb(244,135,95)"
             ],
             [
              0.8156862745098039,
              "rgb(245,162,122)"
             ],
             [
              0.8784313725490196,
              "rgb(246,188,153)"
             ],
             [
              0.9411764705882353,
              "rgb(247,212,187)"
             ],
             [
              1,
              "rgb(250,234,220)"
             ]
            ],
            "type": "contour"
           }
          ],
          "contourcarpet": [
           {
            "colorbar": {
             "outlinewidth": 0,
             "tickcolor": "rgb(36,36,36)",
             "ticklen": 8,
             "ticks": "outside",
             "tickwidth": 2
            },
            "type": "contourcarpet"
           }
          ],
          "heatmap": [
           {
            "colorbar": {
             "outlinewidth": 0,
             "tickcolor": "rgb(36,36,36)",
             "ticklen": 8,
             "ticks": "outside",
             "tickwidth": 2
            },
            "colorscale": [
             [
              0,
              "rgb(2,4,25)"
             ],
             [
              0.06274509803921569,
              "rgb(24,15,41)"
             ],
             [
              0.12549019607843137,
              "rgb(47,23,57)"
             ],
             [
              0.18823529411764706,
              "rgb(71,28,72)"
             ],
             [
              0.25098039215686274,
              "rgb(97,30,82)"
             ],
             [
              0.3137254901960784,
              "rgb(123,30,89)"
             ],
             [
              0.3764705882352941,
              "rgb(150,27,91)"
             ],
             [
              0.4392156862745098,
              "rgb(177,22,88)"
             ],
             [
              0.5019607843137255,
              "rgb(203,26,79)"
             ],
             [
              0.5647058823529412,
              "rgb(223,47,67)"
             ],
             [
              0.6274509803921569,
              "rgb(236,76,61)"
             ],
             [
              0.6901960784313725,
              "rgb(242,107,73)"
             ],
             [
              0.7529411764705882,
              "rgb(244,135,95)"
             ],
             [
              0.8156862745098039,
              "rgb(245,162,122)"
             ],
             [
              0.8784313725490196,
              "rgb(246,188,153)"
             ],
             [
              0.9411764705882353,
              "rgb(247,212,187)"
             ],
             [
              1,
              "rgb(250,234,220)"
             ]
            ],
            "type": "heatmap"
           }
          ],
          "heatmapgl": [
           {
            "colorbar": {
             "outlinewidth": 0,
             "tickcolor": "rgb(36,36,36)",
             "ticklen": 8,
             "ticks": "outside",
             "tickwidth": 2
            },
            "colorscale": [
             [
              0,
              "rgb(2,4,25)"
             ],
             [
              0.06274509803921569,
              "rgb(24,15,41)"
             ],
             [
              0.12549019607843137,
              "rgb(47,23,57)"
             ],
             [
              0.18823529411764706,
              "rgb(71,28,72)"
             ],
             [
              0.25098039215686274,
              "rgb(97,30,82)"
             ],
             [
              0.3137254901960784,
              "rgb(123,30,89)"
             ],
             [
              0.3764705882352941,
              "rgb(150,27,91)"
             ],
             [
              0.4392156862745098,
              "rgb(177,22,88)"
             ],
             [
              0.5019607843137255,
              "rgb(203,26,79)"
             ],
             [
              0.5647058823529412,
              "rgb(223,47,67)"
             ],
             [
              0.6274509803921569,
              "rgb(236,76,61)"
             ],
             [
              0.6901960784313725,
              "rgb(242,107,73)"
             ],
             [
              0.7529411764705882,
              "rgb(244,135,95)"
             ],
             [
              0.8156862745098039,
              "rgb(245,162,122)"
             ],
             [
              0.8784313725490196,
              "rgb(246,188,153)"
             ],
             [
              0.9411764705882353,
              "rgb(247,212,187)"
             ],
             [
              1,
              "rgb(250,234,220)"
             ]
            ],
            "type": "heatmapgl"
           }
          ],
          "histogram": [
           {
            "marker": {
             "pattern": {
              "fillmode": "overlay",
              "size": 10,
              "solidity": 0.2
             }
            },
            "type": "histogram"
           }
          ],
          "histogram2d": [
           {
            "colorbar": {
             "outlinewidth": 0,
             "tickcolor": "rgb(36,36,36)",
             "ticklen": 8,
             "ticks": "outside",
             "tickwidth": 2
            },
            "colorscale": [
             [
              0,
              "rgb(2,4,25)"
             ],
             [
              0.06274509803921569,
              "rgb(24,15,41)"
             ],
             [
              0.12549019607843137,
              "rgb(47,23,57)"
             ],
             [
              0.18823529411764706,
              "rgb(71,28,72)"
             ],
             [
              0.25098039215686274,
              "rgb(97,30,82)"
             ],
             [
              0.3137254901960784,
              "rgb(123,30,89)"
             ],
             [
              0.3764705882352941,
              "rgb(150,27,91)"
             ],
             [
              0.4392156862745098,
              "rgb(177,22,88)"
             ],
             [
              0.5019607843137255,
              "rgb(203,26,79)"
             ],
             [
              0.5647058823529412,
              "rgb(223,47,67)"
             ],
             [
              0.6274509803921569,
              "rgb(236,76,61)"
             ],
             [
              0.6901960784313725,
              "rgb(242,107,73)"
             ],
             [
              0.7529411764705882,
              "rgb(244,135,95)"
             ],
             [
              0.8156862745098039,
              "rgb(245,162,122)"
             ],
             [
              0.8784313725490196,
              "rgb(246,188,153)"
             ],
             [
              0.9411764705882353,
              "rgb(247,212,187)"
             ],
             [
              1,
              "rgb(250,234,220)"
             ]
            ],
            "type": "histogram2d"
           }
          ],
          "histogram2dcontour": [
           {
            "colorbar": {
             "outlinewidth": 0,
             "tickcolor": "rgb(36,36,36)",
             "ticklen": 8,
             "ticks": "outside",
             "tickwidth": 2
            },
            "colorscale": [
             [
              0,
              "rgb(2,4,25)"
             ],
             [
              0.06274509803921569,
              "rgb(24,15,41)"
             ],
             [
              0.12549019607843137,
              "rgb(47,23,57)"
             ],
             [
              0.18823529411764706,
              "rgb(71,28,72)"
             ],
             [
              0.25098039215686274,
              "rgb(97,30,82)"
             ],
             [
              0.3137254901960784,
              "rgb(123,30,89)"
             ],
             [
              0.3764705882352941,
              "rgb(150,27,91)"
             ],
             [
              0.4392156862745098,
              "rgb(177,22,88)"
             ],
             [
              0.5019607843137255,
              "rgb(203,26,79)"
             ],
             [
              0.5647058823529412,
              "rgb(223,47,67)"
             ],
             [
              0.6274509803921569,
              "rgb(236,76,61)"
             ],
             [
              0.6901960784313725,
              "rgb(242,107,73)"
             ],
             [
              0.7529411764705882,
              "rgb(244,135,95)"
             ],
             [
              0.8156862745098039,
              "rgb(245,162,122)"
             ],
             [
              0.8784313725490196,
              "rgb(246,188,153)"
             ],
             [
              0.9411764705882353,
              "rgb(247,212,187)"
             ],
             [
              1,
              "rgb(250,234,220)"
             ]
            ],
            "type": "histogram2dcontour"
           }
          ],
          "mesh3d": [
           {
            "colorbar": {
             "outlinewidth": 0,
             "tickcolor": "rgb(36,36,36)",
             "ticklen": 8,
             "ticks": "outside",
             "tickwidth": 2
            },
            "type": "mesh3d"
           }
          ],
          "parcoords": [
           {
            "line": {
             "colorbar": {
              "outlinewidth": 0,
              "tickcolor": "rgb(36,36,36)",
              "ticklen": 8,
              "ticks": "outside",
              "tickwidth": 2
             }
            },
            "type": "parcoords"
           }
          ],
          "pie": [
           {
            "automargin": true,
            "type": "pie"
           }
          ],
          "scatter": [
           {
            "fillpattern": {
             "fillmode": "overlay",
             "size": 10,
             "solidity": 0.2
            },
            "type": "scatter"
           }
          ],
          "scatter3d": [
           {
            "line": {
             "colorbar": {
              "outlinewidth": 0,
              "tickcolor": "rgb(36,36,36)",
              "ticklen": 8,
              "ticks": "outside",
              "tickwidth": 2
             }
            },
            "marker": {
             "colorbar": {
              "outlinewidth": 0,
              "tickcolor": "rgb(36,36,36)",
              "ticklen": 8,
              "ticks": "outside",
              "tickwidth": 2
             }
            },
            "type": "scatter3d"
           }
          ],
          "scattercarpet": [
           {
            "marker": {
             "colorbar": {
              "outlinewidth": 0,
              "tickcolor": "rgb(36,36,36)",
              "ticklen": 8,
              "ticks": "outside",
              "tickwidth": 2
             }
            },
            "type": "scattercarpet"
           }
          ],
          "scattergeo": [
           {
            "marker": {
             "colorbar": {
              "outlinewidth": 0,
              "tickcolor": "rgb(36,36,36)",
              "ticklen": 8,
              "ticks": "outside",
              "tickwidth": 2
             }
            },
            "type": "scattergeo"
           }
          ],
          "scattergl": [
           {
            "marker": {
             "colorbar": {
              "outlinewidth": 0,
              "tickcolor": "rgb(36,36,36)",
              "ticklen": 8,
              "ticks": "outside",
              "tickwidth": 2
             }
            },
            "type": "scattergl"
           }
          ],
          "scattermapbox": [
           {
            "marker": {
             "colorbar": {
              "outlinewidth": 0,
              "tickcolor": "rgb(36,36,36)",
              "ticklen": 8,
              "ticks": "outside",
              "tickwidth": 2
             }
            },
            "type": "scattermapbox"
           }
          ],
          "scatterpolar": [
           {
            "marker": {
             "colorbar": {
              "outlinewidth": 0,
              "tickcolor": "rgb(36,36,36)",
              "ticklen": 8,
              "ticks": "outside",
              "tickwidth": 2
             }
            },
            "type": "scatterpolar"
           }
          ],
          "scatterpolargl": [
           {
            "marker": {
             "colorbar": {
              "outlinewidth": 0,
              "tickcolor": "rgb(36,36,36)",
              "ticklen": 8,
              "ticks": "outside",
              "tickwidth": 2
             }
            },
            "type": "scatterpolargl"
           }
          ],
          "scatterternary": [
           {
            "marker": {
             "colorbar": {
              "outlinewidth": 0,
              "tickcolor": "rgb(36,36,36)",
              "ticklen": 8,
              "ticks": "outside",
              "tickwidth": 2
             }
            },
            "type": "scatterternary"
           }
          ],
          "surface": [
           {
            "colorbar": {
             "outlinewidth": 0,
             "tickcolor": "rgb(36,36,36)",
             "ticklen": 8,
             "ticks": "outside",
             "tickwidth": 2
            },
            "colorscale": [
             [
              0,
              "rgb(2,4,25)"
             ],
             [
              0.06274509803921569,
              "rgb(24,15,41)"
             ],
             [
              0.12549019607843137,
              "rgb(47,23,57)"
             ],
             [
              0.18823529411764706,
              "rgb(71,28,72)"
             ],
             [
              0.25098039215686274,
              "rgb(97,30,82)"
             ],
             [
              0.3137254901960784,
              "rgb(123,30,89)"
             ],
             [
              0.3764705882352941,
              "rgb(150,27,91)"
             ],
             [
              0.4392156862745098,
              "rgb(177,22,88)"
             ],
             [
              0.5019607843137255,
              "rgb(203,26,79)"
             ],
             [
              0.5647058823529412,
              "rgb(223,47,67)"
             ],
             [
              0.6274509803921569,
              "rgb(236,76,61)"
             ],
             [
              0.6901960784313725,
              "rgb(242,107,73)"
             ],
             [
              0.7529411764705882,
              "rgb(244,135,95)"
             ],
             [
              0.8156862745098039,
              "rgb(245,162,122)"
             ],
             [
              0.8784313725490196,
              "rgb(246,188,153)"
             ],
             [
              0.9411764705882353,
              "rgb(247,212,187)"
             ],
             [
              1,
              "rgb(250,234,220)"
             ]
            ],
            "type": "surface"
           }
          ],
          "table": [
           {
            "cells": {
             "fill": {
              "color": "rgb(231,231,240)"
             },
             "line": {
              "color": "white"
             }
            },
            "header": {
             "fill": {
              "color": "rgb(183,183,191)"
             },
             "line": {
              "color": "white"
             }
            },
            "type": "table"
           }
          ]
         },
         "layout": {
          "annotationdefaults": {
           "arrowcolor": "rgb(67,103,167)"
          },
          "autotypenumbers": "strict",
          "coloraxis": {
           "colorbar": {
            "outlinewidth": 0,
            "tickcolor": "rgb(36,36,36)",
            "ticklen": 8,
            "ticks": "outside",
            "tickwidth": 2
           }
          },
          "colorscale": {
           "sequential": [
            [
             0,
             "rgb(2,4,25)"
            ],
            [
             0.06274509803921569,
             "rgb(24,15,41)"
            ],
            [
             0.12549019607843137,
             "rgb(47,23,57)"
            ],
            [
             0.18823529411764706,
             "rgb(71,28,72)"
            ],
            [
             0.25098039215686274,
             "rgb(97,30,82)"
            ],
            [
             0.3137254901960784,
             "rgb(123,30,89)"
            ],
            [
             0.3764705882352941,
             "rgb(150,27,91)"
            ],
            [
             0.4392156862745098,
             "rgb(177,22,88)"
            ],
            [
             0.5019607843137255,
             "rgb(203,26,79)"
            ],
            [
             0.5647058823529412,
             "rgb(223,47,67)"
            ],
            [
             0.6274509803921569,
             "rgb(236,76,61)"
            ],
            [
             0.6901960784313725,
             "rgb(242,107,73)"
            ],
            [
             0.7529411764705882,
             "rgb(244,135,95)"
            ],
            [
             0.8156862745098039,
             "rgb(245,162,122)"
            ],
            [
             0.8784313725490196,
             "rgb(246,188,153)"
            ],
            [
             0.9411764705882353,
             "rgb(247,212,187)"
            ],
            [
             1,
             "rgb(250,234,220)"
            ]
           ],
           "sequentialminus": [
            [
             0,
             "rgb(2,4,25)"
            ],
            [
             0.06274509803921569,
             "rgb(24,15,41)"
            ],
            [
             0.12549019607843137,
             "rgb(47,23,57)"
            ],
            [
             0.18823529411764706,
             "rgb(71,28,72)"
            ],
            [
             0.25098039215686274,
             "rgb(97,30,82)"
            ],
            [
             0.3137254901960784,
             "rgb(123,30,89)"
            ],
            [
             0.3764705882352941,
             "rgb(150,27,91)"
            ],
            [
             0.4392156862745098,
             "rgb(177,22,88)"
            ],
            [
             0.5019607843137255,
             "rgb(203,26,79)"
            ],
            [
             0.5647058823529412,
             "rgb(223,47,67)"
            ],
            [
             0.6274509803921569,
             "rgb(236,76,61)"
            ],
            [
             0.6901960784313725,
             "rgb(242,107,73)"
            ],
            [
             0.7529411764705882,
             "rgb(244,135,95)"
            ],
            [
             0.8156862745098039,
             "rgb(245,162,122)"
            ],
            [
             0.8784313725490196,
             "rgb(246,188,153)"
            ],
            [
             0.9411764705882353,
             "rgb(247,212,187)"
            ],
            [
             1,
             "rgb(250,234,220)"
            ]
           ]
          },
          "colorway": [
           "rgb(76,114,176)",
           "rgb(221,132,82)",
           "rgb(85,168,104)",
           "rgb(196,78,82)",
           "rgb(129,114,179)",
           "rgb(147,120,96)",
           "rgb(218,139,195)",
           "rgb(140,140,140)",
           "rgb(204,185,116)",
           "rgb(100,181,205)"
          ],
          "font": {
           "color": "rgb(36,36,36)"
          },
          "geo": {
           "bgcolor": "white",
           "lakecolor": "white",
           "landcolor": "rgb(234,234,242)",
           "showlakes": true,
           "showland": true,
           "subunitcolor": "white"
          },
          "hoverlabel": {
           "align": "left"
          },
          "hovermode": "closest",
          "paper_bgcolor": "white",
          "plot_bgcolor": "rgb(234,234,242)",
          "polar": {
           "angularaxis": {
            "gridcolor": "white",
            "linecolor": "white",
            "showgrid": true,
            "ticks": ""
           },
           "bgcolor": "rgb(234,234,242)",
           "radialaxis": {
            "gridcolor": "white",
            "linecolor": "white",
            "showgrid": true,
            "ticks": ""
           }
          },
          "scene": {
           "xaxis": {
            "backgroundcolor": "rgb(234,234,242)",
            "gridcolor": "white",
            "gridwidth": 2,
            "linecolor": "white",
            "showbackground": true,
            "showgrid": true,
            "ticks": "",
            "zerolinecolor": "white"
           },
           "yaxis": {
            "backgroundcolor": "rgb(234,234,242)",
            "gridcolor": "white",
            "gridwidth": 2,
            "linecolor": "white",
            "showbackground": true,
            "showgrid": true,
            "ticks": "",
            "zerolinecolor": "white"
           },
           "zaxis": {
            "backgroundcolor": "rgb(234,234,242)",
            "gridcolor": "white",
            "gridwidth": 2,
            "linecolor": "white",
            "showbackground": true,
            "showgrid": true,
            "ticks": "",
            "zerolinecolor": "white"
           }
          },
          "shapedefaults": {
           "fillcolor": "rgb(67,103,167)",
           "line": {
            "width": 0
           },
           "opacity": 0.5
          },
          "ternary": {
           "aaxis": {
            "gridcolor": "white",
            "linecolor": "white",
            "showgrid": true,
            "ticks": ""
           },
           "baxis": {
            "gridcolor": "white",
            "linecolor": "white",
            "showgrid": true,
            "ticks": ""
           },
           "bgcolor": "rgb(234,234,242)",
           "caxis": {
            "gridcolor": "white",
            "linecolor": "white",
            "showgrid": true,
            "ticks": ""
           }
          },
          "xaxis": {
           "automargin": true,
           "gridcolor": "white",
           "linecolor": "white",
           "showgrid": true,
           "ticks": "",
           "title": {
            "standoff": 15
           },
           "zerolinecolor": "white"
          },
          "yaxis": {
           "automargin": true,
           "gridcolor": "white",
           "linecolor": "white",
           "showgrid": true,
           "ticks": "",
           "title": {
            "standoff": 15
           },
           "zerolinecolor": "white"
          }
         }
        },
        "width": 800,
        "xaxis": {
         "anchor": "y",
         "domain": [
          0,
          1
         ],
         "title": {
          "text": "Mean_Squared_Error"
         }
        },
        "yaxis": {
         "anchor": "x",
         "domain": [
          0,
          1
         ],
         "title": {
          "text": "Models"
         }
        }
       }
      }
     },
     "metadata": {},
     "output_type": "display_data"
    }
   ],
   "source": [
    "fig = px.bar(\n",
    "    x=results.iloc[:9, 0].values,\n",
    "    y=models,\n",
    "    orientation='h',\n",
    "    color=results['Mean_Squared_Error'].iloc[:9],\n",
    "    color_continuous_scale='rdpu_r',  \n",
    "    template=\"seaborn\"\n",
    ")\n",
    "\n",
    "fig.update_layout(width=800, height=600,\n",
    "                 xaxis=dict(title='Mean_Squared_Error'),\n",
    "                 yaxis=dict(title=\"Models\"))\n",
    "\n",
    "fig.show()"
   ]
  },
  {
   "cell_type": "markdown",
   "metadata": {},
   "source": [
    "R2"
   ]
  },
  {
   "cell_type": "code",
   "execution_count": 32,
   "metadata": {},
   "outputs": [
    {
     "data": {
      "application/vnd.plotly.v1+json": {
       "config": {
        "plotlyServerURL": "https://plot.ly"
       },
       "data": [
        {
         "alignmentgroup": "True",
         "hovertemplate": "x=%{x}<br>y=%{y}<br>color=%{marker.color}<extra></extra>",
         "legendgroup": "",
         "marker": {
          "color": [
           -0.32237208884431157,
           -0.2432964971853883,
           0.41345054292460875,
           0.5393193779931441,
           0.44071588527714783,
           0.5735439171238959,
           0.4601362144232615,
           0.5437909158063313,
           0.5189007645852944
          ],
          "coloraxis": "coloraxis",
          "pattern": {
           "shape": ""
          }
         },
         "name": "",
         "offsetgroup": "",
         "orientation": "h",
         "showlegend": false,
         "textposition": "auto",
         "type": "bar",
         "x": [
          104.63924500884322,
          98.14624463065236,
          46.49977615979706,
          36.397615329047674,
          44.313175892772016,
          33.808650811620225,
          42.78340946777334,
          36.13658935920952,
          38.062517041490906
         ],
         "xaxis": "x",
         "y": [
          "LinearRegression",
          "DecisionTree",
          "XGBoost",
          "LGBM",
          "AdaBoost",
          "Catboost",
          "RandomForest",
          "Ensemble",
          "GradientBoostings"
         ],
         "yaxis": "y"
        }
       ],
       "layout": {
        "barmode": "relative",
        "coloraxis": {
         "colorbar": {
          "title": {
           "text": "color"
          }
         },
         "colorscale": [
          [
           0,
           "rgb(255,247,243)"
          ],
          [
           0.125,
           "rgb(253,224,221)"
          ],
          [
           0.25,
           "rgb(252,197,192)"
          ],
          [
           0.375,
           "rgb(250,159,181)"
          ],
          [
           0.5,
           "rgb(247,104,161)"
          ],
          [
           0.625,
           "rgb(221,52,151)"
          ],
          [
           0.75,
           "rgb(174,1,126)"
          ],
          [
           0.875,
           "rgb(122,1,119)"
          ],
          [
           1,
           "rgb(73,0,106)"
          ]
         ]
        },
        "height": 600,
        "legend": {
         "tracegroupgap": 0
        },
        "margin": {
         "t": 60
        },
        "template": {
         "data": {
          "bar": [
           {
            "error_x": {
             "color": "rgb(36,36,36)"
            },
            "error_y": {
             "color": "rgb(36,36,36)"
            },
            "marker": {
             "line": {
              "color": "rgb(234,234,242)",
              "width": 0.5
             },
             "pattern": {
              "fillmode": "overlay",
              "size": 10,
              "solidity": 0.2
             }
            },
            "type": "bar"
           }
          ],
          "barpolar": [
           {
            "marker": {
             "line": {
              "color": "rgb(234,234,242)",
              "width": 0.5
             },
             "pattern": {
              "fillmode": "overlay",
              "size": 10,
              "solidity": 0.2
             }
            },
            "type": "barpolar"
           }
          ],
          "carpet": [
           {
            "aaxis": {
             "endlinecolor": "rgb(36,36,36)",
             "gridcolor": "white",
             "linecolor": "white",
             "minorgridcolor": "white",
             "startlinecolor": "rgb(36,36,36)"
            },
            "baxis": {
             "endlinecolor": "rgb(36,36,36)",
             "gridcolor": "white",
             "linecolor": "white",
             "minorgridcolor": "white",
             "startlinecolor": "rgb(36,36,36)"
            },
            "type": "carpet"
           }
          ],
          "choropleth": [
           {
            "colorbar": {
             "outlinewidth": 0,
             "tickcolor": "rgb(36,36,36)",
             "ticklen": 8,
             "ticks": "outside",
             "tickwidth": 2
            },
            "type": "choropleth"
           }
          ],
          "contour": [
           {
            "colorbar": {
             "outlinewidth": 0,
             "tickcolor": "rgb(36,36,36)",
             "ticklen": 8,
             "ticks": "outside",
             "tickwidth": 2
            },
            "colorscale": [
             [
              0,
              "rgb(2,4,25)"
             ],
             [
              0.06274509803921569,
              "rgb(24,15,41)"
             ],
             [
              0.12549019607843137,
              "rgb(47,23,57)"
             ],
             [
              0.18823529411764706,
              "rgb(71,28,72)"
             ],
             [
              0.25098039215686274,
              "rgb(97,30,82)"
             ],
             [
              0.3137254901960784,
              "rgb(123,30,89)"
             ],
             [
              0.3764705882352941,
              "rgb(150,27,91)"
             ],
             [
              0.4392156862745098,
              "rgb(177,22,88)"
             ],
             [
              0.5019607843137255,
              "rgb(203,26,79)"
             ],
             [
              0.5647058823529412,
              "rgb(223,47,67)"
             ],
             [
              0.6274509803921569,
              "rgb(236,76,61)"
             ],
             [
              0.6901960784313725,
              "rgb(242,107,73)"
             ],
             [
              0.7529411764705882,
              "rgb(244,135,95)"
             ],
             [
              0.8156862745098039,
              "rgb(245,162,122)"
             ],
             [
              0.8784313725490196,
              "rgb(246,188,153)"
             ],
             [
              0.9411764705882353,
              "rgb(247,212,187)"
             ],
             [
              1,
              "rgb(250,234,220)"
             ]
            ],
            "type": "contour"
           }
          ],
          "contourcarpet": [
           {
            "colorbar": {
             "outlinewidth": 0,
             "tickcolor": "rgb(36,36,36)",
             "ticklen": 8,
             "ticks": "outside",
             "tickwidth": 2
            },
            "type": "contourcarpet"
           }
          ],
          "heatmap": [
           {
            "colorbar": {
             "outlinewidth": 0,
             "tickcolor": "rgb(36,36,36)",
             "ticklen": 8,
             "ticks": "outside",
             "tickwidth": 2
            },
            "colorscale": [
             [
              0,
              "rgb(2,4,25)"
             ],
             [
              0.06274509803921569,
              "rgb(24,15,41)"
             ],
             [
              0.12549019607843137,
              "rgb(47,23,57)"
             ],
             [
              0.18823529411764706,
              "rgb(71,28,72)"
             ],
             [
              0.25098039215686274,
              "rgb(97,30,82)"
             ],
             [
              0.3137254901960784,
              "rgb(123,30,89)"
             ],
             [
              0.3764705882352941,
              "rgb(150,27,91)"
             ],
             [
              0.4392156862745098,
              "rgb(177,22,88)"
             ],
             [
              0.5019607843137255,
              "rgb(203,26,79)"
             ],
             [
              0.5647058823529412,
              "rgb(223,47,67)"
             ],
             [
              0.6274509803921569,
              "rgb(236,76,61)"
             ],
             [
              0.6901960784313725,
              "rgb(242,107,73)"
             ],
             [
              0.7529411764705882,
              "rgb(244,135,95)"
             ],
             [
              0.8156862745098039,
              "rgb(245,162,122)"
             ],
             [
              0.8784313725490196,
              "rgb(246,188,153)"
             ],
             [
              0.9411764705882353,
              "rgb(247,212,187)"
             ],
             [
              1,
              "rgb(250,234,220)"
             ]
            ],
            "type": "heatmap"
           }
          ],
          "heatmapgl": [
           {
            "colorbar": {
             "outlinewidth": 0,
             "tickcolor": "rgb(36,36,36)",
             "ticklen": 8,
             "ticks": "outside",
             "tickwidth": 2
            },
            "colorscale": [
             [
              0,
              "rgb(2,4,25)"
             ],
             [
              0.06274509803921569,
              "rgb(24,15,41)"
             ],
             [
              0.12549019607843137,
              "rgb(47,23,57)"
             ],
             [
              0.18823529411764706,
              "rgb(71,28,72)"
             ],
             [
              0.25098039215686274,
              "rgb(97,30,82)"
             ],
             [
              0.3137254901960784,
              "rgb(123,30,89)"
             ],
             [
              0.3764705882352941,
              "rgb(150,27,91)"
             ],
             [
              0.4392156862745098,
              "rgb(177,22,88)"
             ],
             [
              0.5019607843137255,
              "rgb(203,26,79)"
             ],
             [
              0.5647058823529412,
              "rgb(223,47,67)"
             ],
             [
              0.6274509803921569,
              "rgb(236,76,61)"
             ],
             [
              0.6901960784313725,
              "rgb(242,107,73)"
             ],
             [
              0.7529411764705882,
              "rgb(244,135,95)"
             ],
             [
              0.8156862745098039,
              "rgb(245,162,122)"
             ],
             [
              0.8784313725490196,
              "rgb(246,188,153)"
             ],
             [
              0.9411764705882353,
              "rgb(247,212,187)"
             ],
             [
              1,
              "rgb(250,234,220)"
             ]
            ],
            "type": "heatmapgl"
           }
          ],
          "histogram": [
           {
            "marker": {
             "pattern": {
              "fillmode": "overlay",
              "size": 10,
              "solidity": 0.2
             }
            },
            "type": "histogram"
           }
          ],
          "histogram2d": [
           {
            "colorbar": {
             "outlinewidth": 0,
             "tickcolor": "rgb(36,36,36)",
             "ticklen": 8,
             "ticks": "outside",
             "tickwidth": 2
            },
            "colorscale": [
             [
              0,
              "rgb(2,4,25)"
             ],
             [
              0.06274509803921569,
              "rgb(24,15,41)"
             ],
             [
              0.12549019607843137,
              "rgb(47,23,57)"
             ],
             [
              0.18823529411764706,
              "rgb(71,28,72)"
             ],
             [
              0.25098039215686274,
              "rgb(97,30,82)"
             ],
             [
              0.3137254901960784,
              "rgb(123,30,89)"
             ],
             [
              0.3764705882352941,
              "rgb(150,27,91)"
             ],
             [
              0.4392156862745098,
              "rgb(177,22,88)"
             ],
             [
              0.5019607843137255,
              "rgb(203,26,79)"
             ],
             [
              0.5647058823529412,
              "rgb(223,47,67)"
             ],
             [
              0.6274509803921569,
              "rgb(236,76,61)"
             ],
             [
              0.6901960784313725,
              "rgb(242,107,73)"
             ],
             [
              0.7529411764705882,
              "rgb(244,135,95)"
             ],
             [
              0.8156862745098039,
              "rgb(245,162,122)"
             ],
             [
              0.8784313725490196,
              "rgb(246,188,153)"
             ],
             [
              0.9411764705882353,
              "rgb(247,212,187)"
             ],
             [
              1,
              "rgb(250,234,220)"
             ]
            ],
            "type": "histogram2d"
           }
          ],
          "histogram2dcontour": [
           {
            "colorbar": {
             "outlinewidth": 0,
             "tickcolor": "rgb(36,36,36)",
             "ticklen": 8,
             "ticks": "outside",
             "tickwidth": 2
            },
            "colorscale": [
             [
              0,
              "rgb(2,4,25)"
             ],
             [
              0.06274509803921569,
              "rgb(24,15,41)"
             ],
             [
              0.12549019607843137,
              "rgb(47,23,57)"
             ],
             [
              0.18823529411764706,
              "rgb(71,28,72)"
             ],
             [
              0.25098039215686274,
              "rgb(97,30,82)"
             ],
             [
              0.3137254901960784,
              "rgb(123,30,89)"
             ],
             [
              0.3764705882352941,
              "rgb(150,27,91)"
             ],
             [
              0.4392156862745098,
              "rgb(177,22,88)"
             ],
             [
              0.5019607843137255,
              "rgb(203,26,79)"
             ],
             [
              0.5647058823529412,
              "rgb(223,47,67)"
             ],
             [
              0.6274509803921569,
              "rgb(236,76,61)"
             ],
             [
              0.6901960784313725,
              "rgb(242,107,73)"
             ],
             [
              0.7529411764705882,
              "rgb(244,135,95)"
             ],
             [
              0.8156862745098039,
              "rgb(245,162,122)"
             ],
             [
              0.8784313725490196,
              "rgb(246,188,153)"
             ],
             [
              0.9411764705882353,
              "rgb(247,212,187)"
             ],
             [
              1,
              "rgb(250,234,220)"
             ]
            ],
            "type": "histogram2dcontour"
           }
          ],
          "mesh3d": [
           {
            "colorbar": {
             "outlinewidth": 0,
             "tickcolor": "rgb(36,36,36)",
             "ticklen": 8,
             "ticks": "outside",
             "tickwidth": 2
            },
            "type": "mesh3d"
           }
          ],
          "parcoords": [
           {
            "line": {
             "colorbar": {
              "outlinewidth": 0,
              "tickcolor": "rgb(36,36,36)",
              "ticklen": 8,
              "ticks": "outside",
              "tickwidth": 2
             }
            },
            "type": "parcoords"
           }
          ],
          "pie": [
           {
            "automargin": true,
            "type": "pie"
           }
          ],
          "scatter": [
           {
            "fillpattern": {
             "fillmode": "overlay",
             "size": 10,
             "solidity": 0.2
            },
            "type": "scatter"
           }
          ],
          "scatter3d": [
           {
            "line": {
             "colorbar": {
              "outlinewidth": 0,
              "tickcolor": "rgb(36,36,36)",
              "ticklen": 8,
              "ticks": "outside",
              "tickwidth": 2
             }
            },
            "marker": {
             "colorbar": {
              "outlinewidth": 0,
              "tickcolor": "rgb(36,36,36)",
              "ticklen": 8,
              "ticks": "outside",
              "tickwidth": 2
             }
            },
            "type": "scatter3d"
           }
          ],
          "scattercarpet": [
           {
            "marker": {
             "colorbar": {
              "outlinewidth": 0,
              "tickcolor": "rgb(36,36,36)",
              "ticklen": 8,
              "ticks": "outside",
              "tickwidth": 2
             }
            },
            "type": "scattercarpet"
           }
          ],
          "scattergeo": [
           {
            "marker": {
             "colorbar": {
              "outlinewidth": 0,
              "tickcolor": "rgb(36,36,36)",
              "ticklen": 8,
              "ticks": "outside",
              "tickwidth": 2
             }
            },
            "type": "scattergeo"
           }
          ],
          "scattergl": [
           {
            "marker": {
             "colorbar": {
              "outlinewidth": 0,
              "tickcolor": "rgb(36,36,36)",
              "ticklen": 8,
              "ticks": "outside",
              "tickwidth": 2
             }
            },
            "type": "scattergl"
           }
          ],
          "scattermapbox": [
           {
            "marker": {
             "colorbar": {
              "outlinewidth": 0,
              "tickcolor": "rgb(36,36,36)",
              "ticklen": 8,
              "ticks": "outside",
              "tickwidth": 2
             }
            },
            "type": "scattermapbox"
           }
          ],
          "scatterpolar": [
           {
            "marker": {
             "colorbar": {
              "outlinewidth": 0,
              "tickcolor": "rgb(36,36,36)",
              "ticklen": 8,
              "ticks": "outside",
              "tickwidth": 2
             }
            },
            "type": "scatterpolar"
           }
          ],
          "scatterpolargl": [
           {
            "marker": {
             "colorbar": {
              "outlinewidth": 0,
              "tickcolor": "rgb(36,36,36)",
              "ticklen": 8,
              "ticks": "outside",
              "tickwidth": 2
             }
            },
            "type": "scatterpolargl"
           }
          ],
          "scatterternary": [
           {
            "marker": {
             "colorbar": {
              "outlinewidth": 0,
              "tickcolor": "rgb(36,36,36)",
              "ticklen": 8,
              "ticks": "outside",
              "tickwidth": 2
             }
            },
            "type": "scatterternary"
           }
          ],
          "surface": [
           {
            "colorbar": {
             "outlinewidth": 0,
             "tickcolor": "rgb(36,36,36)",
             "ticklen": 8,
             "ticks": "outside",
             "tickwidth": 2
            },
            "colorscale": [
             [
              0,
              "rgb(2,4,25)"
             ],
             [
              0.06274509803921569,
              "rgb(24,15,41)"
             ],
             [
              0.12549019607843137,
              "rgb(47,23,57)"
             ],
             [
              0.18823529411764706,
              "rgb(71,28,72)"
             ],
             [
              0.25098039215686274,
              "rgb(97,30,82)"
             ],
             [
              0.3137254901960784,
              "rgb(123,30,89)"
             ],
             [
              0.3764705882352941,
              "rgb(150,27,91)"
             ],
             [
              0.4392156862745098,
              "rgb(177,22,88)"
             ],
             [
              0.5019607843137255,
              "rgb(203,26,79)"
             ],
             [
              0.5647058823529412,
              "rgb(223,47,67)"
             ],
             [
              0.6274509803921569,
              "rgb(236,76,61)"
             ],
             [
              0.6901960784313725,
              "rgb(242,107,73)"
             ],
             [
              0.7529411764705882,
              "rgb(244,135,95)"
             ],
             [
              0.8156862745098039,
              "rgb(245,162,122)"
             ],
             [
              0.8784313725490196,
              "rgb(246,188,153)"
             ],
             [
              0.9411764705882353,
              "rgb(247,212,187)"
             ],
             [
              1,
              "rgb(250,234,220)"
             ]
            ],
            "type": "surface"
           }
          ],
          "table": [
           {
            "cells": {
             "fill": {
              "color": "rgb(231,231,240)"
             },
             "line": {
              "color": "white"
             }
            },
            "header": {
             "fill": {
              "color": "rgb(183,183,191)"
             },
             "line": {
              "color": "white"
             }
            },
            "type": "table"
           }
          ]
         },
         "layout": {
          "annotationdefaults": {
           "arrowcolor": "rgb(67,103,167)"
          },
          "autotypenumbers": "strict",
          "coloraxis": {
           "colorbar": {
            "outlinewidth": 0,
            "tickcolor": "rgb(36,36,36)",
            "ticklen": 8,
            "ticks": "outside",
            "tickwidth": 2
           }
          },
          "colorscale": {
           "sequential": [
            [
             0,
             "rgb(2,4,25)"
            ],
            [
             0.06274509803921569,
             "rgb(24,15,41)"
            ],
            [
             0.12549019607843137,
             "rgb(47,23,57)"
            ],
            [
             0.18823529411764706,
             "rgb(71,28,72)"
            ],
            [
             0.25098039215686274,
             "rgb(97,30,82)"
            ],
            [
             0.3137254901960784,
             "rgb(123,30,89)"
            ],
            [
             0.3764705882352941,
             "rgb(150,27,91)"
            ],
            [
             0.4392156862745098,
             "rgb(177,22,88)"
            ],
            [
             0.5019607843137255,
             "rgb(203,26,79)"
            ],
            [
             0.5647058823529412,
             "rgb(223,47,67)"
            ],
            [
             0.6274509803921569,
             "rgb(236,76,61)"
            ],
            [
             0.6901960784313725,
             "rgb(242,107,73)"
            ],
            [
             0.7529411764705882,
             "rgb(244,135,95)"
            ],
            [
             0.8156862745098039,
             "rgb(245,162,122)"
            ],
            [
             0.8784313725490196,
             "rgb(246,188,153)"
            ],
            [
             0.9411764705882353,
             "rgb(247,212,187)"
            ],
            [
             1,
             "rgb(250,234,220)"
            ]
           ],
           "sequentialminus": [
            [
             0,
             "rgb(2,4,25)"
            ],
            [
             0.06274509803921569,
             "rgb(24,15,41)"
            ],
            [
             0.12549019607843137,
             "rgb(47,23,57)"
            ],
            [
             0.18823529411764706,
             "rgb(71,28,72)"
            ],
            [
             0.25098039215686274,
             "rgb(97,30,82)"
            ],
            [
             0.3137254901960784,
             "rgb(123,30,89)"
            ],
            [
             0.3764705882352941,
             "rgb(150,27,91)"
            ],
            [
             0.4392156862745098,
             "rgb(177,22,88)"
            ],
            [
             0.5019607843137255,
             "rgb(203,26,79)"
            ],
            [
             0.5647058823529412,
             "rgb(223,47,67)"
            ],
            [
             0.6274509803921569,
             "rgb(236,76,61)"
            ],
            [
             0.6901960784313725,
             "rgb(242,107,73)"
            ],
            [
             0.7529411764705882,
             "rgb(244,135,95)"
            ],
            [
             0.8156862745098039,
             "rgb(245,162,122)"
            ],
            [
             0.8784313725490196,
             "rgb(246,188,153)"
            ],
            [
             0.9411764705882353,
             "rgb(247,212,187)"
            ],
            [
             1,
             "rgb(250,234,220)"
            ]
           ]
          },
          "colorway": [
           "rgb(76,114,176)",
           "rgb(221,132,82)",
           "rgb(85,168,104)",
           "rgb(196,78,82)",
           "rgb(129,114,179)",
           "rgb(147,120,96)",
           "rgb(218,139,195)",
           "rgb(140,140,140)",
           "rgb(204,185,116)",
           "rgb(100,181,205)"
          ],
          "font": {
           "color": "rgb(36,36,36)"
          },
          "geo": {
           "bgcolor": "white",
           "lakecolor": "white",
           "landcolor": "rgb(234,234,242)",
           "showlakes": true,
           "showland": true,
           "subunitcolor": "white"
          },
          "hoverlabel": {
           "align": "left"
          },
          "hovermode": "closest",
          "paper_bgcolor": "white",
          "plot_bgcolor": "rgb(234,234,242)",
          "polar": {
           "angularaxis": {
            "gridcolor": "white",
            "linecolor": "white",
            "showgrid": true,
            "ticks": ""
           },
           "bgcolor": "rgb(234,234,242)",
           "radialaxis": {
            "gridcolor": "white",
            "linecolor": "white",
            "showgrid": true,
            "ticks": ""
           }
          },
          "scene": {
           "xaxis": {
            "backgroundcolor": "rgb(234,234,242)",
            "gridcolor": "white",
            "gridwidth": 2,
            "linecolor": "white",
            "showbackground": true,
            "showgrid": true,
            "ticks": "",
            "zerolinecolor": "white"
           },
           "yaxis": {
            "backgroundcolor": "rgb(234,234,242)",
            "gridcolor": "white",
            "gridwidth": 2,
            "linecolor": "white",
            "showbackground": true,
            "showgrid": true,
            "ticks": "",
            "zerolinecolor": "white"
           },
           "zaxis": {
            "backgroundcolor": "rgb(234,234,242)",
            "gridcolor": "white",
            "gridwidth": 2,
            "linecolor": "white",
            "showbackground": true,
            "showgrid": true,
            "ticks": "",
            "zerolinecolor": "white"
           }
          },
          "shapedefaults": {
           "fillcolor": "rgb(67,103,167)",
           "line": {
            "width": 0
           },
           "opacity": 0.5
          },
          "ternary": {
           "aaxis": {
            "gridcolor": "white",
            "linecolor": "white",
            "showgrid": true,
            "ticks": ""
           },
           "baxis": {
            "gridcolor": "white",
            "linecolor": "white",
            "showgrid": true,
            "ticks": ""
           },
           "bgcolor": "rgb(234,234,242)",
           "caxis": {
            "gridcolor": "white",
            "linecolor": "white",
            "showgrid": true,
            "ticks": ""
           }
          },
          "xaxis": {
           "automargin": true,
           "gridcolor": "white",
           "linecolor": "white",
           "showgrid": true,
           "ticks": "",
           "title": {
            "standoff": 15
           },
           "zerolinecolor": "white"
          },
          "yaxis": {
           "automargin": true,
           "gridcolor": "white",
           "linecolor": "white",
           "showgrid": true,
           "ticks": "",
           "title": {
            "standoff": 15
           },
           "zerolinecolor": "white"
          }
         }
        },
        "width": 800,
        "xaxis": {
         "anchor": "y",
         "domain": [
          0,
          1
         ],
         "title": {
          "text": "R_squared"
         }
        },
        "yaxis": {
         "anchor": "x",
         "domain": [
          0,
          1
         ],
         "title": {
          "text": "Models"
         }
        }
       }
      }
     },
     "metadata": {},
     "output_type": "display_data"
    }
   ],
   "source": [
    "\n",
    "fig = px.bar(\n",
    "    x=results.iloc[:9, 2].values,\n",
    "    y=models,\n",
    "    orientation='h',\n",
    "    color=results['R_squared'].iloc[:9],\n",
    "    color_continuous_scale='rdpu',  \n",
    "    template=\"seaborn\"\n",
    ")\n",
    "\n",
    "fig.update_layout(width=800, height=600,\n",
    "                 xaxis=dict(title='R_squared'),\n",
    "                 yaxis=dict(title=\"Models\"))\n",
    "\n",
    "fig.show()"
   ]
  },
  {
   "cell_type": "markdown",
   "metadata": {},
   "source": [
    "RMSE"
   ]
  },
  {
   "cell_type": "code",
   "execution_count": 33,
   "metadata": {},
   "outputs": [
    {
     "data": {
      "application/vnd.plotly.v1+json": {
       "config": {
        "plotlyServerURL": "https://plot.ly"
       },
       "data": [
        {
         "alignmentgroup": "True",
         "hovertemplate": "x=%{x}<br>y=%{y}<br>color=%{marker.color}<extra></extra>",
         "legendgroup": "",
         "marker": {
          "color": [
           10.218517326704836,
           9.898450960506315,
           6.796470750306335,
           6.030651434828884,
           6.643507628620114,
           5.799564956374836,
           6.527087664564914,
           5.99932220150577,
           6.162123803823075
          ],
          "coloraxis": "coloraxis",
          "pattern": {
           "shape": ""
          }
         },
         "name": "",
         "offsetgroup": "",
         "orientation": "h",
         "showlegend": false,
         "textposition": "auto",
         "type": "bar",
         "x": [
          104.63924500884322,
          98.14624463065236,
          46.49977615979706,
          36.397615329047674,
          44.313175892772016,
          33.808650811620225,
          42.78340946777334,
          36.13658935920952,
          38.062517041490906
         ],
         "xaxis": "x",
         "y": [
          "LinearRegression",
          "DecisionTree",
          "XGBoost",
          "LGBM",
          "AdaBoost",
          "Catboost",
          "RandomForest",
          "Ensemble",
          "GradientBoostings"
         ],
         "yaxis": "y"
        }
       ],
       "layout": {
        "barmode": "relative",
        "coloraxis": {
         "colorbar": {
          "title": {
           "text": "color"
          }
         },
         "colorscale": [
          [
           0,
           "rgb(255,247,243)"
          ],
          [
           0.125,
           "rgb(253,224,221)"
          ],
          [
           0.25,
           "rgb(252,197,192)"
          ],
          [
           0.375,
           "rgb(250,159,181)"
          ],
          [
           0.5,
           "rgb(247,104,161)"
          ],
          [
           0.625,
           "rgb(221,52,151)"
          ],
          [
           0.75,
           "rgb(174,1,126)"
          ],
          [
           0.875,
           "rgb(122,1,119)"
          ],
          [
           1,
           "rgb(73,0,106)"
          ]
         ]
        },
        "height": 600,
        "legend": {
         "tracegroupgap": 0
        },
        "margin": {
         "t": 60
        },
        "template": {
         "data": {
          "bar": [
           {
            "error_x": {
             "color": "rgb(36,36,36)"
            },
            "error_y": {
             "color": "rgb(36,36,36)"
            },
            "marker": {
             "line": {
              "color": "rgb(234,234,242)",
              "width": 0.5
             },
             "pattern": {
              "fillmode": "overlay",
              "size": 10,
              "solidity": 0.2
             }
            },
            "type": "bar"
           }
          ],
          "barpolar": [
           {
            "marker": {
             "line": {
              "color": "rgb(234,234,242)",
              "width": 0.5
             },
             "pattern": {
              "fillmode": "overlay",
              "size": 10,
              "solidity": 0.2
             }
            },
            "type": "barpolar"
           }
          ],
          "carpet": [
           {
            "aaxis": {
             "endlinecolor": "rgb(36,36,36)",
             "gridcolor": "white",
             "linecolor": "white",
             "minorgridcolor": "white",
             "startlinecolor": "rgb(36,36,36)"
            },
            "baxis": {
             "endlinecolor": "rgb(36,36,36)",
             "gridcolor": "white",
             "linecolor": "white",
             "minorgridcolor": "white",
             "startlinecolor": "rgb(36,36,36)"
            },
            "type": "carpet"
           }
          ],
          "choropleth": [
           {
            "colorbar": {
             "outlinewidth": 0,
             "tickcolor": "rgb(36,36,36)",
             "ticklen": 8,
             "ticks": "outside",
             "tickwidth": 2
            },
            "type": "choropleth"
           }
          ],
          "contour": [
           {
            "colorbar": {
             "outlinewidth": 0,
             "tickcolor": "rgb(36,36,36)",
             "ticklen": 8,
             "ticks": "outside",
             "tickwidth": 2
            },
            "colorscale": [
             [
              0,
              "rgb(2,4,25)"
             ],
             [
              0.06274509803921569,
              "rgb(24,15,41)"
             ],
             [
              0.12549019607843137,
              "rgb(47,23,57)"
             ],
             [
              0.18823529411764706,
              "rgb(71,28,72)"
             ],
             [
              0.25098039215686274,
              "rgb(97,30,82)"
             ],
             [
              0.3137254901960784,
              "rgb(123,30,89)"
             ],
             [
              0.3764705882352941,
              "rgb(150,27,91)"
             ],
             [
              0.4392156862745098,
              "rgb(177,22,88)"
             ],
             [
              0.5019607843137255,
              "rgb(203,26,79)"
             ],
             [
              0.5647058823529412,
              "rgb(223,47,67)"
             ],
             [
              0.6274509803921569,
              "rgb(236,76,61)"
             ],
             [
              0.6901960784313725,
              "rgb(242,107,73)"
             ],
             [
              0.7529411764705882,
              "rgb(244,135,95)"
             ],
             [
              0.8156862745098039,
              "rgb(245,162,122)"
             ],
             [
              0.8784313725490196,
              "rgb(246,188,153)"
             ],
             [
              0.9411764705882353,
              "rgb(247,212,187)"
             ],
             [
              1,
              "rgb(250,234,220)"
             ]
            ],
            "type": "contour"
           }
          ],
          "contourcarpet": [
           {
            "colorbar": {
             "outlinewidth": 0,
             "tickcolor": "rgb(36,36,36)",
             "ticklen": 8,
             "ticks": "outside",
             "tickwidth": 2
            },
            "type": "contourcarpet"
           }
          ],
          "heatmap": [
           {
            "colorbar": {
             "outlinewidth": 0,
             "tickcolor": "rgb(36,36,36)",
             "ticklen": 8,
             "ticks": "outside",
             "tickwidth": 2
            },
            "colorscale": [
             [
              0,
              "rgb(2,4,25)"
             ],
             [
              0.06274509803921569,
              "rgb(24,15,41)"
             ],
             [
              0.12549019607843137,
              "rgb(47,23,57)"
             ],
             [
              0.18823529411764706,
              "rgb(71,28,72)"
             ],
             [
              0.25098039215686274,
              "rgb(97,30,82)"
             ],
             [
              0.3137254901960784,
              "rgb(123,30,89)"
             ],
             [
              0.3764705882352941,
              "rgb(150,27,91)"
             ],
             [
              0.4392156862745098,
              "rgb(177,22,88)"
             ],
             [
              0.5019607843137255,
              "rgb(203,26,79)"
             ],
             [
              0.5647058823529412,
              "rgb(223,47,67)"
             ],
             [
              0.6274509803921569,
              "rgb(236,76,61)"
             ],
             [
              0.6901960784313725,
              "rgb(242,107,73)"
             ],
             [
              0.7529411764705882,
              "rgb(244,135,95)"
             ],
             [
              0.8156862745098039,
              "rgb(245,162,122)"
             ],
             [
              0.8784313725490196,
              "rgb(246,188,153)"
             ],
             [
              0.9411764705882353,
              "rgb(247,212,187)"
             ],
             [
              1,
              "rgb(250,234,220)"
             ]
            ],
            "type": "heatmap"
           }
          ],
          "heatmapgl": [
           {
            "colorbar": {
             "outlinewidth": 0,
             "tickcolor": "rgb(36,36,36)",
             "ticklen": 8,
             "ticks": "outside",
             "tickwidth": 2
            },
            "colorscale": [
             [
              0,
              "rgb(2,4,25)"
             ],
             [
              0.06274509803921569,
              "rgb(24,15,41)"
             ],
             [
              0.12549019607843137,
              "rgb(47,23,57)"
             ],
             [
              0.18823529411764706,
              "rgb(71,28,72)"
             ],
             [
              0.25098039215686274,
              "rgb(97,30,82)"
             ],
             [
              0.3137254901960784,
              "rgb(123,30,89)"
             ],
             [
              0.3764705882352941,
              "rgb(150,27,91)"
             ],
             [
              0.4392156862745098,
              "rgb(177,22,88)"
             ],
             [
              0.5019607843137255,
              "rgb(203,26,79)"
             ],
             [
              0.5647058823529412,
              "rgb(223,47,67)"
             ],
             [
              0.6274509803921569,
              "rgb(236,76,61)"
             ],
             [
              0.6901960784313725,
              "rgb(242,107,73)"
             ],
             [
              0.7529411764705882,
              "rgb(244,135,95)"
             ],
             [
              0.8156862745098039,
              "rgb(245,162,122)"
             ],
             [
              0.8784313725490196,
              "rgb(246,188,153)"
             ],
             [
              0.9411764705882353,
              "rgb(247,212,187)"
             ],
             [
              1,
              "rgb(250,234,220)"
             ]
            ],
            "type": "heatmapgl"
           }
          ],
          "histogram": [
           {
            "marker": {
             "pattern": {
              "fillmode": "overlay",
              "size": 10,
              "solidity": 0.2
             }
            },
            "type": "histogram"
           }
          ],
          "histogram2d": [
           {
            "colorbar": {
             "outlinewidth": 0,
             "tickcolor": "rgb(36,36,36)",
             "ticklen": 8,
             "ticks": "outside",
             "tickwidth": 2
            },
            "colorscale": [
             [
              0,
              "rgb(2,4,25)"
             ],
             [
              0.06274509803921569,
              "rgb(24,15,41)"
             ],
             [
              0.12549019607843137,
              "rgb(47,23,57)"
             ],
             [
              0.18823529411764706,
              "rgb(71,28,72)"
             ],
             [
              0.25098039215686274,
              "rgb(97,30,82)"
             ],
             [
              0.3137254901960784,
              "rgb(123,30,89)"
             ],
             [
              0.3764705882352941,
              "rgb(150,27,91)"
             ],
             [
              0.4392156862745098,
              "rgb(177,22,88)"
             ],
             [
              0.5019607843137255,
              "rgb(203,26,79)"
             ],
             [
              0.5647058823529412,
              "rgb(223,47,67)"
             ],
             [
              0.6274509803921569,
              "rgb(236,76,61)"
             ],
             [
              0.6901960784313725,
              "rgb(242,107,73)"
             ],
             [
              0.7529411764705882,
              "rgb(244,135,95)"
             ],
             [
              0.8156862745098039,
              "rgb(245,162,122)"
             ],
             [
              0.8784313725490196,
              "rgb(246,188,153)"
             ],
             [
              0.9411764705882353,
              "rgb(247,212,187)"
             ],
             [
              1,
              "rgb(250,234,220)"
             ]
            ],
            "type": "histogram2d"
           }
          ],
          "histogram2dcontour": [
           {
            "colorbar": {
             "outlinewidth": 0,
             "tickcolor": "rgb(36,36,36)",
             "ticklen": 8,
             "ticks": "outside",
             "tickwidth": 2
            },
            "colorscale": [
             [
              0,
              "rgb(2,4,25)"
             ],
             [
              0.06274509803921569,
              "rgb(24,15,41)"
             ],
             [
              0.12549019607843137,
              "rgb(47,23,57)"
             ],
             [
              0.18823529411764706,
              "rgb(71,28,72)"
             ],
             [
              0.25098039215686274,
              "rgb(97,30,82)"
             ],
             [
              0.3137254901960784,
              "rgb(123,30,89)"
             ],
             [
              0.3764705882352941,
              "rgb(150,27,91)"
             ],
             [
              0.4392156862745098,
              "rgb(177,22,88)"
             ],
             [
              0.5019607843137255,
              "rgb(203,26,79)"
             ],
             [
              0.5647058823529412,
              "rgb(223,47,67)"
             ],
             [
              0.6274509803921569,
              "rgb(236,76,61)"
             ],
             [
              0.6901960784313725,
              "rgb(242,107,73)"
             ],
             [
              0.7529411764705882,
              "rgb(244,135,95)"
             ],
             [
              0.8156862745098039,
              "rgb(245,162,122)"
             ],
             [
              0.8784313725490196,
              "rgb(246,188,153)"
             ],
             [
              0.9411764705882353,
              "rgb(247,212,187)"
             ],
             [
              1,
              "rgb(250,234,220)"
             ]
            ],
            "type": "histogram2dcontour"
           }
          ],
          "mesh3d": [
           {
            "colorbar": {
             "outlinewidth": 0,
             "tickcolor": "rgb(36,36,36)",
             "ticklen": 8,
             "ticks": "outside",
             "tickwidth": 2
            },
            "type": "mesh3d"
           }
          ],
          "parcoords": [
           {
            "line": {
             "colorbar": {
              "outlinewidth": 0,
              "tickcolor": "rgb(36,36,36)",
              "ticklen": 8,
              "ticks": "outside",
              "tickwidth": 2
             }
            },
            "type": "parcoords"
           }
          ],
          "pie": [
           {
            "automargin": true,
            "type": "pie"
           }
          ],
          "scatter": [
           {
            "fillpattern": {
             "fillmode": "overlay",
             "size": 10,
             "solidity": 0.2
            },
            "type": "scatter"
           }
          ],
          "scatter3d": [
           {
            "line": {
             "colorbar": {
              "outlinewidth": 0,
              "tickcolor": "rgb(36,36,36)",
              "ticklen": 8,
              "ticks": "outside",
              "tickwidth": 2
             }
            },
            "marker": {
             "colorbar": {
              "outlinewidth": 0,
              "tickcolor": "rgb(36,36,36)",
              "ticklen": 8,
              "ticks": "outside",
              "tickwidth": 2
             }
            },
            "type": "scatter3d"
           }
          ],
          "scattercarpet": [
           {
            "marker": {
             "colorbar": {
              "outlinewidth": 0,
              "tickcolor": "rgb(36,36,36)",
              "ticklen": 8,
              "ticks": "outside",
              "tickwidth": 2
             }
            },
            "type": "scattercarpet"
           }
          ],
          "scattergeo": [
           {
            "marker": {
             "colorbar": {
              "outlinewidth": 0,
              "tickcolor": "rgb(36,36,36)",
              "ticklen": 8,
              "ticks": "outside",
              "tickwidth": 2
             }
            },
            "type": "scattergeo"
           }
          ],
          "scattergl": [
           {
            "marker": {
             "colorbar": {
              "outlinewidth": 0,
              "tickcolor": "rgb(36,36,36)",
              "ticklen": 8,
              "ticks": "outside",
              "tickwidth": 2
             }
            },
            "type": "scattergl"
           }
          ],
          "scattermapbox": [
           {
            "marker": {
             "colorbar": {
              "outlinewidth": 0,
              "tickcolor": "rgb(36,36,36)",
              "ticklen": 8,
              "ticks": "outside",
              "tickwidth": 2
             }
            },
            "type": "scattermapbox"
           }
          ],
          "scatterpolar": [
           {
            "marker": {
             "colorbar": {
              "outlinewidth": 0,
              "tickcolor": "rgb(36,36,36)",
              "ticklen": 8,
              "ticks": "outside",
              "tickwidth": 2
             }
            },
            "type": "scatterpolar"
           }
          ],
          "scatterpolargl": [
           {
            "marker": {
             "colorbar": {
              "outlinewidth": 0,
              "tickcolor": "rgb(36,36,36)",
              "ticklen": 8,
              "ticks": "outside",
              "tickwidth": 2
             }
            },
            "type": "scatterpolargl"
           }
          ],
          "scatterternary": [
           {
            "marker": {
             "colorbar": {
              "outlinewidth": 0,
              "tickcolor": "rgb(36,36,36)",
              "ticklen": 8,
              "ticks": "outside",
              "tickwidth": 2
             }
            },
            "type": "scatterternary"
           }
          ],
          "surface": [
           {
            "colorbar": {
             "outlinewidth": 0,
             "tickcolor": "rgb(36,36,36)",
             "ticklen": 8,
             "ticks": "outside",
             "tickwidth": 2
            },
            "colorscale": [
             [
              0,
              "rgb(2,4,25)"
             ],
             [
              0.06274509803921569,
              "rgb(24,15,41)"
             ],
             [
              0.12549019607843137,
              "rgb(47,23,57)"
             ],
             [
              0.18823529411764706,
              "rgb(71,28,72)"
             ],
             [
              0.25098039215686274,
              "rgb(97,30,82)"
             ],
             [
              0.3137254901960784,
              "rgb(123,30,89)"
             ],
             [
              0.3764705882352941,
              "rgb(150,27,91)"
             ],
             [
              0.4392156862745098,
              "rgb(177,22,88)"
             ],
             [
              0.5019607843137255,
              "rgb(203,26,79)"
             ],
             [
              0.5647058823529412,
              "rgb(223,47,67)"
             ],
             [
              0.6274509803921569,
              "rgb(236,76,61)"
             ],
             [
              0.6901960784313725,
              "rgb(242,107,73)"
             ],
             [
              0.7529411764705882,
              "rgb(244,135,95)"
             ],
             [
              0.8156862745098039,
              "rgb(245,162,122)"
             ],
             [
              0.8784313725490196,
              "rgb(246,188,153)"
             ],
             [
              0.9411764705882353,
              "rgb(247,212,187)"
             ],
             [
              1,
              "rgb(250,234,220)"
             ]
            ],
            "type": "surface"
           }
          ],
          "table": [
           {
            "cells": {
             "fill": {
              "color": "rgb(231,231,240)"
             },
             "line": {
              "color": "white"
             }
            },
            "header": {
             "fill": {
              "color": "rgb(183,183,191)"
             },
             "line": {
              "color": "white"
             }
            },
            "type": "table"
           }
          ]
         },
         "layout": {
          "annotationdefaults": {
           "arrowcolor": "rgb(67,103,167)"
          },
          "autotypenumbers": "strict",
          "coloraxis": {
           "colorbar": {
            "outlinewidth": 0,
            "tickcolor": "rgb(36,36,36)",
            "ticklen": 8,
            "ticks": "outside",
            "tickwidth": 2
           }
          },
          "colorscale": {
           "sequential": [
            [
             0,
             "rgb(2,4,25)"
            ],
            [
             0.06274509803921569,
             "rgb(24,15,41)"
            ],
            [
             0.12549019607843137,
             "rgb(47,23,57)"
            ],
            [
             0.18823529411764706,
             "rgb(71,28,72)"
            ],
            [
             0.25098039215686274,
             "rgb(97,30,82)"
            ],
            [
             0.3137254901960784,
             "rgb(123,30,89)"
            ],
            [
             0.3764705882352941,
             "rgb(150,27,91)"
            ],
            [
             0.4392156862745098,
             "rgb(177,22,88)"
            ],
            [
             0.5019607843137255,
             "rgb(203,26,79)"
            ],
            [
             0.5647058823529412,
             "rgb(223,47,67)"
            ],
            [
             0.6274509803921569,
             "rgb(236,76,61)"
            ],
            [
             0.6901960784313725,
             "rgb(242,107,73)"
            ],
            [
             0.7529411764705882,
             "rgb(244,135,95)"
            ],
            [
             0.8156862745098039,
             "rgb(245,162,122)"
            ],
            [
             0.8784313725490196,
             "rgb(246,188,153)"
            ],
            [
             0.9411764705882353,
             "rgb(247,212,187)"
            ],
            [
             1,
             "rgb(250,234,220)"
            ]
           ],
           "sequentialminus": [
            [
             0,
             "rgb(2,4,25)"
            ],
            [
             0.06274509803921569,
             "rgb(24,15,41)"
            ],
            [
             0.12549019607843137,
             "rgb(47,23,57)"
            ],
            [
             0.18823529411764706,
             "rgb(71,28,72)"
            ],
            [
             0.25098039215686274,
             "rgb(97,30,82)"
            ],
            [
             0.3137254901960784,
             "rgb(123,30,89)"
            ],
            [
             0.3764705882352941,
             "rgb(150,27,91)"
            ],
            [
             0.4392156862745098,
             "rgb(177,22,88)"
            ],
            [
             0.5019607843137255,
             "rgb(203,26,79)"
            ],
            [
             0.5647058823529412,
             "rgb(223,47,67)"
            ],
            [
             0.6274509803921569,
             "rgb(236,76,61)"
            ],
            [
             0.6901960784313725,
             "rgb(242,107,73)"
            ],
            [
             0.7529411764705882,
             "rgb(244,135,95)"
            ],
            [
             0.8156862745098039,
             "rgb(245,162,122)"
            ],
            [
             0.8784313725490196,
             "rgb(246,188,153)"
            ],
            [
             0.9411764705882353,
             "rgb(247,212,187)"
            ],
            [
             1,
             "rgb(250,234,220)"
            ]
           ]
          },
          "colorway": [
           "rgb(76,114,176)",
           "rgb(221,132,82)",
           "rgb(85,168,104)",
           "rgb(196,78,82)",
           "rgb(129,114,179)",
           "rgb(147,120,96)",
           "rgb(218,139,195)",
           "rgb(140,140,140)",
           "rgb(204,185,116)",
           "rgb(100,181,205)"
          ],
          "font": {
           "color": "rgb(36,36,36)"
          },
          "geo": {
           "bgcolor": "white",
           "lakecolor": "white",
           "landcolor": "rgb(234,234,242)",
           "showlakes": true,
           "showland": true,
           "subunitcolor": "white"
          },
          "hoverlabel": {
           "align": "left"
          },
          "hovermode": "closest",
          "paper_bgcolor": "white",
          "plot_bgcolor": "rgb(234,234,242)",
          "polar": {
           "angularaxis": {
            "gridcolor": "white",
            "linecolor": "white",
            "showgrid": true,
            "ticks": ""
           },
           "bgcolor": "rgb(234,234,242)",
           "radialaxis": {
            "gridcolor": "white",
            "linecolor": "white",
            "showgrid": true,
            "ticks": ""
           }
          },
          "scene": {
           "xaxis": {
            "backgroundcolor": "rgb(234,234,242)",
            "gridcolor": "white",
            "gridwidth": 2,
            "linecolor": "white",
            "showbackground": true,
            "showgrid": true,
            "ticks": "",
            "zerolinecolor": "white"
           },
           "yaxis": {
            "backgroundcolor": "rgb(234,234,242)",
            "gridcolor": "white",
            "gridwidth": 2,
            "linecolor": "white",
            "showbackground": true,
            "showgrid": true,
            "ticks": "",
            "zerolinecolor": "white"
           },
           "zaxis": {
            "backgroundcolor": "rgb(234,234,242)",
            "gridcolor": "white",
            "gridwidth": 2,
            "linecolor": "white",
            "showbackground": true,
            "showgrid": true,
            "ticks": "",
            "zerolinecolor": "white"
           }
          },
          "shapedefaults": {
           "fillcolor": "rgb(67,103,167)",
           "line": {
            "width": 0
           },
           "opacity": 0.5
          },
          "ternary": {
           "aaxis": {
            "gridcolor": "white",
            "linecolor": "white",
            "showgrid": true,
            "ticks": ""
           },
           "baxis": {
            "gridcolor": "white",
            "linecolor": "white",
            "showgrid": true,
            "ticks": ""
           },
           "bgcolor": "rgb(234,234,242)",
           "caxis": {
            "gridcolor": "white",
            "linecolor": "white",
            "showgrid": true,
            "ticks": ""
           }
          },
          "xaxis": {
           "automargin": true,
           "gridcolor": "white",
           "linecolor": "white",
           "showgrid": true,
           "ticks": "",
           "title": {
            "standoff": 15
           },
           "zerolinecolor": "white"
          },
          "yaxis": {
           "automargin": true,
           "gridcolor": "white",
           "linecolor": "white",
           "showgrid": true,
           "ticks": "",
           "title": {
            "standoff": 15
           },
           "zerolinecolor": "white"
          }
         }
        },
        "width": 800,
        "xaxis": {
         "anchor": "y",
         "domain": [
          0,
          1
         ],
         "title": {
          "text": "RMSE"
         }
        },
        "yaxis": {
         "anchor": "x",
         "domain": [
          0,
          1
         ],
         "title": {
          "text": "Models"
         }
        }
       }
      }
     },
     "metadata": {},
     "output_type": "display_data"
    }
   ],
   "source": [
    "\n",
    "fig = px.bar(\n",
    "    x=results.iloc[:9, 2].values,\n",
    "    y=models,\n",
    "    orientation='h',\n",
    "    color=results['RMSE'].iloc[:9],\n",
    "    color_continuous_scale='rdpu',  \n",
    "    template=\"seaborn\"\n",
    ")\n",
    "\n",
    "fig.update_layout(width=800, height=600,\n",
    "                 xaxis=dict(title='RMSE'),\n",
    "                 yaxis=dict(title=\"Models\"))\n",
    "\n",
    "fig.show()"
   ]
  },
  {
   "cell_type": "markdown",
   "metadata": {},
   "source": [
    "Adjusted R2"
   ]
  },
  {
   "cell_type": "code",
   "execution_count": 34,
   "metadata": {},
   "outputs": [
    {
     "data": {
      "application/vnd.plotly.v1+json": {
       "config": {
        "plotlyServerURL": "https://plot.ly"
       },
       "data": [
        {
         "alignmentgroup": "True",
         "hovertemplate": "x=%{x}<br>y=%{y}<br>color=%{marker.color}<extra></extra>",
         "legendgroup": "",
         "marker": {
          "color": [
           3.2840440277798937,
           3.145328400209045,
           2.0134053438678206,
           1.795654385397344,
           1.9660621932028415,
           1.7366502676612952,
           1.932500521462499,
           1.7880723578811073,
           1.8310402173876812
          ],
          "coloraxis": "coloraxis",
          "pattern": {
           "shape": ""
          }
         },
         "name": "",
         "offsetgroup": "",
         "orientation": "h",
         "showlegend": false,
         "textposition": "auto",
         "type": "bar",
         "x": [
          104.63924500884322,
          98.14624463065236,
          46.49977615979706,
          36.397615329047674,
          44.313175892772016,
          33.808650811620225,
          42.78340946777334,
          36.13658935920952,
          38.062517041490906
         ],
         "xaxis": "x",
         "y": [
          "LinearRegression",
          "DecisionTree",
          "XGBoost",
          "LGBM",
          "AdaBoost",
          "Catboost",
          "RandomForest",
          "Ensemble",
          "GradientBoostings"
         ],
         "yaxis": "y"
        }
       ],
       "layout": {
        "barmode": "relative",
        "coloraxis": {
         "colorbar": {
          "title": {
           "text": "color"
          }
         },
         "colorscale": [
          [
           0,
           "rgb(255,247,243)"
          ],
          [
           0.125,
           "rgb(253,224,221)"
          ],
          [
           0.25,
           "rgb(252,197,192)"
          ],
          [
           0.375,
           "rgb(250,159,181)"
          ],
          [
           0.5,
           "rgb(247,104,161)"
          ],
          [
           0.625,
           "rgb(221,52,151)"
          ],
          [
           0.75,
           "rgb(174,1,126)"
          ],
          [
           0.875,
           "rgb(122,1,119)"
          ],
          [
           1,
           "rgb(73,0,106)"
          ]
         ]
        },
        "height": 600,
        "legend": {
         "tracegroupgap": 0
        },
        "margin": {
         "t": 60
        },
        "template": {
         "data": {
          "bar": [
           {
            "error_x": {
             "color": "rgb(36,36,36)"
            },
            "error_y": {
             "color": "rgb(36,36,36)"
            },
            "marker": {
             "line": {
              "color": "rgb(234,234,242)",
              "width": 0.5
             },
             "pattern": {
              "fillmode": "overlay",
              "size": 10,
              "solidity": 0.2
             }
            },
            "type": "bar"
           }
          ],
          "barpolar": [
           {
            "marker": {
             "line": {
              "color": "rgb(234,234,242)",
              "width": 0.5
             },
             "pattern": {
              "fillmode": "overlay",
              "size": 10,
              "solidity": 0.2
             }
            },
            "type": "barpolar"
           }
          ],
          "carpet": [
           {
            "aaxis": {
             "endlinecolor": "rgb(36,36,36)",
             "gridcolor": "white",
             "linecolor": "white",
             "minorgridcolor": "white",
             "startlinecolor": "rgb(36,36,36)"
            },
            "baxis": {
             "endlinecolor": "rgb(36,36,36)",
             "gridcolor": "white",
             "linecolor": "white",
             "minorgridcolor": "white",
             "startlinecolor": "rgb(36,36,36)"
            },
            "type": "carpet"
           }
          ],
          "choropleth": [
           {
            "colorbar": {
             "outlinewidth": 0,
             "tickcolor": "rgb(36,36,36)",
             "ticklen": 8,
             "ticks": "outside",
             "tickwidth": 2
            },
            "type": "choropleth"
           }
          ],
          "contour": [
           {
            "colorbar": {
             "outlinewidth": 0,
             "tickcolor": "rgb(36,36,36)",
             "ticklen": 8,
             "ticks": "outside",
             "tickwidth": 2
            },
            "colorscale": [
             [
              0,
              "rgb(2,4,25)"
             ],
             [
              0.06274509803921569,
              "rgb(24,15,41)"
             ],
             [
              0.12549019607843137,
              "rgb(47,23,57)"
             ],
             [
              0.18823529411764706,
              "rgb(71,28,72)"
             ],
             [
              0.25098039215686274,
              "rgb(97,30,82)"
             ],
             [
              0.3137254901960784,
              "rgb(123,30,89)"
             ],
             [
              0.3764705882352941,
              "rgb(150,27,91)"
             ],
             [
              0.4392156862745098,
              "rgb(177,22,88)"
             ],
             [
              0.5019607843137255,
              "rgb(203,26,79)"
             ],
             [
              0.5647058823529412,
              "rgb(223,47,67)"
             ],
             [
              0.6274509803921569,
              "rgb(236,76,61)"
             ],
             [
              0.6901960784313725,
              "rgb(242,107,73)"
             ],
             [
              0.7529411764705882,
              "rgb(244,135,95)"
             ],
             [
              0.8156862745098039,
              "rgb(245,162,122)"
             ],
             [
              0.8784313725490196,
              "rgb(246,188,153)"
             ],
             [
              0.9411764705882353,
              "rgb(247,212,187)"
             ],
             [
              1,
              "rgb(250,234,220)"
             ]
            ],
            "type": "contour"
           }
          ],
          "contourcarpet": [
           {
            "colorbar": {
             "outlinewidth": 0,
             "tickcolor": "rgb(36,36,36)",
             "ticklen": 8,
             "ticks": "outside",
             "tickwidth": 2
            },
            "type": "contourcarpet"
           }
          ],
          "heatmap": [
           {
            "colorbar": {
             "outlinewidth": 0,
             "tickcolor": "rgb(36,36,36)",
             "ticklen": 8,
             "ticks": "outside",
             "tickwidth": 2
            },
            "colorscale": [
             [
              0,
              "rgb(2,4,25)"
             ],
             [
              0.06274509803921569,
              "rgb(24,15,41)"
             ],
             [
              0.12549019607843137,
              "rgb(47,23,57)"
             ],
             [
              0.18823529411764706,
              "rgb(71,28,72)"
             ],
             [
              0.25098039215686274,
              "rgb(97,30,82)"
             ],
             [
              0.3137254901960784,
              "rgb(123,30,89)"
             ],
             [
              0.3764705882352941,
              "rgb(150,27,91)"
             ],
             [
              0.4392156862745098,
              "rgb(177,22,88)"
             ],
             [
              0.5019607843137255,
              "rgb(203,26,79)"
             ],
             [
              0.5647058823529412,
              "rgb(223,47,67)"
             ],
             [
              0.6274509803921569,
              "rgb(236,76,61)"
             ],
             [
              0.6901960784313725,
              "rgb(242,107,73)"
             ],
             [
              0.7529411764705882,
              "rgb(244,135,95)"
             ],
             [
              0.8156862745098039,
              "rgb(245,162,122)"
             ],
             [
              0.8784313725490196,
              "rgb(246,188,153)"
             ],
             [
              0.9411764705882353,
              "rgb(247,212,187)"
             ],
             [
              1,
              "rgb(250,234,220)"
             ]
            ],
            "type": "heatmap"
           }
          ],
          "heatmapgl": [
           {
            "colorbar": {
             "outlinewidth": 0,
             "tickcolor": "rgb(36,36,36)",
             "ticklen": 8,
             "ticks": "outside",
             "tickwidth": 2
            },
            "colorscale": [
             [
              0,
              "rgb(2,4,25)"
             ],
             [
              0.06274509803921569,
              "rgb(24,15,41)"
             ],
             [
              0.12549019607843137,
              "rgb(47,23,57)"
             ],
             [
              0.18823529411764706,
              "rgb(71,28,72)"
             ],
             [
              0.25098039215686274,
              "rgb(97,30,82)"
             ],
             [
              0.3137254901960784,
              "rgb(123,30,89)"
             ],
             [
              0.3764705882352941,
              "rgb(150,27,91)"
             ],
             [
              0.4392156862745098,
              "rgb(177,22,88)"
             ],
             [
              0.5019607843137255,
              "rgb(203,26,79)"
             ],
             [
              0.5647058823529412,
              "rgb(223,47,67)"
             ],
             [
              0.6274509803921569,
              "rgb(236,76,61)"
             ],
             [
              0.6901960784313725,
              "rgb(242,107,73)"
             ],
             [
              0.7529411764705882,
              "rgb(244,135,95)"
             ],
             [
              0.8156862745098039,
              "rgb(245,162,122)"
             ],
             [
              0.8784313725490196,
              "rgb(246,188,153)"
             ],
             [
              0.9411764705882353,
              "rgb(247,212,187)"
             ],
             [
              1,
              "rgb(250,234,220)"
             ]
            ],
            "type": "heatmapgl"
           }
          ],
          "histogram": [
           {
            "marker": {
             "pattern": {
              "fillmode": "overlay",
              "size": 10,
              "solidity": 0.2
             }
            },
            "type": "histogram"
           }
          ],
          "histogram2d": [
           {
            "colorbar": {
             "outlinewidth": 0,
             "tickcolor": "rgb(36,36,36)",
             "ticklen": 8,
             "ticks": "outside",
             "tickwidth": 2
            },
            "colorscale": [
             [
              0,
              "rgb(2,4,25)"
             ],
             [
              0.06274509803921569,
              "rgb(24,15,41)"
             ],
             [
              0.12549019607843137,
              "rgb(47,23,57)"
             ],
             [
              0.18823529411764706,
              "rgb(71,28,72)"
             ],
             [
              0.25098039215686274,
              "rgb(97,30,82)"
             ],
             [
              0.3137254901960784,
              "rgb(123,30,89)"
             ],
             [
              0.3764705882352941,
              "rgb(150,27,91)"
             ],
             [
              0.4392156862745098,
              "rgb(177,22,88)"
             ],
             [
              0.5019607843137255,
              "rgb(203,26,79)"
             ],
             [
              0.5647058823529412,
              "rgb(223,47,67)"
             ],
             [
              0.6274509803921569,
              "rgb(236,76,61)"
             ],
             [
              0.6901960784313725,
              "rgb(242,107,73)"
             ],
             [
              0.7529411764705882,
              "rgb(244,135,95)"
             ],
             [
              0.8156862745098039,
              "rgb(245,162,122)"
             ],
             [
              0.8784313725490196,
              "rgb(246,188,153)"
             ],
             [
              0.9411764705882353,
              "rgb(247,212,187)"
             ],
             [
              1,
              "rgb(250,234,220)"
             ]
            ],
            "type": "histogram2d"
           }
          ],
          "histogram2dcontour": [
           {
            "colorbar": {
             "outlinewidth": 0,
             "tickcolor": "rgb(36,36,36)",
             "ticklen": 8,
             "ticks": "outside",
             "tickwidth": 2
            },
            "colorscale": [
             [
              0,
              "rgb(2,4,25)"
             ],
             [
              0.06274509803921569,
              "rgb(24,15,41)"
             ],
             [
              0.12549019607843137,
              "rgb(47,23,57)"
             ],
             [
              0.18823529411764706,
              "rgb(71,28,72)"
             ],
             [
              0.25098039215686274,
              "rgb(97,30,82)"
             ],
             [
              0.3137254901960784,
              "rgb(123,30,89)"
             ],
             [
              0.3764705882352941,
              "rgb(150,27,91)"
             ],
             [
              0.4392156862745098,
              "rgb(177,22,88)"
             ],
             [
              0.5019607843137255,
              "rgb(203,26,79)"
             ],
             [
              0.5647058823529412,
              "rgb(223,47,67)"
             ],
             [
              0.6274509803921569,
              "rgb(236,76,61)"
             ],
             [
              0.6901960784313725,
              "rgb(242,107,73)"
             ],
             [
              0.7529411764705882,
              "rgb(244,135,95)"
             ],
             [
              0.8156862745098039,
              "rgb(245,162,122)"
             ],
             [
              0.8784313725490196,
              "rgb(246,188,153)"
             ],
             [
              0.9411764705882353,
              "rgb(247,212,187)"
             ],
             [
              1,
              "rgb(250,234,220)"
             ]
            ],
            "type": "histogram2dcontour"
           }
          ],
          "mesh3d": [
           {
            "colorbar": {
             "outlinewidth": 0,
             "tickcolor": "rgb(36,36,36)",
             "ticklen": 8,
             "ticks": "outside",
             "tickwidth": 2
            },
            "type": "mesh3d"
           }
          ],
          "parcoords": [
           {
            "line": {
             "colorbar": {
              "outlinewidth": 0,
              "tickcolor": "rgb(36,36,36)",
              "ticklen": 8,
              "ticks": "outside",
              "tickwidth": 2
             }
            },
            "type": "parcoords"
           }
          ],
          "pie": [
           {
            "automargin": true,
            "type": "pie"
           }
          ],
          "scatter": [
           {
            "fillpattern": {
             "fillmode": "overlay",
             "size": 10,
             "solidity": 0.2
            },
            "type": "scatter"
           }
          ],
          "scatter3d": [
           {
            "line": {
             "colorbar": {
              "outlinewidth": 0,
              "tickcolor": "rgb(36,36,36)",
              "ticklen": 8,
              "ticks": "outside",
              "tickwidth": 2
             }
            },
            "marker": {
             "colorbar": {
              "outlinewidth": 0,
              "tickcolor": "rgb(36,36,36)",
              "ticklen": 8,
              "ticks": "outside",
              "tickwidth": 2
             }
            },
            "type": "scatter3d"
           }
          ],
          "scattercarpet": [
           {
            "marker": {
             "colorbar": {
              "outlinewidth": 0,
              "tickcolor": "rgb(36,36,36)",
              "ticklen": 8,
              "ticks": "outside",
              "tickwidth": 2
             }
            },
            "type": "scattercarpet"
           }
          ],
          "scattergeo": [
           {
            "marker": {
             "colorbar": {
              "outlinewidth": 0,
              "tickcolor": "rgb(36,36,36)",
              "ticklen": 8,
              "ticks": "outside",
              "tickwidth": 2
             }
            },
            "type": "scattergeo"
           }
          ],
          "scattergl": [
           {
            "marker": {
             "colorbar": {
              "outlinewidth": 0,
              "tickcolor": "rgb(36,36,36)",
              "ticklen": 8,
              "ticks": "outside",
              "tickwidth": 2
             }
            },
            "type": "scattergl"
           }
          ],
          "scattermapbox": [
           {
            "marker": {
             "colorbar": {
              "outlinewidth": 0,
              "tickcolor": "rgb(36,36,36)",
              "ticklen": 8,
              "ticks": "outside",
              "tickwidth": 2
             }
            },
            "type": "scattermapbox"
           }
          ],
          "scatterpolar": [
           {
            "marker": {
             "colorbar": {
              "outlinewidth": 0,
              "tickcolor": "rgb(36,36,36)",
              "ticklen": 8,
              "ticks": "outside",
              "tickwidth": 2
             }
            },
            "type": "scatterpolar"
           }
          ],
          "scatterpolargl": [
           {
            "marker": {
             "colorbar": {
              "outlinewidth": 0,
              "tickcolor": "rgb(36,36,36)",
              "ticklen": 8,
              "ticks": "outside",
              "tickwidth": 2
             }
            },
            "type": "scatterpolargl"
           }
          ],
          "scatterternary": [
           {
            "marker": {
             "colorbar": {
              "outlinewidth": 0,
              "tickcolor": "rgb(36,36,36)",
              "ticklen": 8,
              "ticks": "outside",
              "tickwidth": 2
             }
            },
            "type": "scatterternary"
           }
          ],
          "surface": [
           {
            "colorbar": {
             "outlinewidth": 0,
             "tickcolor": "rgb(36,36,36)",
             "ticklen": 8,
             "ticks": "outside",
             "tickwidth": 2
            },
            "colorscale": [
             [
              0,
              "rgb(2,4,25)"
             ],
             [
              0.06274509803921569,
              "rgb(24,15,41)"
             ],
             [
              0.12549019607843137,
              "rgb(47,23,57)"
             ],
             [
              0.18823529411764706,
              "rgb(71,28,72)"
             ],
             [
              0.25098039215686274,
              "rgb(97,30,82)"
             ],
             [
              0.3137254901960784,
              "rgb(123,30,89)"
             ],
             [
              0.3764705882352941,
              "rgb(150,27,91)"
             ],
             [
              0.4392156862745098,
              "rgb(177,22,88)"
             ],
             [
              0.5019607843137255,
              "rgb(203,26,79)"
             ],
             [
              0.5647058823529412,
              "rgb(223,47,67)"
             ],
             [
              0.6274509803921569,
              "rgb(236,76,61)"
             ],
             [
              0.6901960784313725,
              "rgb(242,107,73)"
             ],
             [
              0.7529411764705882,
              "rgb(244,135,95)"
             ],
             [
              0.8156862745098039,
              "rgb(245,162,122)"
             ],
             [
              0.8784313725490196,
              "rgb(246,188,153)"
             ],
             [
              0.9411764705882353,
              "rgb(247,212,187)"
             ],
             [
              1,
              "rgb(250,234,220)"
             ]
            ],
            "type": "surface"
           }
          ],
          "table": [
           {
            "cells": {
             "fill": {
              "color": "rgb(231,231,240)"
             },
             "line": {
              "color": "white"
             }
            },
            "header": {
             "fill": {
              "color": "rgb(183,183,191)"
             },
             "line": {
              "color": "white"
             }
            },
            "type": "table"
           }
          ]
         },
         "layout": {
          "annotationdefaults": {
           "arrowcolor": "rgb(67,103,167)"
          },
          "autotypenumbers": "strict",
          "coloraxis": {
           "colorbar": {
            "outlinewidth": 0,
            "tickcolor": "rgb(36,36,36)",
            "ticklen": 8,
            "ticks": "outside",
            "tickwidth": 2
           }
          },
          "colorscale": {
           "sequential": [
            [
             0,
             "rgb(2,4,25)"
            ],
            [
             0.06274509803921569,
             "rgb(24,15,41)"
            ],
            [
             0.12549019607843137,
             "rgb(47,23,57)"
            ],
            [
             0.18823529411764706,
             "rgb(71,28,72)"
            ],
            [
             0.25098039215686274,
             "rgb(97,30,82)"
            ],
            [
             0.3137254901960784,
             "rgb(123,30,89)"
            ],
            [
             0.3764705882352941,
             "rgb(150,27,91)"
            ],
            [
             0.4392156862745098,
             "rgb(177,22,88)"
            ],
            [
             0.5019607843137255,
             "rgb(203,26,79)"
            ],
            [
             0.5647058823529412,
             "rgb(223,47,67)"
            ],
            [
             0.6274509803921569,
             "rgb(236,76,61)"
            ],
            [
             0.6901960784313725,
             "rgb(242,107,73)"
            ],
            [
             0.7529411764705882,
             "rgb(244,135,95)"
            ],
            [
             0.8156862745098039,
             "rgb(245,162,122)"
            ],
            [
             0.8784313725490196,
             "rgb(246,188,153)"
            ],
            [
             0.9411764705882353,
             "rgb(247,212,187)"
            ],
            [
             1,
             "rgb(250,234,220)"
            ]
           ],
           "sequentialminus": [
            [
             0,
             "rgb(2,4,25)"
            ],
            [
             0.06274509803921569,
             "rgb(24,15,41)"
            ],
            [
             0.12549019607843137,
             "rgb(47,23,57)"
            ],
            [
             0.18823529411764706,
             "rgb(71,28,72)"
            ],
            [
             0.25098039215686274,
             "rgb(97,30,82)"
            ],
            [
             0.3137254901960784,
             "rgb(123,30,89)"
            ],
            [
             0.3764705882352941,
             "rgb(150,27,91)"
            ],
            [
             0.4392156862745098,
             "rgb(177,22,88)"
            ],
            [
             0.5019607843137255,
             "rgb(203,26,79)"
            ],
            [
             0.5647058823529412,
             "rgb(223,47,67)"
            ],
            [
             0.6274509803921569,
             "rgb(236,76,61)"
            ],
            [
             0.6901960784313725,
             "rgb(242,107,73)"
            ],
            [
             0.7529411764705882,
             "rgb(244,135,95)"
            ],
            [
             0.8156862745098039,
             "rgb(245,162,122)"
            ],
            [
             0.8784313725490196,
             "rgb(246,188,153)"
            ],
            [
             0.9411764705882353,
             "rgb(247,212,187)"
            ],
            [
             1,
             "rgb(250,234,220)"
            ]
           ]
          },
          "colorway": [
           "rgb(76,114,176)",
           "rgb(221,132,82)",
           "rgb(85,168,104)",
           "rgb(196,78,82)",
           "rgb(129,114,179)",
           "rgb(147,120,96)",
           "rgb(218,139,195)",
           "rgb(140,140,140)",
           "rgb(204,185,116)",
           "rgb(100,181,205)"
          ],
          "font": {
           "color": "rgb(36,36,36)"
          },
          "geo": {
           "bgcolor": "white",
           "lakecolor": "white",
           "landcolor": "rgb(234,234,242)",
           "showlakes": true,
           "showland": true,
           "subunitcolor": "white"
          },
          "hoverlabel": {
           "align": "left"
          },
          "hovermode": "closest",
          "paper_bgcolor": "white",
          "plot_bgcolor": "rgb(234,234,242)",
          "polar": {
           "angularaxis": {
            "gridcolor": "white",
            "linecolor": "white",
            "showgrid": true,
            "ticks": ""
           },
           "bgcolor": "rgb(234,234,242)",
           "radialaxis": {
            "gridcolor": "white",
            "linecolor": "white",
            "showgrid": true,
            "ticks": ""
           }
          },
          "scene": {
           "xaxis": {
            "backgroundcolor": "rgb(234,234,242)",
            "gridcolor": "white",
            "gridwidth": 2,
            "linecolor": "white",
            "showbackground": true,
            "showgrid": true,
            "ticks": "",
            "zerolinecolor": "white"
           },
           "yaxis": {
            "backgroundcolor": "rgb(234,234,242)",
            "gridcolor": "white",
            "gridwidth": 2,
            "linecolor": "white",
            "showbackground": true,
            "showgrid": true,
            "ticks": "",
            "zerolinecolor": "white"
           },
           "zaxis": {
            "backgroundcolor": "rgb(234,234,242)",
            "gridcolor": "white",
            "gridwidth": 2,
            "linecolor": "white",
            "showbackground": true,
            "showgrid": true,
            "ticks": "",
            "zerolinecolor": "white"
           }
          },
          "shapedefaults": {
           "fillcolor": "rgb(67,103,167)",
           "line": {
            "width": 0
           },
           "opacity": 0.5
          },
          "ternary": {
           "aaxis": {
            "gridcolor": "white",
            "linecolor": "white",
            "showgrid": true,
            "ticks": ""
           },
           "baxis": {
            "gridcolor": "white",
            "linecolor": "white",
            "showgrid": true,
            "ticks": ""
           },
           "bgcolor": "rgb(234,234,242)",
           "caxis": {
            "gridcolor": "white",
            "linecolor": "white",
            "showgrid": true,
            "ticks": ""
           }
          },
          "xaxis": {
           "automargin": true,
           "gridcolor": "white",
           "linecolor": "white",
           "showgrid": true,
           "ticks": "",
           "title": {
            "standoff": 15
           },
           "zerolinecolor": "white"
          },
          "yaxis": {
           "automargin": true,
           "gridcolor": "white",
           "linecolor": "white",
           "showgrid": true,
           "ticks": "",
           "title": {
            "standoff": 15
           },
           "zerolinecolor": "white"
          }
         }
        },
        "width": 800,
        "xaxis": {
         "anchor": "y",
         "domain": [
          0,
          1
         ],
         "title": {
          "text": "Adjusted_R_squared"
         }
        },
        "yaxis": {
         "anchor": "x",
         "domain": [
          0,
          1
         ],
         "title": {
          "text": "Models"
         }
        }
       }
      }
     },
     "metadata": {},
     "output_type": "display_data"
    }
   ],
   "source": [
    "\n",
    "fig = px.bar(\n",
    "    x=results.iloc[:9, 2].values,\n",
    "    y=models,\n",
    "    orientation='h',\n",
    "    color=results['Adjusted_R_squared'].iloc[:9],\n",
    "    color_continuous_scale='rdpu',  \n",
    "    template=\"seaborn\"\n",
    ")\n",
    "\n",
    "fig.update_layout(width=800, height=600,\n",
    "                 xaxis=dict(title='Adjusted_R_squared'),\n",
    "                 yaxis=dict(title=\"Models\"))\n",
    "\n",
    "fig.show()"
   ]
  },
  {
   "cell_type": "markdown",
   "metadata": {},
   "source": [
    "Hyperparameter Tuning & Saving Best Model"
   ]
  },
  {
   "cell_type": "code",
   "execution_count": 35,
   "metadata": {},
   "outputs": [],
   "source": [
    "# from sklearn.model_selection import GridSearchCV, RandomizedSearchCV\n",
    "# from sklearn.ensemble import GradientBoostingRegressor, RandomForestRegressor\n",
    "# from catboost import CatBoostRegressor\n",
    "# from xgboost import XGBRegressor\n",
    "# from lightgbm import LGBMRegressor\n",
    "# import joblib  # For saving the best model\n",
    "\n",
    "# # Define a dictionary with model classes and their respective parameter grids\n",
    "# model_param_grid = {\n",
    "#     'CatBoostRegressor': {\n",
    "#         'model': CatBoostRegressor(),\n",
    "#         'params': {\n",
    "#             'depth': [4, 6],\n",
    "#             'learning_rate': [0.01, 0.1]\n",
    "#             # 'iterations': [100, 200, 500]\n",
    "#         }}\n",
    "#     # },\n",
    "#     # 'XGBRegressor': {\n",
    "#     #     'model': XGBRegressor(),\n",
    "#     #     'params': {\n",
    "#     #         'max_depth': [3, 5, 7],\n",
    "#     #         'learning_rate': [0.01, 0.1, 0.2],\n",
    "#     #         'n_estimators': [100, 200, 300],\n",
    "#     #         'min_child_weight': [1, 3, 5]\n",
    "#     #     }\n",
    "#     # },\n",
    "#     # 'GradientBoostingRegressor': {\n",
    "#     #     'model': GradientBoostingRegressor(),\n",
    "#     #     'params': {\n",
    "#     #         'n_estimators': [100, 200, 300],\n",
    "#     #         'learning_rate': [0.01, 0.1, 0.2],\n",
    "#     #         'max_depth': [3, 5, 7]\n",
    "#     #     }\n",
    "#     # },\n",
    "#     # 'LGBMRegressor': {\n",
    "#     #     'model': LGBMRegressor(),\n",
    "#     #     'params': {\n",
    "#     #         'num_leaves': [31, 62, 127],\n",
    "#     #         'learning_rate': [0.01, 0.1, 0.2],\n",
    "#     #         'n_estimators': [100, 200, 300]\n",
    "#     #     }\n",
    "#     # },\n",
    "#     # 'RandomForestRegressor': {\n",
    "#     #     'model': RandomForestRegressor(),\n",
    "#     #     'params': {\n",
    "#     #         'n_estimators': [100, 200, 300],\n",
    "#     #         'max_depth': [None, 10, 20]\n",
    "#     #     }\n",
    "#     # }\n",
    "# }\n",
    "\n",
    "# def perform_hyperparameter_tuning(X, y, model_param_grid, cv=5, n_iter=10, search_type='grid'):\n",
    "#     best_models = {}\n",
    "#     for model_name, model_info in model_param_grid.items():\n",
    "#         print(f\"Tuning hyperparameters for {model_name}...\")\n",
    "        \n",
    "#         if search_type == 'grid':\n",
    "#             search = GridSearchCV(model_info['model'], model_info['params'], cv=cv, n_jobs=-1, verbose=1)\n",
    "#         elif search_type == 'random':\n",
    "#             search = RandomizedSearchCV(model_info['model'], model_info['params'], cv=cv, n_iter=n_iter, n_jobs=-1, verbose=1, random_state=42)\n",
    "#         else:\n",
    "#             raise ValueError(\"search_type must be 'grid' or 'random'\")\n",
    "        \n",
    "#         search.fit(X, y)\n",
    "        \n",
    "#         best_models[model_name] = search.best_estimator_\n",
    "#         print(f\"Best parameters for {model_name}: {search.best_params_}\")\n",
    "\n",
    "#         # Save the best model\n",
    "#         joblib.dump(search.best_estimator_, f\"{model_name}Soy_best_model.joblib\")\n",
    "#         print(f\"Saved the best model for {model_name} as {model_name}Soy_best_model.joblib\")\n",
    "    \n",
    "#     return best_models\n"
   ]
  },
  {
   "cell_type": "code",
   "execution_count": 36,
   "metadata": {},
   "outputs": [],
   "source": [
    "# soy_model = perform_hyperparameter_tuning(X_soy_scaled, y_soybean, model_param_grid, cv=5, n_iter=10, search_type='grid')"
   ]
  }
 ],
 "metadata": {
  "kernelspec": {
   "display_name": "base",
   "language": "python",
   "name": "python3"
  },
  "language_info": {
   "codemirror_mode": {
    "name": "ipython",
    "version": 3
   },
   "file_extension": ".py",
   "mimetype": "text/x-python",
   "name": "python",
   "nbconvert_exporter": "python",
   "pygments_lexer": "ipython3",
   "version": "3.11.5"
  }
 },
 "nbformat": 4,
 "nbformat_minor": 2
}
